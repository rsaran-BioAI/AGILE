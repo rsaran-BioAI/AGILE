{
  "nbformat": 4,
  "nbformat_minor": 0,
  "metadata": {
    "colab": {
      "provenance": [],
      "authorship_tag": "ABX9TyM2ErqvouTc6E/c6fCH6s+n",
      "include_colab_link": true
    },
    "kernelspec": {
      "name": "python3",
      "display_name": "Python 3"
    },
    "language_info": {
      "name": "python"
    }
  },
  "cells": [
    {
      "cell_type": "markdown",
      "metadata": {
        "id": "view-in-github",
        "colab_type": "text"
      },
      "source": [
        "<a href=\"https://colab.research.google.com/github/rsaran-BioAI/AGILE/blob/main/FashionMNIST_GAN.ipynb\" target=\"_parent\"><img src=\"https://colab.research.google.com/assets/colab-badge.svg\" alt=\"Open In Colab\"/></a>"
      ]
    },
    {
      "cell_type": "code",
      "execution_count": 9,
      "metadata": {
        "id": "nG_2NlsteDBr"
      },
      "outputs": [],
      "source": [
        "import torch\n",
        "import torch.nn as nn\n",
        "import torch.optim as optim\n",
        "from torchvision import datasets, transforms\n",
        "import matplotlib.pyplot as plt\n",
        "import numpy as np"
      ]
    },
    {
      "cell_type": "code",
      "source": [
        "# Set random seed for reproducibility\n",
        "torch.manual_seed(42)\n",
        "np.random.seed(42)"
      ],
      "metadata": {
        "id": "ErtiKLg2eMG8"
      },
      "execution_count": 6,
      "outputs": []
    },
    {
      "cell_type": "markdown",
      "source": [
        "Why Setting Random Seeds Is Important:\n",
        "\n",
        "When training machine learning models, especially neural networks, randomness plays a role in several aspects, such as weight initialization, data shuffling, dropout, and more.\n",
        "Without setting random seeds, each run of your code may produce slightly different results due to the inherent randomness, making it difficult to reproduce and compare experiments.\n",
        "By setting the seeds as shown in the code, you make your experiments reproducible. That is, if you run the code with the same seeds on the same data, you should get the same results, which is crucial for research, debugging, and sharing code with others."
      ],
      "metadata": {
        "id": "cXO8sMVteREY"
      }
    },
    {
      "cell_type": "code",
      "source": [
        "# Define the Generator network:\n",
        "class Generator(nn.Module): # This line defines a Python class named Generator that inherits from nn.Module, which is the base class for all PyTorch neural network modules\n",
        "    def __init__(self): #  In the constructor '__init__' of the Generator class, a fully connected (linear) layer is defined.\n",
        "        super(Generator, self).__init__()\n",
        "        self.fc1 = nn.Linear(100, 256)\n",
        "        self.fc2 = nn.Linear(256, 512)\n",
        "        self.fc3 = nn.Linear(512, 784)  # 28x28 output\n",
        "\n",
        "    def forward(self, z):\n",
        "        x = torch.relu(self.fc1(z))\n",
        "        x = torch.relu(self.fc2(x))\n",
        "        x = torch.sigmoid(self.fc3(x))\n",
        "        return x"
      ],
      "metadata": {
        "id": "rJhSkvgieZML"
      },
      "execution_count": 7,
      "outputs": []
    },
    {
      "cell_type": "code",
      "source": [
        "# Define the Discriminator network:\n",
        "class Discriminator(nn.Module):\n",
        "    def __init__(self):\n",
        "        super(Discriminator, self).__init__()\n",
        "        self.fc1 = nn.Linear(784, 512)\n",
        "        self.fc2 = nn.Linear(512, 256)\n",
        "        self.fc3 = nn.Linear(256, 1)  # Binary classification output\n",
        "\n",
        "    def forward(self, x):\n",
        "        x = torch.relu(self.fc1(x))\n",
        "        x = torch.relu(self.fc2(x))\n",
        "        x = torch.sigmoid(self.fc3(x))\n",
        "        return x"
      ],
      "metadata": {
        "id": "LXWfKmOxefTC"
      },
      "execution_count": 8,
      "outputs": []
    },
    {
      "cell_type": "code",
      "source": [],
      "metadata": {
        "id": "xcymm89oMxbc"
      },
      "execution_count": null,
      "outputs": []
    }
  ]
}