{
  "nbformat": 4,
  "nbformat_minor": 0,
  "metadata": {
    "colab": {
      "provenance": [],
      "authorship_tag": "ABX9TyPxKWxclsyuUm2WQh2nGZAz",
      "include_colab_link": true
    },
    "kernelspec": {
      "name": "python3",
      "display_name": "Python 3"
    },
    "language_info": {
      "name": "python"
    }
  },
  "cells": [
    {
      "cell_type": "markdown",
      "metadata": {
        "id": "view-in-github",
        "colab_type": "text"
      },
      "source": [
        "<a href=\"https://colab.research.google.com/github/rsaran-BioAI/AGILE/blob/main/SMILES_GraphRep_VAE.ipynb\" target=\"_parent\"><img src=\"https://colab.research.google.com/assets/colab-badge.svg\" alt=\"Open In Colab\"/></a>"
      ]
    },
    {
      "cell_type": "code",
      "execution_count": 1,
      "metadata": {
        "colab": {
          "base_uri": "https://localhost:8080/"
        },
        "id": "oWhC8JskwLZq",
        "outputId": "fd832acf-7471-45a6-c025-d7b3eff51d31"
      },
      "outputs": [
        {
          "output_type": "stream",
          "name": "stdout",
          "text": [
            "Mounted at /content/drive\n"
          ]
        }
      ],
      "source": [
        "# Connecting the drive with Colab\n",
        "\n",
        "from google.colab import drive\n",
        "drive.mount('/content/drive')"
      ]
    },
    {
      "cell_type": "code",
      "source": [
        "!pip install rdkit"
      ],
      "metadata": {
        "colab": {
          "base_uri": "https://localhost:8080/"
        },
        "id": "03ZtXVbJxAUe",
        "outputId": "9f39683e-a09d-4248-f682-9e610b708008"
      },
      "execution_count": 2,
      "outputs": [
        {
          "output_type": "stream",
          "name": "stdout",
          "text": [
            "Collecting rdkit\n",
            "  Downloading rdkit-2023.9.1-cp310-cp310-manylinux_2_17_x86_64.manylinux2014_x86_64.whl (30.5 MB)\n",
            "\u001b[2K     \u001b[90m━━━━━━━━━━━━━━━━━━━━━━━━━━━━━━━━━━━━━━━━\u001b[0m \u001b[32m30.5/30.5 MB\u001b[0m \u001b[31m42.3 MB/s\u001b[0m eta \u001b[36m0:00:00\u001b[0m\n",
            "\u001b[?25hRequirement already satisfied: numpy in /usr/local/lib/python3.10/dist-packages (from rdkit) (1.23.5)\n",
            "Requirement already satisfied: Pillow in /usr/local/lib/python3.10/dist-packages (from rdkit) (9.4.0)\n",
            "Installing collected packages: rdkit\n",
            "Successfully installed rdkit-2023.9.1\n"
          ]
        }
      ]
    },
    {
      "cell_type": "code",
      "source": [
        "from rdkit import Chem\n",
        "from rdkit.Chem import Draw\n",
        "import torch\n",
        "import numpy as np\n",
        "import pandas as pd"
      ],
      "metadata": {
        "id": "Gea0rRztwWbk"
      },
      "execution_count": 8,
      "outputs": []
    },
    {
      "cell_type": "code",
      "source": [
        "!pip install torch_geometric"
      ],
      "metadata": {
        "colab": {
          "base_uri": "https://localhost:8080/"
        },
        "id": "mGFSDPaNyXUj",
        "outputId": "bdc8168d-fb00-4d35-af6f-d6fdb8592b0b"
      },
      "execution_count": 17,
      "outputs": [
        {
          "output_type": "stream",
          "name": "stdout",
          "text": [
            "Collecting torch_geometric\n",
            "  Downloading torch_geometric-2.4.0-py3-none-any.whl (1.0 MB)\n",
            "\u001b[2K     \u001b[90m━━━━━━━━━━━━━━━━━━━━━━━━━━━━━━━━━━━━━━━━\u001b[0m \u001b[32m1.0/1.0 MB\u001b[0m \u001b[31m7.5 MB/s\u001b[0m eta \u001b[36m0:00:00\u001b[0m\n",
            "\u001b[?25hRequirement already satisfied: tqdm in /usr/local/lib/python3.10/dist-packages (from torch_geometric) (4.66.1)\n",
            "Requirement already satisfied: numpy in /usr/local/lib/python3.10/dist-packages (from torch_geometric) (1.23.5)\n",
            "Requirement already satisfied: scipy in /usr/local/lib/python3.10/dist-packages (from torch_geometric) (1.11.3)\n",
            "Requirement already satisfied: jinja2 in /usr/local/lib/python3.10/dist-packages (from torch_geometric) (3.1.2)\n",
            "Requirement already satisfied: requests in /usr/local/lib/python3.10/dist-packages (from torch_geometric) (2.31.0)\n",
            "Requirement already satisfied: pyparsing in /usr/local/lib/python3.10/dist-packages (from torch_geometric) (3.1.1)\n",
            "Requirement already satisfied: scikit-learn in /usr/local/lib/python3.10/dist-packages (from torch_geometric) (1.2.2)\n",
            "Requirement already satisfied: psutil>=5.8.0 in /usr/local/lib/python3.10/dist-packages (from torch_geometric) (5.9.5)\n",
            "Requirement already satisfied: MarkupSafe>=2.0 in /usr/local/lib/python3.10/dist-packages (from jinja2->torch_geometric) (2.1.3)\n",
            "Requirement already satisfied: charset-normalizer<4,>=2 in /usr/local/lib/python3.10/dist-packages (from requests->torch_geometric) (3.3.2)\n",
            "Requirement already satisfied: idna<4,>=2.5 in /usr/local/lib/python3.10/dist-packages (from requests->torch_geometric) (3.4)\n",
            "Requirement already satisfied: urllib3<3,>=1.21.1 in /usr/local/lib/python3.10/dist-packages (from requests->torch_geometric) (2.0.7)\n",
            "Requirement already satisfied: certifi>=2017.4.17 in /usr/local/lib/python3.10/dist-packages (from requests->torch_geometric) (2023.7.22)\n",
            "Requirement already satisfied: joblib>=1.1.1 in /usr/local/lib/python3.10/dist-packages (from scikit-learn->torch_geometric) (1.3.2)\n",
            "Requirement already satisfied: threadpoolctl>=2.0.0 in /usr/local/lib/python3.10/dist-packages (from scikit-learn->torch_geometric) (3.2.0)\n",
            "Installing collected packages: torch_geometric\n",
            "Successfully installed torch_geometric-2.4.0\n"
          ]
        }
      ]
    },
    {
      "cell_type": "code",
      "source": [
        "from torch_geometric.data import Data"
      ],
      "metadata": {
        "id": "xqutrS9EyQQr"
      },
      "execution_count": 18,
      "outputs": []
    },
    {
      "cell_type": "code",
      "source": [
        "# Load the spreadsheet\n",
        "file_path = '/content/drive/MyDrive/AGILE2/SMILES_features.csv'\n",
        "smiles_data = pd.read_csv(file_path)"
      ],
      "metadata": {
        "id": "SL5cyn0GwXH9"
      },
      "execution_count": 9,
      "outputs": []
    },
    {
      "cell_type": "code",
      "source": [
        "# Extracting SMILES strings\n",
        "smiles_list = smiles_data['smiles'].tolist()"
      ],
      "metadata": {
        "id": "AoK8gMnbwahN"
      },
      "execution_count": 10,
      "outputs": []
    },
    {
      "cell_type": "code",
      "source": [
        "# Display the first few rows to understand the data\n",
        "smiles_data.head()"
      ],
      "metadata": {
        "colab": {
          "base_uri": "https://localhost:8080/",
          "height": 273
        },
        "id": "XuCv2tUrwcds",
        "outputId": "bac9131c-8d5f-4cdb-e89a-68fe73a7f67b"
      },
      "execution_count": 11,
      "outputs": [
        {
          "output_type": "execute_result",
          "data": {
            "text/plain": [
              "                                              smiles  Unnamed: 1  Unnamed: 2  \\\n",
              "0  CCCCCCCC\\C=C/CCCCCCCCNC(=O)C(CCCCCOC(=O)CCCCCC...         NaN         NaN   \n",
              "1  CCCCCCCCCCCCCCCCCCNC(=O)C(CCCCCOC(=O)CCCCCCC\\C...         NaN         NaN   \n",
              "2  CCCCCCCCCCCCNC(=O)C(CCCCCOC(=O)CCCCCCC\\C=C/CCC...         NaN         NaN   \n",
              "3  CCCCCCCCCCCCCCNC(=O)C(CCCCCOC(=O)CCCCCCC\\C=C/C...         NaN         NaN   \n",
              "4  CCCCCCCCCCCCCCCCNC(=O)C(CCCCCOC(=O)CCCCCCC\\C=C...         NaN         NaN   \n",
              "\n",
              "   Unnamed: 3  Unnamed: 4  Unnamed: 5  Unnamed: 6  Unnamed: 7  Unnamed: 8  \\\n",
              "0         NaN         NaN         NaN         NaN         NaN         NaN   \n",
              "1         NaN         NaN         NaN         NaN         NaN         NaN   \n",
              "2         NaN         NaN         NaN         NaN         NaN         NaN   \n",
              "3         NaN         NaN         NaN         NaN         NaN         NaN   \n",
              "4         NaN         NaN         NaN         NaN         NaN         NaN   \n",
              "\n",
              "   Unnamed: 9  ...  Unnamed: 353  Unnamed: 354  Unnamed: 355  Unnamed: 356  \\\n",
              "0         NaN  ...           NaN           NaN           NaN           NaN   \n",
              "1         NaN  ...           NaN           NaN           NaN           NaN   \n",
              "2         NaN  ...           NaN           NaN           NaN           NaN   \n",
              "3         NaN  ...           NaN           NaN           NaN           NaN   \n",
              "4         NaN  ...           NaN           NaN           NaN           NaN   \n",
              "\n",
              "   Unnamed: 357  Unnamed: 358  Unnamed: 359  Unnamed: 360  Unnamed: 361  \\\n",
              "0           NaN           NaN           NaN           NaN           NaN   \n",
              "1           NaN           NaN           NaN           NaN           NaN   \n",
              "2           NaN           NaN           NaN           NaN           NaN   \n",
              "3           NaN           NaN           NaN           NaN           NaN   \n",
              "4           NaN           NaN           NaN           NaN           NaN   \n",
              "\n",
              "   Unnamed: 362  \n",
              "0           NaN  \n",
              "1           NaN  \n",
              "2           NaN  \n",
              "3           NaN  \n",
              "4           NaN  \n",
              "\n",
              "[5 rows x 363 columns]"
            ],
            "text/html": [
              "\n",
              "  <div id=\"df-107744a1-d2ed-4141-8b17-2acb7b0f8423\" class=\"colab-df-container\">\n",
              "    <div>\n",
              "<style scoped>\n",
              "    .dataframe tbody tr th:only-of-type {\n",
              "        vertical-align: middle;\n",
              "    }\n",
              "\n",
              "    .dataframe tbody tr th {\n",
              "        vertical-align: top;\n",
              "    }\n",
              "\n",
              "    .dataframe thead th {\n",
              "        text-align: right;\n",
              "    }\n",
              "</style>\n",
              "<table border=\"1\" class=\"dataframe\">\n",
              "  <thead>\n",
              "    <tr style=\"text-align: right;\">\n",
              "      <th></th>\n",
              "      <th>smiles</th>\n",
              "      <th>Unnamed: 1</th>\n",
              "      <th>Unnamed: 2</th>\n",
              "      <th>Unnamed: 3</th>\n",
              "      <th>Unnamed: 4</th>\n",
              "      <th>Unnamed: 5</th>\n",
              "      <th>Unnamed: 6</th>\n",
              "      <th>Unnamed: 7</th>\n",
              "      <th>Unnamed: 8</th>\n",
              "      <th>Unnamed: 9</th>\n",
              "      <th>...</th>\n",
              "      <th>Unnamed: 353</th>\n",
              "      <th>Unnamed: 354</th>\n",
              "      <th>Unnamed: 355</th>\n",
              "      <th>Unnamed: 356</th>\n",
              "      <th>Unnamed: 357</th>\n",
              "      <th>Unnamed: 358</th>\n",
              "      <th>Unnamed: 359</th>\n",
              "      <th>Unnamed: 360</th>\n",
              "      <th>Unnamed: 361</th>\n",
              "      <th>Unnamed: 362</th>\n",
              "    </tr>\n",
              "  </thead>\n",
              "  <tbody>\n",
              "    <tr>\n",
              "      <th>0</th>\n",
              "      <td>CCCCCCCC\\C=C/CCCCCCCCNC(=O)C(CCCCCOC(=O)CCCCCC...</td>\n",
              "      <td>NaN</td>\n",
              "      <td>NaN</td>\n",
              "      <td>NaN</td>\n",
              "      <td>NaN</td>\n",
              "      <td>NaN</td>\n",
              "      <td>NaN</td>\n",
              "      <td>NaN</td>\n",
              "      <td>NaN</td>\n",
              "      <td>NaN</td>\n",
              "      <td>...</td>\n",
              "      <td>NaN</td>\n",
              "      <td>NaN</td>\n",
              "      <td>NaN</td>\n",
              "      <td>NaN</td>\n",
              "      <td>NaN</td>\n",
              "      <td>NaN</td>\n",
              "      <td>NaN</td>\n",
              "      <td>NaN</td>\n",
              "      <td>NaN</td>\n",
              "      <td>NaN</td>\n",
              "    </tr>\n",
              "    <tr>\n",
              "      <th>1</th>\n",
              "      <td>CCCCCCCCCCCCCCCCCCNC(=O)C(CCCCCOC(=O)CCCCCCC\\C...</td>\n",
              "      <td>NaN</td>\n",
              "      <td>NaN</td>\n",
              "      <td>NaN</td>\n",
              "      <td>NaN</td>\n",
              "      <td>NaN</td>\n",
              "      <td>NaN</td>\n",
              "      <td>NaN</td>\n",
              "      <td>NaN</td>\n",
              "      <td>NaN</td>\n",
              "      <td>...</td>\n",
              "      <td>NaN</td>\n",
              "      <td>NaN</td>\n",
              "      <td>NaN</td>\n",
              "      <td>NaN</td>\n",
              "      <td>NaN</td>\n",
              "      <td>NaN</td>\n",
              "      <td>NaN</td>\n",
              "      <td>NaN</td>\n",
              "      <td>NaN</td>\n",
              "      <td>NaN</td>\n",
              "    </tr>\n",
              "    <tr>\n",
              "      <th>2</th>\n",
              "      <td>CCCCCCCCCCCCNC(=O)C(CCCCCOC(=O)CCCCCCC\\C=C/CCC...</td>\n",
              "      <td>NaN</td>\n",
              "      <td>NaN</td>\n",
              "      <td>NaN</td>\n",
              "      <td>NaN</td>\n",
              "      <td>NaN</td>\n",
              "      <td>NaN</td>\n",
              "      <td>NaN</td>\n",
              "      <td>NaN</td>\n",
              "      <td>NaN</td>\n",
              "      <td>...</td>\n",
              "      <td>NaN</td>\n",
              "      <td>NaN</td>\n",
              "      <td>NaN</td>\n",
              "      <td>NaN</td>\n",
              "      <td>NaN</td>\n",
              "      <td>NaN</td>\n",
              "      <td>NaN</td>\n",
              "      <td>NaN</td>\n",
              "      <td>NaN</td>\n",
              "      <td>NaN</td>\n",
              "    </tr>\n",
              "    <tr>\n",
              "      <th>3</th>\n",
              "      <td>CCCCCCCCCCCCCCNC(=O)C(CCCCCOC(=O)CCCCCCC\\C=C/C...</td>\n",
              "      <td>NaN</td>\n",
              "      <td>NaN</td>\n",
              "      <td>NaN</td>\n",
              "      <td>NaN</td>\n",
              "      <td>NaN</td>\n",
              "      <td>NaN</td>\n",
              "      <td>NaN</td>\n",
              "      <td>NaN</td>\n",
              "      <td>NaN</td>\n",
              "      <td>...</td>\n",
              "      <td>NaN</td>\n",
              "      <td>NaN</td>\n",
              "      <td>NaN</td>\n",
              "      <td>NaN</td>\n",
              "      <td>NaN</td>\n",
              "      <td>NaN</td>\n",
              "      <td>NaN</td>\n",
              "      <td>NaN</td>\n",
              "      <td>NaN</td>\n",
              "      <td>NaN</td>\n",
              "    </tr>\n",
              "    <tr>\n",
              "      <th>4</th>\n",
              "      <td>CCCCCCCCCCCCCCCCNC(=O)C(CCCCCOC(=O)CCCCCCC\\C=C...</td>\n",
              "      <td>NaN</td>\n",
              "      <td>NaN</td>\n",
              "      <td>NaN</td>\n",
              "      <td>NaN</td>\n",
              "      <td>NaN</td>\n",
              "      <td>NaN</td>\n",
              "      <td>NaN</td>\n",
              "      <td>NaN</td>\n",
              "      <td>NaN</td>\n",
              "      <td>...</td>\n",
              "      <td>NaN</td>\n",
              "      <td>NaN</td>\n",
              "      <td>NaN</td>\n",
              "      <td>NaN</td>\n",
              "      <td>NaN</td>\n",
              "      <td>NaN</td>\n",
              "      <td>NaN</td>\n",
              "      <td>NaN</td>\n",
              "      <td>NaN</td>\n",
              "      <td>NaN</td>\n",
              "    </tr>\n",
              "  </tbody>\n",
              "</table>\n",
              "<p>5 rows × 363 columns</p>\n",
              "</div>\n",
              "    <div class=\"colab-df-buttons\">\n",
              "\n",
              "  <div class=\"colab-df-container\">\n",
              "    <button class=\"colab-df-convert\" onclick=\"convertToInteractive('df-107744a1-d2ed-4141-8b17-2acb7b0f8423')\"\n",
              "            title=\"Convert this dataframe to an interactive table.\"\n",
              "            style=\"display:none;\">\n",
              "\n",
              "  <svg xmlns=\"http://www.w3.org/2000/svg\" height=\"24px\" viewBox=\"0 -960 960 960\">\n",
              "    <path d=\"M120-120v-720h720v720H120Zm60-500h600v-160H180v160Zm220 220h160v-160H400v160Zm0 220h160v-160H400v160ZM180-400h160v-160H180v160Zm440 0h160v-160H620v160ZM180-180h160v-160H180v160Zm440 0h160v-160H620v160Z\"/>\n",
              "  </svg>\n",
              "    </button>\n",
              "\n",
              "  <style>\n",
              "    .colab-df-container {\n",
              "      display:flex;\n",
              "      gap: 12px;\n",
              "    }\n",
              "\n",
              "    .colab-df-convert {\n",
              "      background-color: #E8F0FE;\n",
              "      border: none;\n",
              "      border-radius: 50%;\n",
              "      cursor: pointer;\n",
              "      display: none;\n",
              "      fill: #1967D2;\n",
              "      height: 32px;\n",
              "      padding: 0 0 0 0;\n",
              "      width: 32px;\n",
              "    }\n",
              "\n",
              "    .colab-df-convert:hover {\n",
              "      background-color: #E2EBFA;\n",
              "      box-shadow: 0px 1px 2px rgba(60, 64, 67, 0.3), 0px 1px 3px 1px rgba(60, 64, 67, 0.15);\n",
              "      fill: #174EA6;\n",
              "    }\n",
              "\n",
              "    .colab-df-buttons div {\n",
              "      margin-bottom: 4px;\n",
              "    }\n",
              "\n",
              "    [theme=dark] .colab-df-convert {\n",
              "      background-color: #3B4455;\n",
              "      fill: #D2E3FC;\n",
              "    }\n",
              "\n",
              "    [theme=dark] .colab-df-convert:hover {\n",
              "      background-color: #434B5C;\n",
              "      box-shadow: 0px 1px 3px 1px rgba(0, 0, 0, 0.15);\n",
              "      filter: drop-shadow(0px 1px 2px rgba(0, 0, 0, 0.3));\n",
              "      fill: #FFFFFF;\n",
              "    }\n",
              "  </style>\n",
              "\n",
              "    <script>\n",
              "      const buttonEl =\n",
              "        document.querySelector('#df-107744a1-d2ed-4141-8b17-2acb7b0f8423 button.colab-df-convert');\n",
              "      buttonEl.style.display =\n",
              "        google.colab.kernel.accessAllowed ? 'block' : 'none';\n",
              "\n",
              "      async function convertToInteractive(key) {\n",
              "        const element = document.querySelector('#df-107744a1-d2ed-4141-8b17-2acb7b0f8423');\n",
              "        const dataTable =\n",
              "          await google.colab.kernel.invokeFunction('convertToInteractive',\n",
              "                                                    [key], {});\n",
              "        if (!dataTable) return;\n",
              "\n",
              "        const docLinkHtml = 'Like what you see? Visit the ' +\n",
              "          '<a target=\"_blank\" href=https://colab.research.google.com/notebooks/data_table.ipynb>data table notebook</a>'\n",
              "          + ' to learn more about interactive tables.';\n",
              "        element.innerHTML = '';\n",
              "        dataTable['output_type'] = 'display_data';\n",
              "        await google.colab.output.renderOutput(dataTable, element);\n",
              "        const docLink = document.createElement('div');\n",
              "        docLink.innerHTML = docLinkHtml;\n",
              "        element.appendChild(docLink);\n",
              "      }\n",
              "    </script>\n",
              "  </div>\n",
              "\n",
              "\n",
              "<div id=\"df-723f4163-b649-4912-9a37-e8470c73012c\">\n",
              "  <button class=\"colab-df-quickchart\" onclick=\"quickchart('df-723f4163-b649-4912-9a37-e8470c73012c')\"\n",
              "            title=\"Suggest charts\"\n",
              "            style=\"display:none;\">\n",
              "\n",
              "<svg xmlns=\"http://www.w3.org/2000/svg\" height=\"24px\"viewBox=\"0 0 24 24\"\n",
              "     width=\"24px\">\n",
              "    <g>\n",
              "        <path d=\"M19 3H5c-1.1 0-2 .9-2 2v14c0 1.1.9 2 2 2h14c1.1 0 2-.9 2-2V5c0-1.1-.9-2-2-2zM9 17H7v-7h2v7zm4 0h-2V7h2v10zm4 0h-2v-4h2v4z\"/>\n",
              "    </g>\n",
              "</svg>\n",
              "  </button>\n",
              "\n",
              "<style>\n",
              "  .colab-df-quickchart {\n",
              "      --bg-color: #E8F0FE;\n",
              "      --fill-color: #1967D2;\n",
              "      --hover-bg-color: #E2EBFA;\n",
              "      --hover-fill-color: #174EA6;\n",
              "      --disabled-fill-color: #AAA;\n",
              "      --disabled-bg-color: #DDD;\n",
              "  }\n",
              "\n",
              "  [theme=dark] .colab-df-quickchart {\n",
              "      --bg-color: #3B4455;\n",
              "      --fill-color: #D2E3FC;\n",
              "      --hover-bg-color: #434B5C;\n",
              "      --hover-fill-color: #FFFFFF;\n",
              "      --disabled-bg-color: #3B4455;\n",
              "      --disabled-fill-color: #666;\n",
              "  }\n",
              "\n",
              "  .colab-df-quickchart {\n",
              "    background-color: var(--bg-color);\n",
              "    border: none;\n",
              "    border-radius: 50%;\n",
              "    cursor: pointer;\n",
              "    display: none;\n",
              "    fill: var(--fill-color);\n",
              "    height: 32px;\n",
              "    padding: 0;\n",
              "    width: 32px;\n",
              "  }\n",
              "\n",
              "  .colab-df-quickchart:hover {\n",
              "    background-color: var(--hover-bg-color);\n",
              "    box-shadow: 0 1px 2px rgba(60, 64, 67, 0.3), 0 1px 3px 1px rgba(60, 64, 67, 0.15);\n",
              "    fill: var(--button-hover-fill-color);\n",
              "  }\n",
              "\n",
              "  .colab-df-quickchart-complete:disabled,\n",
              "  .colab-df-quickchart-complete:disabled:hover {\n",
              "    background-color: var(--disabled-bg-color);\n",
              "    fill: var(--disabled-fill-color);\n",
              "    box-shadow: none;\n",
              "  }\n",
              "\n",
              "  .colab-df-spinner {\n",
              "    border: 2px solid var(--fill-color);\n",
              "    border-color: transparent;\n",
              "    border-bottom-color: var(--fill-color);\n",
              "    animation:\n",
              "      spin 1s steps(1) infinite;\n",
              "  }\n",
              "\n",
              "  @keyframes spin {\n",
              "    0% {\n",
              "      border-color: transparent;\n",
              "      border-bottom-color: var(--fill-color);\n",
              "      border-left-color: var(--fill-color);\n",
              "    }\n",
              "    20% {\n",
              "      border-color: transparent;\n",
              "      border-left-color: var(--fill-color);\n",
              "      border-top-color: var(--fill-color);\n",
              "    }\n",
              "    30% {\n",
              "      border-color: transparent;\n",
              "      border-left-color: var(--fill-color);\n",
              "      border-top-color: var(--fill-color);\n",
              "      border-right-color: var(--fill-color);\n",
              "    }\n",
              "    40% {\n",
              "      border-color: transparent;\n",
              "      border-right-color: var(--fill-color);\n",
              "      border-top-color: var(--fill-color);\n",
              "    }\n",
              "    60% {\n",
              "      border-color: transparent;\n",
              "      border-right-color: var(--fill-color);\n",
              "    }\n",
              "    80% {\n",
              "      border-color: transparent;\n",
              "      border-right-color: var(--fill-color);\n",
              "      border-bottom-color: var(--fill-color);\n",
              "    }\n",
              "    90% {\n",
              "      border-color: transparent;\n",
              "      border-bottom-color: var(--fill-color);\n",
              "    }\n",
              "  }\n",
              "</style>\n",
              "\n",
              "  <script>\n",
              "    async function quickchart(key) {\n",
              "      const quickchartButtonEl =\n",
              "        document.querySelector('#' + key + ' button');\n",
              "      quickchartButtonEl.disabled = true;  // To prevent multiple clicks.\n",
              "      quickchartButtonEl.classList.add('colab-df-spinner');\n",
              "      try {\n",
              "        const charts = await google.colab.kernel.invokeFunction(\n",
              "            'suggestCharts', [key], {});\n",
              "      } catch (error) {\n",
              "        console.error('Error during call to suggestCharts:', error);\n",
              "      }\n",
              "      quickchartButtonEl.classList.remove('colab-df-spinner');\n",
              "      quickchartButtonEl.classList.add('colab-df-quickchart-complete');\n",
              "    }\n",
              "    (() => {\n",
              "      let quickchartButtonEl =\n",
              "        document.querySelector('#df-723f4163-b649-4912-9a37-e8470c73012c button');\n",
              "      quickchartButtonEl.style.display =\n",
              "        google.colab.kernel.accessAllowed ? 'block' : 'none';\n",
              "    })();\n",
              "  </script>\n",
              "</div>\n",
              "    </div>\n",
              "  </div>\n"
            ]
          },
          "metadata": {},
          "execution_count": 11
        }
      ]
    },
    {
      "cell_type": "code",
      "source": [
        "# Extracting SMILES strings\n",
        "smiles_list = smiles_data['smiles'].tolist()"
      ],
      "metadata": {
        "id": "6ISYHLORwjtf"
      },
      "execution_count": 12,
      "outputs": []
    },
    {
      "cell_type": "code",
      "source": [
        "# Printing the number of SMILES strings in the list\n",
        "print(len(smiles_list))"
      ],
      "metadata": {
        "colab": {
          "base_uri": "https://localhost:8080/"
        },
        "id": "tlsri5hKwpsN",
        "outputId": "ad2b741d-9ca5-44d9-bebb-3cc7bb3a6403"
      },
      "execution_count": 13,
      "outputs": [
        {
          "output_type": "stream",
          "name": "stdout",
          "text": [
            "1200\n"
          ]
        }
      ]
    },
    {
      "cell_type": "code",
      "source": [
        "def smiles_to_graph(smiles):\n",
        "    mol = Chem.MolFromSmiles(smiles)\n",
        "    atoms = [atom.GetAtomicNum() for atom in mol.GetAtoms()]\n",
        "    nodes = torch.tensor(atoms, dtype=torch.float).view(-1, 1)\n",
        "\n",
        "    edge_index = []\n",
        "    edge_attr = []\n",
        "    for bond in mol.GetBonds():\n",
        "        start, end = bond.GetBeginAtomIdx(), bond.GetEndAtomIdx()\n",
        "        edge_index.append((start, end))\n",
        "        edge_index.append((end, start))  # add both directions for undirected graph\n",
        "        # You can add more bond features here\n",
        "\n",
        "    edge_index = torch.tensor(edge_index, dtype=torch.long).t().contiguous()\n",
        "    return Data(x=nodes, edge_index=edge_index)"
      ],
      "metadata": {
        "id": "gD2TacDryE7G"
      },
      "execution_count": 19,
      "outputs": []
    },
    {
      "cell_type": "code",
      "source": [
        "graphs = [smiles_to_graph(smiles) for smiles in smiles_list]"
      ],
      "metadata": {
        "id": "tanjTKgWyJqa"
      },
      "execution_count": 20,
      "outputs": []
    },
    {
      "cell_type": "code",
      "source": [
        "print(graphs)"
      ],
      "metadata": {
        "colab": {
          "base_uri": "https://localhost:8080/"
        },
        "id": "r_wFfaaOyie7",
        "outputId": "0055ec55-4e64-473d-9d2a-7edc9ee70daf"
      },
      "execution_count": 23,
      "outputs": [
        {
          "output_type": "stream",
          "name": "stdout",
          "text": [
            "[Data(x=[57, 1], edge_index=[2, 112]), Data(x=[57, 1], edge_index=[2, 112]), Data(x=[51, 1], edge_index=[2, 100]), Data(x=[53, 1], edge_index=[2, 104]), Data(x=[55, 1], edge_index=[2, 108]), Data(x=[56, 1], edge_index=[2, 112]), Data(x=[56, 1], edge_index=[2, 112]), Data(x=[50, 1], edge_index=[2, 100]), Data(x=[52, 1], edge_index=[2, 104]), Data(x=[54, 1], edge_index=[2, 108]), Data(x=[56, 1], edge_index=[2, 112]), Data(x=[56, 1], edge_index=[2, 112]), Data(x=[50, 1], edge_index=[2, 100]), Data(x=[52, 1], edge_index=[2, 104]), Data(x=[54, 1], edge_index=[2, 108]), Data(x=[54, 1], edge_index=[2, 108]), Data(x=[54, 1], edge_index=[2, 108]), Data(x=[48, 1], edge_index=[2, 96]), Data(x=[50, 1], edge_index=[2, 100]), Data(x=[52, 1], edge_index=[2, 104]), Data(x=[53, 1], edge_index=[2, 104]), Data(x=[53, 1], edge_index=[2, 104]), Data(x=[47, 1], edge_index=[2, 92]), Data(x=[49, 1], edge_index=[2, 96]), Data(x=[51, 1], edge_index=[2, 100]), Data(x=[54, 1], edge_index=[2, 106]), Data(x=[54, 1], edge_index=[2, 106]), Data(x=[48, 1], edge_index=[2, 94]), Data(x=[50, 1], edge_index=[2, 98]), Data(x=[52, 1], edge_index=[2, 102]), Data(x=[56, 1], edge_index=[2, 110]), Data(x=[56, 1], edge_index=[2, 110]), Data(x=[50, 1], edge_index=[2, 98]), Data(x=[52, 1], edge_index=[2, 102]), Data(x=[54, 1], edge_index=[2, 106]), Data(x=[60, 1], edge_index=[2, 118]), Data(x=[60, 1], edge_index=[2, 118]), Data(x=[54, 1], edge_index=[2, 106]), Data(x=[56, 1], edge_index=[2, 110]), Data(x=[58, 1], edge_index=[2, 114]), Data(x=[56, 1], edge_index=[2, 112]), Data(x=[56, 1], edge_index=[2, 112]), Data(x=[50, 1], edge_index=[2, 100]), Data(x=[52, 1], edge_index=[2, 104]), Data(x=[54, 1], edge_index=[2, 108]), Data(x=[57, 1], edge_index=[2, 114]), Data(x=[57, 1], edge_index=[2, 114]), Data(x=[51, 1], edge_index=[2, 102]), Data(x=[53, 1], edge_index=[2, 106]), Data(x=[55, 1], edge_index=[2, 110]), Data(x=[55, 1], edge_index=[2, 108]), Data(x=[55, 1], edge_index=[2, 108]), Data(x=[49, 1], edge_index=[2, 96]), Data(x=[51, 1], edge_index=[2, 100]), Data(x=[53, 1], edge_index=[2, 104]), Data(x=[54, 1], edge_index=[2, 108]), Data(x=[54, 1], edge_index=[2, 108]), Data(x=[48, 1], edge_index=[2, 96]), Data(x=[50, 1], edge_index=[2, 100]), Data(x=[52, 1], edge_index=[2, 104]), Data(x=[55, 1], edge_index=[2, 110]), Data(x=[55, 1], edge_index=[2, 110]), Data(x=[49, 1], edge_index=[2, 98]), Data(x=[51, 1], edge_index=[2, 102]), Data(x=[53, 1], edge_index=[2, 106]), Data(x=[53, 1], edge_index=[2, 106]), Data(x=[53, 1], edge_index=[2, 106]), Data(x=[47, 1], edge_index=[2, 94]), Data(x=[49, 1], edge_index=[2, 98]), Data(x=[51, 1], edge_index=[2, 102]), Data(x=[55, 1], edge_index=[2, 110]), Data(x=[55, 1], edge_index=[2, 110]), Data(x=[49, 1], edge_index=[2, 98]), Data(x=[51, 1], edge_index=[2, 102]), Data(x=[53, 1], edge_index=[2, 106]), Data(x=[54, 1], edge_index=[2, 108]), Data(x=[54, 1], edge_index=[2, 108]), Data(x=[48, 1], edge_index=[2, 96]), Data(x=[50, 1], edge_index=[2, 100]), Data(x=[52, 1], edge_index=[2, 104]), Data(x=[57, 1], edge_index=[2, 112]), Data(x=[57, 1], edge_index=[2, 112]), Data(x=[51, 1], edge_index=[2, 100]), Data(x=[53, 1], edge_index=[2, 104]), Data(x=[55, 1], edge_index=[2, 108]), Data(x=[55, 1], edge_index=[2, 110]), Data(x=[55, 1], edge_index=[2, 110]), Data(x=[49, 1], edge_index=[2, 98]), Data(x=[51, 1], edge_index=[2, 102]), Data(x=[53, 1], edge_index=[2, 106]), Data(x=[56, 1], edge_index=[2, 112]), Data(x=[56, 1], edge_index=[2, 112]), Data(x=[50, 1], edge_index=[2, 100]), Data(x=[52, 1], edge_index=[2, 104]), Data(x=[54, 1], edge_index=[2, 108]), Data(x=[57, 1], edge_index=[2, 112]), Data(x=[57, 1], edge_index=[2, 112]), Data(x=[51, 1], edge_index=[2, 100]), Data(x=[53, 1], edge_index=[2, 104]), Data(x=[55, 1], edge_index=[2, 108]), Data(x=[57, 1], edge_index=[2, 112]), Data(x=[57, 1], edge_index=[2, 112]), Data(x=[51, 1], edge_index=[2, 100]), Data(x=[53, 1], edge_index=[2, 104]), Data(x=[55, 1], edge_index=[2, 108]), Data(x=[56, 1], edge_index=[2, 112]), Data(x=[56, 1], edge_index=[2, 112]), Data(x=[50, 1], edge_index=[2, 100]), Data(x=[52, 1], edge_index=[2, 104]), Data(x=[54, 1], edge_index=[2, 108]), Data(x=[56, 1], edge_index=[2, 112]), Data(x=[56, 1], edge_index=[2, 112]), Data(x=[50, 1], edge_index=[2, 100]), Data(x=[52, 1], edge_index=[2, 104]), Data(x=[54, 1], edge_index=[2, 108]), Data(x=[54, 1], edge_index=[2, 108]), Data(x=[54, 1], edge_index=[2, 108]), Data(x=[48, 1], edge_index=[2, 96]), Data(x=[50, 1], edge_index=[2, 100]), Data(x=[52, 1], edge_index=[2, 104]), Data(x=[53, 1], edge_index=[2, 104]), Data(x=[53, 1], edge_index=[2, 104]), Data(x=[47, 1], edge_index=[2, 92]), Data(x=[49, 1], edge_index=[2, 96]), Data(x=[51, 1], edge_index=[2, 100]), Data(x=[54, 1], edge_index=[2, 106]), Data(x=[54, 1], edge_index=[2, 106]), Data(x=[48, 1], edge_index=[2, 94]), Data(x=[50, 1], edge_index=[2, 98]), Data(x=[52, 1], edge_index=[2, 102]), Data(x=[56, 1], edge_index=[2, 110]), Data(x=[56, 1], edge_index=[2, 110]), Data(x=[50, 1], edge_index=[2, 98]), Data(x=[52, 1], edge_index=[2, 102]), Data(x=[54, 1], edge_index=[2, 106]), Data(x=[60, 1], edge_index=[2, 118]), Data(x=[60, 1], edge_index=[2, 118]), Data(x=[54, 1], edge_index=[2, 106]), Data(x=[56, 1], edge_index=[2, 110]), Data(x=[58, 1], edge_index=[2, 114]), Data(x=[56, 1], edge_index=[2, 112]), Data(x=[56, 1], edge_index=[2, 112]), Data(x=[50, 1], edge_index=[2, 100]), Data(x=[52, 1], edge_index=[2, 104]), Data(x=[54, 1], edge_index=[2, 108]), Data(x=[57, 1], edge_index=[2, 114]), Data(x=[57, 1], edge_index=[2, 114]), Data(x=[51, 1], edge_index=[2, 102]), Data(x=[53, 1], edge_index=[2, 106]), Data(x=[55, 1], edge_index=[2, 110]), Data(x=[55, 1], edge_index=[2, 108]), Data(x=[55, 1], edge_index=[2, 108]), Data(x=[49, 1], edge_index=[2, 96]), Data(x=[51, 1], edge_index=[2, 100]), Data(x=[53, 1], edge_index=[2, 104]), Data(x=[54, 1], edge_index=[2, 108]), Data(x=[54, 1], edge_index=[2, 108]), Data(x=[48, 1], edge_index=[2, 96]), Data(x=[50, 1], edge_index=[2, 100]), Data(x=[52, 1], edge_index=[2, 104]), Data(x=[55, 1], edge_index=[2, 110]), Data(x=[55, 1], edge_index=[2, 110]), Data(x=[49, 1], edge_index=[2, 98]), Data(x=[51, 1], edge_index=[2, 102]), Data(x=[53, 1], edge_index=[2, 106]), Data(x=[53, 1], edge_index=[2, 106]), Data(x=[53, 1], edge_index=[2, 106]), Data(x=[47, 1], edge_index=[2, 94]), Data(x=[49, 1], edge_index=[2, 98]), Data(x=[51, 1], edge_index=[2, 102]), Data(x=[55, 1], edge_index=[2, 110]), Data(x=[55, 1], edge_index=[2, 110]), Data(x=[49, 1], edge_index=[2, 98]), Data(x=[51, 1], edge_index=[2, 102]), Data(x=[53, 1], edge_index=[2, 106]), Data(x=[54, 1], edge_index=[2, 108]), Data(x=[54, 1], edge_index=[2, 108]), Data(x=[48, 1], edge_index=[2, 96]), Data(x=[50, 1], edge_index=[2, 100]), Data(x=[52, 1], edge_index=[2, 104]), Data(x=[57, 1], edge_index=[2, 112]), Data(x=[57, 1], edge_index=[2, 112]), Data(x=[51, 1], edge_index=[2, 100]), Data(x=[53, 1], edge_index=[2, 104]), Data(x=[55, 1], edge_index=[2, 108]), Data(x=[55, 1], edge_index=[2, 110]), Data(x=[55, 1], edge_index=[2, 110]), Data(x=[49, 1], edge_index=[2, 98]), Data(x=[51, 1], edge_index=[2, 102]), Data(x=[53, 1], edge_index=[2, 106]), Data(x=[56, 1], edge_index=[2, 112]), Data(x=[56, 1], edge_index=[2, 112]), Data(x=[50, 1], edge_index=[2, 100]), Data(x=[52, 1], edge_index=[2, 104]), Data(x=[54, 1], edge_index=[2, 108]), Data(x=[57, 1], edge_index=[2, 112]), Data(x=[57, 1], edge_index=[2, 112]), Data(x=[51, 1], edge_index=[2, 100]), Data(x=[53, 1], edge_index=[2, 104]), Data(x=[55, 1], edge_index=[2, 108]), Data(x=[57, 1], edge_index=[2, 112]), Data(x=[57, 1], edge_index=[2, 112]), Data(x=[51, 1], edge_index=[2, 100]), Data(x=[53, 1], edge_index=[2, 104]), Data(x=[55, 1], edge_index=[2, 108]), Data(x=[56, 1], edge_index=[2, 112]), Data(x=[56, 1], edge_index=[2, 112]), Data(x=[50, 1], edge_index=[2, 100]), Data(x=[52, 1], edge_index=[2, 104]), Data(x=[54, 1], edge_index=[2, 108]), Data(x=[56, 1], edge_index=[2, 112]), Data(x=[56, 1], edge_index=[2, 112]), Data(x=[50, 1], edge_index=[2, 100]), Data(x=[52, 1], edge_index=[2, 104]), Data(x=[54, 1], edge_index=[2, 108]), Data(x=[54, 1], edge_index=[2, 108]), Data(x=[54, 1], edge_index=[2, 108]), Data(x=[48, 1], edge_index=[2, 96]), Data(x=[50, 1], edge_index=[2, 100]), Data(x=[52, 1], edge_index=[2, 104]), Data(x=[53, 1], edge_index=[2, 104]), Data(x=[53, 1], edge_index=[2, 104]), Data(x=[47, 1], edge_index=[2, 92]), Data(x=[49, 1], edge_index=[2, 96]), Data(x=[51, 1], edge_index=[2, 100]), Data(x=[54, 1], edge_index=[2, 106]), Data(x=[54, 1], edge_index=[2, 106]), Data(x=[48, 1], edge_index=[2, 94]), Data(x=[50, 1], edge_index=[2, 98]), Data(x=[52, 1], edge_index=[2, 102]), Data(x=[56, 1], edge_index=[2, 110]), Data(x=[56, 1], edge_index=[2, 110]), Data(x=[50, 1], edge_index=[2, 98]), Data(x=[52, 1], edge_index=[2, 102]), Data(x=[54, 1], edge_index=[2, 106]), Data(x=[60, 1], edge_index=[2, 118]), Data(x=[60, 1], edge_index=[2, 118]), Data(x=[54, 1], edge_index=[2, 106]), Data(x=[56, 1], edge_index=[2, 110]), Data(x=[58, 1], edge_index=[2, 114]), Data(x=[56, 1], edge_index=[2, 112]), Data(x=[56, 1], edge_index=[2, 112]), Data(x=[50, 1], edge_index=[2, 100]), Data(x=[52, 1], edge_index=[2, 104]), Data(x=[54, 1], edge_index=[2, 108]), Data(x=[57, 1], edge_index=[2, 114]), Data(x=[57, 1], edge_index=[2, 114]), Data(x=[51, 1], edge_index=[2, 102]), Data(x=[53, 1], edge_index=[2, 106]), Data(x=[55, 1], edge_index=[2, 110]), Data(x=[55, 1], edge_index=[2, 108]), Data(x=[55, 1], edge_index=[2, 108]), Data(x=[49, 1], edge_index=[2, 96]), Data(x=[51, 1], edge_index=[2, 100]), Data(x=[53, 1], edge_index=[2, 104]), Data(x=[54, 1], edge_index=[2, 108]), Data(x=[54, 1], edge_index=[2, 108]), Data(x=[48, 1], edge_index=[2, 96]), Data(x=[50, 1], edge_index=[2, 100]), Data(x=[52, 1], edge_index=[2, 104]), Data(x=[55, 1], edge_index=[2, 110]), Data(x=[55, 1], edge_index=[2, 110]), Data(x=[49, 1], edge_index=[2, 98]), Data(x=[51, 1], edge_index=[2, 102]), Data(x=[53, 1], edge_index=[2, 106]), Data(x=[53, 1], edge_index=[2, 106]), Data(x=[53, 1], edge_index=[2, 106]), Data(x=[47, 1], edge_index=[2, 94]), Data(x=[49, 1], edge_index=[2, 98]), Data(x=[51, 1], edge_index=[2, 102]), Data(x=[55, 1], edge_index=[2, 110]), Data(x=[55, 1], edge_index=[2, 110]), Data(x=[49, 1], edge_index=[2, 98]), Data(x=[51, 1], edge_index=[2, 102]), Data(x=[53, 1], edge_index=[2, 106]), Data(x=[54, 1], edge_index=[2, 108]), Data(x=[54, 1], edge_index=[2, 108]), Data(x=[48, 1], edge_index=[2, 96]), Data(x=[50, 1], edge_index=[2, 100]), Data(x=[52, 1], edge_index=[2, 104]), Data(x=[57, 1], edge_index=[2, 112]), Data(x=[57, 1], edge_index=[2, 112]), Data(x=[51, 1], edge_index=[2, 100]), Data(x=[53, 1], edge_index=[2, 104]), Data(x=[55, 1], edge_index=[2, 108]), Data(x=[55, 1], edge_index=[2, 110]), Data(x=[55, 1], edge_index=[2, 110]), Data(x=[49, 1], edge_index=[2, 98]), Data(x=[51, 1], edge_index=[2, 102]), Data(x=[53, 1], edge_index=[2, 106]), Data(x=[56, 1], edge_index=[2, 112]), Data(x=[56, 1], edge_index=[2, 112]), Data(x=[50, 1], edge_index=[2, 100]), Data(x=[52, 1], edge_index=[2, 104]), Data(x=[54, 1], edge_index=[2, 108]), Data(x=[57, 1], edge_index=[2, 112]), Data(x=[57, 1], edge_index=[2, 112]), Data(x=[51, 1], edge_index=[2, 100]), Data(x=[53, 1], edge_index=[2, 104]), Data(x=[55, 1], edge_index=[2, 108]), Data(x=[55, 1], edge_index=[2, 108]), Data(x=[55, 1], edge_index=[2, 108]), Data(x=[49, 1], edge_index=[2, 96]), Data(x=[51, 1], edge_index=[2, 100]), Data(x=[53, 1], edge_index=[2, 104]), Data(x=[54, 1], edge_index=[2, 108]), Data(x=[54, 1], edge_index=[2, 108]), Data(x=[48, 1], edge_index=[2, 96]), Data(x=[50, 1], edge_index=[2, 100]), Data(x=[52, 1], edge_index=[2, 104]), Data(x=[54, 1], edge_index=[2, 108]), Data(x=[54, 1], edge_index=[2, 108]), Data(x=[48, 1], edge_index=[2, 96]), Data(x=[50, 1], edge_index=[2, 100]), Data(x=[52, 1], edge_index=[2, 104]), Data(x=[52, 1], edge_index=[2, 104]), Data(x=[52, 1], edge_index=[2, 104]), Data(x=[46, 1], edge_index=[2, 92]), Data(x=[48, 1], edge_index=[2, 96]), Data(x=[50, 1], edge_index=[2, 100]), Data(x=[51, 1], edge_index=[2, 100]), Data(x=[51, 1], edge_index=[2, 100]), Data(x=[45, 1], edge_index=[2, 88]), Data(x=[47, 1], edge_index=[2, 92]), Data(x=[49, 1], edge_index=[2, 96]), Data(x=[52, 1], edge_index=[2, 102]), Data(x=[52, 1], edge_index=[2, 102]), Data(x=[46, 1], edge_index=[2, 90]), Data(x=[48, 1], edge_index=[2, 94]), Data(x=[50, 1], edge_index=[2, 98]), Data(x=[54, 1], edge_index=[2, 106]), Data(x=[54, 1], edge_index=[2, 106]), Data(x=[48, 1], edge_index=[2, 94]), Data(x=[50, 1], edge_index=[2, 98]), Data(x=[52, 1], edge_index=[2, 102]), Data(x=[58, 1], edge_index=[2, 114]), Data(x=[58, 1], edge_index=[2, 114]), Data(x=[52, 1], edge_index=[2, 102]), Data(x=[54, 1], edge_index=[2, 106]), Data(x=[56, 1], edge_index=[2, 110]), Data(x=[54, 1], edge_index=[2, 108]), Data(x=[54, 1], edge_index=[2, 108]), Data(x=[48, 1], edge_index=[2, 96]), Data(x=[50, 1], edge_index=[2, 100]), Data(x=[52, 1], edge_index=[2, 104]), Data(x=[55, 1], edge_index=[2, 110]), Data(x=[55, 1], edge_index=[2, 110]), Data(x=[49, 1], edge_index=[2, 98]), Data(x=[51, 1], edge_index=[2, 102]), Data(x=[53, 1], edge_index=[2, 106]), Data(x=[53, 1], edge_index=[2, 104]), Data(x=[53, 1], edge_index=[2, 104]), Data(x=[47, 1], edge_index=[2, 92]), Data(x=[49, 1], edge_index=[2, 96]), Data(x=[51, 1], edge_index=[2, 100]), Data(x=[52, 1], edge_index=[2, 104]), Data(x=[52, 1], edge_index=[2, 104]), Data(x=[46, 1], edge_index=[2, 92]), Data(x=[48, 1], edge_index=[2, 96]), Data(x=[50, 1], edge_index=[2, 100]), Data(x=[53, 1], edge_index=[2, 106]), Data(x=[53, 1], edge_index=[2, 106]), Data(x=[47, 1], edge_index=[2, 94]), Data(x=[49, 1], edge_index=[2, 98]), Data(x=[51, 1], edge_index=[2, 102]), Data(x=[51, 1], edge_index=[2, 102]), Data(x=[51, 1], edge_index=[2, 102]), Data(x=[45, 1], edge_index=[2, 90]), Data(x=[47, 1], edge_index=[2, 94]), Data(x=[49, 1], edge_index=[2, 98]), Data(x=[53, 1], edge_index=[2, 106]), Data(x=[53, 1], edge_index=[2, 106]), Data(x=[47, 1], edge_index=[2, 94]), Data(x=[49, 1], edge_index=[2, 98]), Data(x=[51, 1], edge_index=[2, 102]), Data(x=[52, 1], edge_index=[2, 104]), Data(x=[52, 1], edge_index=[2, 104]), Data(x=[46, 1], edge_index=[2, 92]), Data(x=[48, 1], edge_index=[2, 96]), Data(x=[50, 1], edge_index=[2, 100]), Data(x=[55, 1], edge_index=[2, 108]), Data(x=[55, 1], edge_index=[2, 108]), Data(x=[49, 1], edge_index=[2, 96]), Data(x=[51, 1], edge_index=[2, 100]), Data(x=[53, 1], edge_index=[2, 104]), Data(x=[53, 1], edge_index=[2, 106]), Data(x=[53, 1], edge_index=[2, 106]), Data(x=[47, 1], edge_index=[2, 94]), Data(x=[49, 1], edge_index=[2, 98]), Data(x=[51, 1], edge_index=[2, 102]), Data(x=[54, 1], edge_index=[2, 108]), Data(x=[54, 1], edge_index=[2, 108]), Data(x=[48, 1], edge_index=[2, 96]), Data(x=[50, 1], edge_index=[2, 100]), Data(x=[52, 1], edge_index=[2, 104]), Data(x=[55, 1], edge_index=[2, 108]), Data(x=[55, 1], edge_index=[2, 108]), Data(x=[49, 1], edge_index=[2, 96]), Data(x=[51, 1], edge_index=[2, 100]), Data(x=[53, 1], edge_index=[2, 104]), Data(x=[49, 1], edge_index=[2, 96]), Data(x=[49, 1], edge_index=[2, 96]), Data(x=[43, 1], edge_index=[2, 84]), Data(x=[45, 1], edge_index=[2, 88]), Data(x=[47, 1], edge_index=[2, 92]), Data(x=[48, 1], edge_index=[2, 96]), Data(x=[48, 1], edge_index=[2, 96]), Data(x=[42, 1], edge_index=[2, 84]), Data(x=[44, 1], edge_index=[2, 88]), Data(x=[46, 1], edge_index=[2, 92]), Data(x=[48, 1], edge_index=[2, 96]), Data(x=[48, 1], edge_index=[2, 96]), Data(x=[42, 1], edge_index=[2, 84]), Data(x=[44, 1], edge_index=[2, 88]), Data(x=[46, 1], edge_index=[2, 92]), Data(x=[46, 1], edge_index=[2, 92]), Data(x=[46, 1], edge_index=[2, 92]), Data(x=[40, 1], edge_index=[2, 80]), Data(x=[42, 1], edge_index=[2, 84]), Data(x=[44, 1], edge_index=[2, 88]), Data(x=[45, 1], edge_index=[2, 88]), Data(x=[45, 1], edge_index=[2, 88]), Data(x=[39, 1], edge_index=[2, 76]), Data(x=[41, 1], edge_index=[2, 80]), Data(x=[43, 1], edge_index=[2, 84]), Data(x=[46, 1], edge_index=[2, 90]), Data(x=[46, 1], edge_index=[2, 90]), Data(x=[40, 1], edge_index=[2, 78]), Data(x=[42, 1], edge_index=[2, 82]), Data(x=[44, 1], edge_index=[2, 86]), Data(x=[48, 1], edge_index=[2, 94]), Data(x=[48, 1], edge_index=[2, 94]), Data(x=[42, 1], edge_index=[2, 82]), Data(x=[44, 1], edge_index=[2, 86]), Data(x=[46, 1], edge_index=[2, 90]), Data(x=[52, 1], edge_index=[2, 102]), Data(x=[52, 1], edge_index=[2, 102]), Data(x=[46, 1], edge_index=[2, 90]), Data(x=[48, 1], edge_index=[2, 94]), Data(x=[50, 1], edge_index=[2, 98]), Data(x=[48, 1], edge_index=[2, 96]), Data(x=[48, 1], edge_index=[2, 96]), Data(x=[42, 1], edge_index=[2, 84]), Data(x=[44, 1], edge_index=[2, 88]), Data(x=[46, 1], edge_index=[2, 92]), Data(x=[49, 1], edge_index=[2, 98]), Data(x=[49, 1], edge_index=[2, 98]), Data(x=[43, 1], edge_index=[2, 86]), Data(x=[45, 1], edge_index=[2, 90]), Data(x=[47, 1], edge_index=[2, 94]), Data(x=[47, 1], edge_index=[2, 92]), Data(x=[47, 1], edge_index=[2, 92]), Data(x=[41, 1], edge_index=[2, 80]), Data(x=[43, 1], edge_index=[2, 84]), Data(x=[45, 1], edge_index=[2, 88]), Data(x=[46, 1], edge_index=[2, 92]), Data(x=[46, 1], edge_index=[2, 92]), Data(x=[40, 1], edge_index=[2, 80]), Data(x=[42, 1], edge_index=[2, 84]), Data(x=[44, 1], edge_index=[2, 88]), Data(x=[47, 1], edge_index=[2, 94]), Data(x=[47, 1], edge_index=[2, 94]), Data(x=[41, 1], edge_index=[2, 82]), Data(x=[43, 1], edge_index=[2, 86]), Data(x=[45, 1], edge_index=[2, 90]), Data(x=[45, 1], edge_index=[2, 90]), Data(x=[45, 1], edge_index=[2, 90]), Data(x=[39, 1], edge_index=[2, 78]), Data(x=[41, 1], edge_index=[2, 82]), Data(x=[43, 1], edge_index=[2, 86]), Data(x=[47, 1], edge_index=[2, 94]), Data(x=[47, 1], edge_index=[2, 94]), Data(x=[41, 1], edge_index=[2, 82]), Data(x=[43, 1], edge_index=[2, 86]), Data(x=[45, 1], edge_index=[2, 90]), Data(x=[46, 1], edge_index=[2, 92]), Data(x=[46, 1], edge_index=[2, 92]), Data(x=[40, 1], edge_index=[2, 80]), Data(x=[42, 1], edge_index=[2, 84]), Data(x=[44, 1], edge_index=[2, 88]), Data(x=[49, 1], edge_index=[2, 96]), Data(x=[49, 1], edge_index=[2, 96]), Data(x=[43, 1], edge_index=[2, 84]), Data(x=[45, 1], edge_index=[2, 88]), Data(x=[47, 1], edge_index=[2, 92]), Data(x=[47, 1], edge_index=[2, 94]), Data(x=[47, 1], edge_index=[2, 94]), Data(x=[41, 1], edge_index=[2, 82]), Data(x=[43, 1], edge_index=[2, 86]), Data(x=[45, 1], edge_index=[2, 90]), Data(x=[48, 1], edge_index=[2, 96]), Data(x=[48, 1], edge_index=[2, 96]), Data(x=[42, 1], edge_index=[2, 84]), Data(x=[44, 1], edge_index=[2, 88]), Data(x=[46, 1], edge_index=[2, 92]), Data(x=[49, 1], edge_index=[2, 96]), Data(x=[49, 1], edge_index=[2, 96]), Data(x=[43, 1], edge_index=[2, 84]), Data(x=[45, 1], edge_index=[2, 88]), Data(x=[47, 1], edge_index=[2, 92]), Data(x=[50, 1], edge_index=[2, 98]), Data(x=[50, 1], edge_index=[2, 98]), Data(x=[44, 1], edge_index=[2, 86]), Data(x=[46, 1], edge_index=[2, 90]), Data(x=[48, 1], edge_index=[2, 94]), Data(x=[49, 1], edge_index=[2, 98]), Data(x=[49, 1], edge_index=[2, 98]), Data(x=[43, 1], edge_index=[2, 86]), Data(x=[45, 1], edge_index=[2, 90]), Data(x=[47, 1], edge_index=[2, 94]), Data(x=[49, 1], edge_index=[2, 98]), Data(x=[49, 1], edge_index=[2, 98]), Data(x=[43, 1], edge_index=[2, 86]), Data(x=[45, 1], edge_index=[2, 90]), Data(x=[47, 1], edge_index=[2, 94]), Data(x=[47, 1], edge_index=[2, 94]), Data(x=[47, 1], edge_index=[2, 94]), Data(x=[41, 1], edge_index=[2, 82]), Data(x=[43, 1], edge_index=[2, 86]), Data(x=[45, 1], edge_index=[2, 90]), Data(x=[46, 1], edge_index=[2, 90]), Data(x=[46, 1], edge_index=[2, 90]), Data(x=[40, 1], edge_index=[2, 78]), Data(x=[42, 1], edge_index=[2, 82]), Data(x=[44, 1], edge_index=[2, 86]), Data(x=[47, 1], edge_index=[2, 92]), Data(x=[47, 1], edge_index=[2, 92]), Data(x=[41, 1], edge_index=[2, 80]), Data(x=[43, 1], edge_index=[2, 84]), Data(x=[45, 1], edge_index=[2, 88]), Data(x=[49, 1], edge_index=[2, 96]), Data(x=[49, 1], edge_index=[2, 96]), Data(x=[43, 1], edge_index=[2, 84]), Data(x=[45, 1], edge_index=[2, 88]), Data(x=[47, 1], edge_index=[2, 92]), Data(x=[53, 1], edge_index=[2, 104]), Data(x=[53, 1], edge_index=[2, 104]), Data(x=[47, 1], edge_index=[2, 92]), Data(x=[49, 1], edge_index=[2, 96]), Data(x=[51, 1], edge_index=[2, 100]), Data(x=[49, 1], edge_index=[2, 98]), Data(x=[49, 1], edge_index=[2, 98]), Data(x=[43, 1], edge_index=[2, 86]), Data(x=[45, 1], edge_index=[2, 90]), Data(x=[47, 1], edge_index=[2, 94]), Data(x=[50, 1], edge_index=[2, 100]), Data(x=[50, 1], edge_index=[2, 100]), Data(x=[44, 1], edge_index=[2, 88]), Data(x=[46, 1], edge_index=[2, 92]), Data(x=[48, 1], edge_index=[2, 96]), Data(x=[48, 1], edge_index=[2, 94]), Data(x=[48, 1], edge_index=[2, 94]), Data(x=[42, 1], edge_index=[2, 82]), Data(x=[44, 1], edge_index=[2, 86]), Data(x=[46, 1], edge_index=[2, 90]), Data(x=[47, 1], edge_index=[2, 94]), Data(x=[47, 1], edge_index=[2, 94]), Data(x=[41, 1], edge_index=[2, 82]), Data(x=[43, 1], edge_index=[2, 86]), Data(x=[45, 1], edge_index=[2, 90]), Data(x=[48, 1], edge_index=[2, 96]), Data(x=[48, 1], edge_index=[2, 96]), Data(x=[42, 1], edge_index=[2, 84]), Data(x=[44, 1], edge_index=[2, 88]), Data(x=[46, 1], edge_index=[2, 92]), Data(x=[46, 1], edge_index=[2, 92]), Data(x=[46, 1], edge_index=[2, 92]), Data(x=[40, 1], edge_index=[2, 80]), Data(x=[42, 1], edge_index=[2, 84]), Data(x=[44, 1], edge_index=[2, 88]), Data(x=[48, 1], edge_index=[2, 96]), Data(x=[48, 1], edge_index=[2, 96]), Data(x=[42, 1], edge_index=[2, 84]), Data(x=[44, 1], edge_index=[2, 88]), Data(x=[46, 1], edge_index=[2, 92]), Data(x=[47, 1], edge_index=[2, 94]), Data(x=[47, 1], edge_index=[2, 94]), Data(x=[41, 1], edge_index=[2, 82]), Data(x=[43, 1], edge_index=[2, 86]), Data(x=[45, 1], edge_index=[2, 90]), Data(x=[50, 1], edge_index=[2, 98]), Data(x=[50, 1], edge_index=[2, 98]), Data(x=[44, 1], edge_index=[2, 86]), Data(x=[46, 1], edge_index=[2, 90]), Data(x=[48, 1], edge_index=[2, 94]), Data(x=[48, 1], edge_index=[2, 96]), Data(x=[48, 1], edge_index=[2, 96]), Data(x=[42, 1], edge_index=[2, 84]), Data(x=[44, 1], edge_index=[2, 88]), Data(x=[46, 1], edge_index=[2, 92]), Data(x=[49, 1], edge_index=[2, 98]), Data(x=[49, 1], edge_index=[2, 98]), Data(x=[43, 1], edge_index=[2, 86]), Data(x=[45, 1], edge_index=[2, 90]), Data(x=[47, 1], edge_index=[2, 94]), Data(x=[50, 1], edge_index=[2, 98]), Data(x=[50, 1], edge_index=[2, 98]), Data(x=[44, 1], edge_index=[2, 86]), Data(x=[46, 1], edge_index=[2, 90]), Data(x=[48, 1], edge_index=[2, 94]), Data(x=[50, 1], edge_index=[2, 98]), Data(x=[50, 1], edge_index=[2, 98]), Data(x=[44, 1], edge_index=[2, 86]), Data(x=[46, 1], edge_index=[2, 90]), Data(x=[48, 1], edge_index=[2, 94]), Data(x=[49, 1], edge_index=[2, 98]), Data(x=[49, 1], edge_index=[2, 98]), Data(x=[43, 1], edge_index=[2, 86]), Data(x=[45, 1], edge_index=[2, 90]), Data(x=[47, 1], edge_index=[2, 94]), Data(x=[49, 1], edge_index=[2, 98]), Data(x=[49, 1], edge_index=[2, 98]), Data(x=[43, 1], edge_index=[2, 86]), Data(x=[45, 1], edge_index=[2, 90]), Data(x=[47, 1], edge_index=[2, 94]), Data(x=[47, 1], edge_index=[2, 94]), Data(x=[47, 1], edge_index=[2, 94]), Data(x=[41, 1], edge_index=[2, 82]), Data(x=[43, 1], edge_index=[2, 86]), Data(x=[45, 1], edge_index=[2, 90]), Data(x=[46, 1], edge_index=[2, 90]), Data(x=[46, 1], edge_index=[2, 90]), Data(x=[40, 1], edge_index=[2, 78]), Data(x=[42, 1], edge_index=[2, 82]), Data(x=[44, 1], edge_index=[2, 86]), Data(x=[47, 1], edge_index=[2, 92]), Data(x=[47, 1], edge_index=[2, 92]), Data(x=[41, 1], edge_index=[2, 80]), Data(x=[43, 1], edge_index=[2, 84]), Data(x=[45, 1], edge_index=[2, 88]), Data(x=[49, 1], edge_index=[2, 96]), Data(x=[49, 1], edge_index=[2, 96]), Data(x=[43, 1], edge_index=[2, 84]), Data(x=[45, 1], edge_index=[2, 88]), Data(x=[47, 1], edge_index=[2, 92]), Data(x=[53, 1], edge_index=[2, 104]), Data(x=[53, 1], edge_index=[2, 104]), Data(x=[47, 1], edge_index=[2, 92]), Data(x=[49, 1], edge_index=[2, 96]), Data(x=[51, 1], edge_index=[2, 100]), Data(x=[49, 1], edge_index=[2, 98]), Data(x=[49, 1], edge_index=[2, 98]), Data(x=[43, 1], edge_index=[2, 86]), Data(x=[45, 1], edge_index=[2, 90]), Data(x=[47, 1], edge_index=[2, 94]), Data(x=[50, 1], edge_index=[2, 100]), Data(x=[50, 1], edge_index=[2, 100]), Data(x=[44, 1], edge_index=[2, 88]), Data(x=[46, 1], edge_index=[2, 92]), Data(x=[48, 1], edge_index=[2, 96]), Data(x=[48, 1], edge_index=[2, 94]), Data(x=[48, 1], edge_index=[2, 94]), Data(x=[42, 1], edge_index=[2, 82]), Data(x=[44, 1], edge_index=[2, 86]), Data(x=[46, 1], edge_index=[2, 90]), Data(x=[47, 1], edge_index=[2, 94]), Data(x=[47, 1], edge_index=[2, 94]), Data(x=[41, 1], edge_index=[2, 82]), Data(x=[43, 1], edge_index=[2, 86]), Data(x=[45, 1], edge_index=[2, 90]), Data(x=[48, 1], edge_index=[2, 96]), Data(x=[48, 1], edge_index=[2, 96]), Data(x=[42, 1], edge_index=[2, 84]), Data(x=[44, 1], edge_index=[2, 88]), Data(x=[46, 1], edge_index=[2, 92]), Data(x=[46, 1], edge_index=[2, 92]), Data(x=[46, 1], edge_index=[2, 92]), Data(x=[40, 1], edge_index=[2, 80]), Data(x=[42, 1], edge_index=[2, 84]), Data(x=[44, 1], edge_index=[2, 88]), Data(x=[48, 1], edge_index=[2, 96]), Data(x=[48, 1], edge_index=[2, 96]), Data(x=[42, 1], edge_index=[2, 84]), Data(x=[44, 1], edge_index=[2, 88]), Data(x=[46, 1], edge_index=[2, 92]), Data(x=[47, 1], edge_index=[2, 94]), Data(x=[47, 1], edge_index=[2, 94]), Data(x=[41, 1], edge_index=[2, 82]), Data(x=[43, 1], edge_index=[2, 86]), Data(x=[45, 1], edge_index=[2, 90]), Data(x=[50, 1], edge_index=[2, 98]), Data(x=[50, 1], edge_index=[2, 98]), Data(x=[44, 1], edge_index=[2, 86]), Data(x=[46, 1], edge_index=[2, 90]), Data(x=[48, 1], edge_index=[2, 94]), Data(x=[48, 1], edge_index=[2, 96]), Data(x=[48, 1], edge_index=[2, 96]), Data(x=[42, 1], edge_index=[2, 84]), Data(x=[44, 1], edge_index=[2, 88]), Data(x=[46, 1], edge_index=[2, 92]), Data(x=[49, 1], edge_index=[2, 98]), Data(x=[49, 1], edge_index=[2, 98]), Data(x=[43, 1], edge_index=[2, 86]), Data(x=[45, 1], edge_index=[2, 90]), Data(x=[47, 1], edge_index=[2, 94]), Data(x=[50, 1], edge_index=[2, 98]), Data(x=[50, 1], edge_index=[2, 98]), Data(x=[44, 1], edge_index=[2, 86]), Data(x=[46, 1], edge_index=[2, 90]), Data(x=[48, 1], edge_index=[2, 94]), Data(x=[49, 1], edge_index=[2, 96]), Data(x=[49, 1], edge_index=[2, 96]), Data(x=[43, 1], edge_index=[2, 84]), Data(x=[45, 1], edge_index=[2, 88]), Data(x=[47, 1], edge_index=[2, 92]), Data(x=[48, 1], edge_index=[2, 96]), Data(x=[48, 1], edge_index=[2, 96]), Data(x=[42, 1], edge_index=[2, 84]), Data(x=[44, 1], edge_index=[2, 88]), Data(x=[46, 1], edge_index=[2, 92]), Data(x=[48, 1], edge_index=[2, 96]), Data(x=[48, 1], edge_index=[2, 96]), Data(x=[42, 1], edge_index=[2, 84]), Data(x=[44, 1], edge_index=[2, 88]), Data(x=[46, 1], edge_index=[2, 92]), Data(x=[46, 1], edge_index=[2, 92]), Data(x=[46, 1], edge_index=[2, 92]), Data(x=[40, 1], edge_index=[2, 80]), Data(x=[42, 1], edge_index=[2, 84]), Data(x=[44, 1], edge_index=[2, 88]), Data(x=[45, 1], edge_index=[2, 88]), Data(x=[45, 1], edge_index=[2, 88]), Data(x=[39, 1], edge_index=[2, 76]), Data(x=[41, 1], edge_index=[2, 80]), Data(x=[43, 1], edge_index=[2, 84]), Data(x=[46, 1], edge_index=[2, 90]), Data(x=[46, 1], edge_index=[2, 90]), Data(x=[40, 1], edge_index=[2, 78]), Data(x=[42, 1], edge_index=[2, 82]), Data(x=[44, 1], edge_index=[2, 86]), Data(x=[48, 1], edge_index=[2, 94]), Data(x=[48, 1], edge_index=[2, 94]), Data(x=[42, 1], edge_index=[2, 82]), Data(x=[44, 1], edge_index=[2, 86]), Data(x=[46, 1], edge_index=[2, 90]), Data(x=[52, 1], edge_index=[2, 102]), Data(x=[52, 1], edge_index=[2, 102]), Data(x=[46, 1], edge_index=[2, 90]), Data(x=[48, 1], edge_index=[2, 94]), Data(x=[50, 1], edge_index=[2, 98]), Data(x=[48, 1], edge_index=[2, 96]), Data(x=[48, 1], edge_index=[2, 96]), Data(x=[42, 1], edge_index=[2, 84]), Data(x=[44, 1], edge_index=[2, 88]), Data(x=[46, 1], edge_index=[2, 92]), Data(x=[49, 1], edge_index=[2, 98]), Data(x=[49, 1], edge_index=[2, 98]), Data(x=[43, 1], edge_index=[2, 86]), Data(x=[45, 1], edge_index=[2, 90]), Data(x=[47, 1], edge_index=[2, 94]), Data(x=[47, 1], edge_index=[2, 92]), Data(x=[47, 1], edge_index=[2, 92]), Data(x=[41, 1], edge_index=[2, 80]), Data(x=[43, 1], edge_index=[2, 84]), Data(x=[45, 1], edge_index=[2, 88]), Data(x=[46, 1], edge_index=[2, 92]), Data(x=[46, 1], edge_index=[2, 92]), Data(x=[40, 1], edge_index=[2, 80]), Data(x=[42, 1], edge_index=[2, 84]), Data(x=[44, 1], edge_index=[2, 88]), Data(x=[47, 1], edge_index=[2, 94]), Data(x=[47, 1], edge_index=[2, 94]), Data(x=[41, 1], edge_index=[2, 82]), Data(x=[43, 1], edge_index=[2, 86]), Data(x=[45, 1], edge_index=[2, 90]), Data(x=[45, 1], edge_index=[2, 90]), Data(x=[45, 1], edge_index=[2, 90]), Data(x=[39, 1], edge_index=[2, 78]), Data(x=[41, 1], edge_index=[2, 82]), Data(x=[43, 1], edge_index=[2, 86]), Data(x=[47, 1], edge_index=[2, 94]), Data(x=[47, 1], edge_index=[2, 94]), Data(x=[41, 1], edge_index=[2, 82]), Data(x=[43, 1], edge_index=[2, 86]), Data(x=[45, 1], edge_index=[2, 90]), Data(x=[46, 1], edge_index=[2, 92]), Data(x=[46, 1], edge_index=[2, 92]), Data(x=[40, 1], edge_index=[2, 80]), Data(x=[42, 1], edge_index=[2, 84]), Data(x=[44, 1], edge_index=[2, 88]), Data(x=[49, 1], edge_index=[2, 96]), Data(x=[49, 1], edge_index=[2, 96]), Data(x=[43, 1], edge_index=[2, 84]), Data(x=[45, 1], edge_index=[2, 88]), Data(x=[47, 1], edge_index=[2, 92]), Data(x=[47, 1], edge_index=[2, 94]), Data(x=[47, 1], edge_index=[2, 94]), Data(x=[41, 1], edge_index=[2, 82]), Data(x=[43, 1], edge_index=[2, 86]), Data(x=[45, 1], edge_index=[2, 90]), Data(x=[48, 1], edge_index=[2, 96]), Data(x=[48, 1], edge_index=[2, 96]), Data(x=[42, 1], edge_index=[2, 84]), Data(x=[44, 1], edge_index=[2, 88]), Data(x=[46, 1], edge_index=[2, 92]), Data(x=[49, 1], edge_index=[2, 96]), Data(x=[49, 1], edge_index=[2, 96]), Data(x=[43, 1], edge_index=[2, 84]), Data(x=[45, 1], edge_index=[2, 88]), Data(x=[47, 1], edge_index=[2, 92]), Data(x=[48, 1], edge_index=[2, 94]), Data(x=[48, 1], edge_index=[2, 94]), Data(x=[42, 1], edge_index=[2, 82]), Data(x=[44, 1], edge_index=[2, 86]), Data(x=[46, 1], edge_index=[2, 90]), Data(x=[47, 1], edge_index=[2, 94]), Data(x=[47, 1], edge_index=[2, 94]), Data(x=[41, 1], edge_index=[2, 82]), Data(x=[43, 1], edge_index=[2, 86]), Data(x=[45, 1], edge_index=[2, 90]), Data(x=[47, 1], edge_index=[2, 94]), Data(x=[47, 1], edge_index=[2, 94]), Data(x=[41, 1], edge_index=[2, 82]), Data(x=[43, 1], edge_index=[2, 86]), Data(x=[45, 1], edge_index=[2, 90]), Data(x=[45, 1], edge_index=[2, 90]), Data(x=[45, 1], edge_index=[2, 90]), Data(x=[39, 1], edge_index=[2, 78]), Data(x=[41, 1], edge_index=[2, 82]), Data(x=[43, 1], edge_index=[2, 86]), Data(x=[44, 1], edge_index=[2, 86]), Data(x=[44, 1], edge_index=[2, 86]), Data(x=[38, 1], edge_index=[2, 74]), Data(x=[40, 1], edge_index=[2, 78]), Data(x=[42, 1], edge_index=[2, 82]), Data(x=[45, 1], edge_index=[2, 88]), Data(x=[45, 1], edge_index=[2, 88]), Data(x=[39, 1], edge_index=[2, 76]), Data(x=[41, 1], edge_index=[2, 80]), Data(x=[43, 1], edge_index=[2, 84]), Data(x=[47, 1], edge_index=[2, 92]), Data(x=[47, 1], edge_index=[2, 92]), Data(x=[41, 1], edge_index=[2, 80]), Data(x=[43, 1], edge_index=[2, 84]), Data(x=[45, 1], edge_index=[2, 88]), Data(x=[51, 1], edge_index=[2, 100]), Data(x=[51, 1], edge_index=[2, 100]), Data(x=[45, 1], edge_index=[2, 88]), Data(x=[47, 1], edge_index=[2, 92]), Data(x=[49, 1], edge_index=[2, 96]), Data(x=[47, 1], edge_index=[2, 94]), Data(x=[47, 1], edge_index=[2, 94]), Data(x=[41, 1], edge_index=[2, 82]), Data(x=[43, 1], edge_index=[2, 86]), Data(x=[45, 1], edge_index=[2, 90]), Data(x=[48, 1], edge_index=[2, 96]), Data(x=[48, 1], edge_index=[2, 96]), Data(x=[42, 1], edge_index=[2, 84]), Data(x=[44, 1], edge_index=[2, 88]), Data(x=[46, 1], edge_index=[2, 92]), Data(x=[46, 1], edge_index=[2, 90]), Data(x=[46, 1], edge_index=[2, 90]), Data(x=[40, 1], edge_index=[2, 78]), Data(x=[42, 1], edge_index=[2, 82]), Data(x=[44, 1], edge_index=[2, 86]), Data(x=[45, 1], edge_index=[2, 90]), Data(x=[45, 1], edge_index=[2, 90]), Data(x=[39, 1], edge_index=[2, 78]), Data(x=[41, 1], edge_index=[2, 82]), Data(x=[43, 1], edge_index=[2, 86]), Data(x=[46, 1], edge_index=[2, 92]), Data(x=[46, 1], edge_index=[2, 92]), Data(x=[40, 1], edge_index=[2, 80]), Data(x=[42, 1], edge_index=[2, 84]), Data(x=[44, 1], edge_index=[2, 88]), Data(x=[44, 1], edge_index=[2, 88]), Data(x=[44, 1], edge_index=[2, 88]), Data(x=[38, 1], edge_index=[2, 76]), Data(x=[40, 1], edge_index=[2, 80]), Data(x=[42, 1], edge_index=[2, 84]), Data(x=[46, 1], edge_index=[2, 92]), Data(x=[46, 1], edge_index=[2, 92]), Data(x=[40, 1], edge_index=[2, 80]), Data(x=[42, 1], edge_index=[2, 84]), Data(x=[44, 1], edge_index=[2, 88]), Data(x=[45, 1], edge_index=[2, 90]), Data(x=[45, 1], edge_index=[2, 90]), Data(x=[39, 1], edge_index=[2, 78]), Data(x=[41, 1], edge_index=[2, 82]), Data(x=[43, 1], edge_index=[2, 86]), Data(x=[48, 1], edge_index=[2, 94]), Data(x=[48, 1], edge_index=[2, 94]), Data(x=[42, 1], edge_index=[2, 82]), Data(x=[44, 1], edge_index=[2, 86]), Data(x=[46, 1], edge_index=[2, 90]), Data(x=[46, 1], edge_index=[2, 92]), Data(x=[46, 1], edge_index=[2, 92]), Data(x=[40, 1], edge_index=[2, 80]), Data(x=[42, 1], edge_index=[2, 84]), Data(x=[44, 1], edge_index=[2, 88]), Data(x=[47, 1], edge_index=[2, 94]), Data(x=[47, 1], edge_index=[2, 94]), Data(x=[41, 1], edge_index=[2, 82]), Data(x=[43, 1], edge_index=[2, 86]), Data(x=[45, 1], edge_index=[2, 90]), Data(x=[48, 1], edge_index=[2, 94]), Data(x=[48, 1], edge_index=[2, 94]), Data(x=[42, 1], edge_index=[2, 82]), Data(x=[44, 1], edge_index=[2, 86]), Data(x=[46, 1], edge_index=[2, 90]), Data(x=[49, 1], edge_index=[2, 96]), Data(x=[49, 1], edge_index=[2, 96]), Data(x=[43, 1], edge_index=[2, 84]), Data(x=[45, 1], edge_index=[2, 88]), Data(x=[47, 1], edge_index=[2, 92]), Data(x=[48, 1], edge_index=[2, 96]), Data(x=[48, 1], edge_index=[2, 96]), Data(x=[42, 1], edge_index=[2, 84]), Data(x=[44, 1], edge_index=[2, 88]), Data(x=[46, 1], edge_index=[2, 92]), Data(x=[48, 1], edge_index=[2, 96]), Data(x=[48, 1], edge_index=[2, 96]), Data(x=[42, 1], edge_index=[2, 84]), Data(x=[44, 1], edge_index=[2, 88]), Data(x=[46, 1], edge_index=[2, 92]), Data(x=[46, 1], edge_index=[2, 92]), Data(x=[46, 1], edge_index=[2, 92]), Data(x=[40, 1], edge_index=[2, 80]), Data(x=[42, 1], edge_index=[2, 84]), Data(x=[44, 1], edge_index=[2, 88]), Data(x=[45, 1], edge_index=[2, 88]), Data(x=[45, 1], edge_index=[2, 88]), Data(x=[39, 1], edge_index=[2, 76]), Data(x=[41, 1], edge_index=[2, 80]), Data(x=[43, 1], edge_index=[2, 84]), Data(x=[46, 1], edge_index=[2, 90]), Data(x=[46, 1], edge_index=[2, 90]), Data(x=[40, 1], edge_index=[2, 78]), Data(x=[42, 1], edge_index=[2, 82]), Data(x=[44, 1], edge_index=[2, 86]), Data(x=[48, 1], edge_index=[2, 94]), Data(x=[48, 1], edge_index=[2, 94]), Data(x=[42, 1], edge_index=[2, 82]), Data(x=[44, 1], edge_index=[2, 86]), Data(x=[46, 1], edge_index=[2, 90]), Data(x=[52, 1], edge_index=[2, 102]), Data(x=[52, 1], edge_index=[2, 102]), Data(x=[46, 1], edge_index=[2, 90]), Data(x=[48, 1], edge_index=[2, 94]), Data(x=[50, 1], edge_index=[2, 98]), Data(x=[48, 1], edge_index=[2, 96]), Data(x=[48, 1], edge_index=[2, 96]), Data(x=[42, 1], edge_index=[2, 84]), Data(x=[44, 1], edge_index=[2, 88]), Data(x=[46, 1], edge_index=[2, 92]), Data(x=[49, 1], edge_index=[2, 98]), Data(x=[49, 1], edge_index=[2, 98]), Data(x=[43, 1], edge_index=[2, 86]), Data(x=[45, 1], edge_index=[2, 90]), Data(x=[47, 1], edge_index=[2, 94]), Data(x=[47, 1], edge_index=[2, 92]), Data(x=[47, 1], edge_index=[2, 92]), Data(x=[41, 1], edge_index=[2, 80]), Data(x=[43, 1], edge_index=[2, 84]), Data(x=[45, 1], edge_index=[2, 88]), Data(x=[46, 1], edge_index=[2, 92]), Data(x=[46, 1], edge_index=[2, 92]), Data(x=[40, 1], edge_index=[2, 80]), Data(x=[42, 1], edge_index=[2, 84]), Data(x=[44, 1], edge_index=[2, 88]), Data(x=[47, 1], edge_index=[2, 94]), Data(x=[47, 1], edge_index=[2, 94]), Data(x=[41, 1], edge_index=[2, 82]), Data(x=[43, 1], edge_index=[2, 86]), Data(x=[45, 1], edge_index=[2, 90]), Data(x=[45, 1], edge_index=[2, 90]), Data(x=[45, 1], edge_index=[2, 90]), Data(x=[39, 1], edge_index=[2, 78]), Data(x=[41, 1], edge_index=[2, 82]), Data(x=[43, 1], edge_index=[2, 86]), Data(x=[47, 1], edge_index=[2, 94]), Data(x=[47, 1], edge_index=[2, 94]), Data(x=[41, 1], edge_index=[2, 82]), Data(x=[43, 1], edge_index=[2, 86]), Data(x=[45, 1], edge_index=[2, 90]), Data(x=[46, 1], edge_index=[2, 92]), Data(x=[46, 1], edge_index=[2, 92]), Data(x=[40, 1], edge_index=[2, 80]), Data(x=[42, 1], edge_index=[2, 84]), Data(x=[44, 1], edge_index=[2, 88]), Data(x=[49, 1], edge_index=[2, 96]), Data(x=[49, 1], edge_index=[2, 96]), Data(x=[43, 1], edge_index=[2, 84]), Data(x=[45, 1], edge_index=[2, 88]), Data(x=[47, 1], edge_index=[2, 92]), Data(x=[47, 1], edge_index=[2, 94]), Data(x=[47, 1], edge_index=[2, 94]), Data(x=[41, 1], edge_index=[2, 82]), Data(x=[43, 1], edge_index=[2, 86]), Data(x=[45, 1], edge_index=[2, 90]), Data(x=[48, 1], edge_index=[2, 96]), Data(x=[48, 1], edge_index=[2, 96]), Data(x=[42, 1], edge_index=[2, 84]), Data(x=[44, 1], edge_index=[2, 88]), Data(x=[46, 1], edge_index=[2, 92]), Data(x=[49, 1], edge_index=[2, 96]), Data(x=[49, 1], edge_index=[2, 96]), Data(x=[43, 1], edge_index=[2, 84]), Data(x=[45, 1], edge_index=[2, 88]), Data(x=[47, 1], edge_index=[2, 92]), Data(x=[49, 1], edge_index=[2, 96]), Data(x=[49, 1], edge_index=[2, 96]), Data(x=[43, 1], edge_index=[2, 84]), Data(x=[45, 1], edge_index=[2, 88]), Data(x=[47, 1], edge_index=[2, 92]), Data(x=[48, 1], edge_index=[2, 96]), Data(x=[48, 1], edge_index=[2, 96]), Data(x=[42, 1], edge_index=[2, 84]), Data(x=[44, 1], edge_index=[2, 88]), Data(x=[46, 1], edge_index=[2, 92]), Data(x=[48, 1], edge_index=[2, 96]), Data(x=[48, 1], edge_index=[2, 96]), Data(x=[42, 1], edge_index=[2, 84]), Data(x=[44, 1], edge_index=[2, 88]), Data(x=[46, 1], edge_index=[2, 92]), Data(x=[46, 1], edge_index=[2, 92]), Data(x=[46, 1], edge_index=[2, 92]), Data(x=[40, 1], edge_index=[2, 80]), Data(x=[42, 1], edge_index=[2, 84]), Data(x=[44, 1], edge_index=[2, 88]), Data(x=[45, 1], edge_index=[2, 88]), Data(x=[45, 1], edge_index=[2, 88]), Data(x=[39, 1], edge_index=[2, 76]), Data(x=[41, 1], edge_index=[2, 80]), Data(x=[43, 1], edge_index=[2, 84]), Data(x=[46, 1], edge_index=[2, 90]), Data(x=[46, 1], edge_index=[2, 90]), Data(x=[40, 1], edge_index=[2, 78]), Data(x=[42, 1], edge_index=[2, 82]), Data(x=[44, 1], edge_index=[2, 86]), Data(x=[48, 1], edge_index=[2, 94]), Data(x=[48, 1], edge_index=[2, 94]), Data(x=[42, 1], edge_index=[2, 82]), Data(x=[44, 1], edge_index=[2, 86]), Data(x=[46, 1], edge_index=[2, 90]), Data(x=[52, 1], edge_index=[2, 102]), Data(x=[52, 1], edge_index=[2, 102]), Data(x=[46, 1], edge_index=[2, 90]), Data(x=[48, 1], edge_index=[2, 94]), Data(x=[50, 1], edge_index=[2, 98]), Data(x=[48, 1], edge_index=[2, 96]), Data(x=[48, 1], edge_index=[2, 96]), Data(x=[42, 1], edge_index=[2, 84]), Data(x=[44, 1], edge_index=[2, 88]), Data(x=[46, 1], edge_index=[2, 92]), Data(x=[49, 1], edge_index=[2, 98]), Data(x=[49, 1], edge_index=[2, 98]), Data(x=[43, 1], edge_index=[2, 86]), Data(x=[45, 1], edge_index=[2, 90]), Data(x=[47, 1], edge_index=[2, 94]), Data(x=[47, 1], edge_index=[2, 92]), Data(x=[47, 1], edge_index=[2, 92]), Data(x=[41, 1], edge_index=[2, 80]), Data(x=[43, 1], edge_index=[2, 84]), Data(x=[45, 1], edge_index=[2, 88]), Data(x=[46, 1], edge_index=[2, 92]), Data(x=[46, 1], edge_index=[2, 92]), Data(x=[40, 1], edge_index=[2, 80]), Data(x=[42, 1], edge_index=[2, 84]), Data(x=[44, 1], edge_index=[2, 88]), Data(x=[47, 1], edge_index=[2, 94]), Data(x=[47, 1], edge_index=[2, 94]), Data(x=[41, 1], edge_index=[2, 82]), Data(x=[43, 1], edge_index=[2, 86]), Data(x=[45, 1], edge_index=[2, 90]), Data(x=[45, 1], edge_index=[2, 90]), Data(x=[45, 1], edge_index=[2, 90]), Data(x=[39, 1], edge_index=[2, 78]), Data(x=[41, 1], edge_index=[2, 82]), Data(x=[43, 1], edge_index=[2, 86]), Data(x=[47, 1], edge_index=[2, 94]), Data(x=[47, 1], edge_index=[2, 94]), Data(x=[41, 1], edge_index=[2, 82]), Data(x=[43, 1], edge_index=[2, 86]), Data(x=[45, 1], edge_index=[2, 90]), Data(x=[46, 1], edge_index=[2, 92]), Data(x=[46, 1], edge_index=[2, 92]), Data(x=[40, 1], edge_index=[2, 80]), Data(x=[42, 1], edge_index=[2, 84]), Data(x=[44, 1], edge_index=[2, 88]), Data(x=[49, 1], edge_index=[2, 96]), Data(x=[49, 1], edge_index=[2, 96]), Data(x=[43, 1], edge_index=[2, 84]), Data(x=[45, 1], edge_index=[2, 88]), Data(x=[47, 1], edge_index=[2, 92]), Data(x=[47, 1], edge_index=[2, 94]), Data(x=[47, 1], edge_index=[2, 94]), Data(x=[41, 1], edge_index=[2, 82]), Data(x=[43, 1], edge_index=[2, 86]), Data(x=[45, 1], edge_index=[2, 90]), Data(x=[48, 1], edge_index=[2, 96]), Data(x=[48, 1], edge_index=[2, 96]), Data(x=[42, 1], edge_index=[2, 84]), Data(x=[44, 1], edge_index=[2, 88]), Data(x=[46, 1], edge_index=[2, 92]), Data(x=[49, 1], edge_index=[2, 96]), Data(x=[49, 1], edge_index=[2, 96]), Data(x=[43, 1], edge_index=[2, 84]), Data(x=[45, 1], edge_index=[2, 88]), Data(x=[47, 1], edge_index=[2, 92]), Data(x=[50, 1], edge_index=[2, 98]), Data(x=[50, 1], edge_index=[2, 98]), Data(x=[44, 1], edge_index=[2, 86]), Data(x=[46, 1], edge_index=[2, 90]), Data(x=[48, 1], edge_index=[2, 94]), Data(x=[49, 1], edge_index=[2, 98]), Data(x=[49, 1], edge_index=[2, 98]), Data(x=[43, 1], edge_index=[2, 86]), Data(x=[45, 1], edge_index=[2, 90]), Data(x=[47, 1], edge_index=[2, 94]), Data(x=[49, 1], edge_index=[2, 98]), Data(x=[49, 1], edge_index=[2, 98]), Data(x=[43, 1], edge_index=[2, 86]), Data(x=[45, 1], edge_index=[2, 90]), Data(x=[47, 1], edge_index=[2, 94]), Data(x=[47, 1], edge_index=[2, 94]), Data(x=[47, 1], edge_index=[2, 94]), Data(x=[41, 1], edge_index=[2, 82]), Data(x=[43, 1], edge_index=[2, 86]), Data(x=[45, 1], edge_index=[2, 90]), Data(x=[46, 1], edge_index=[2, 90]), Data(x=[46, 1], edge_index=[2, 90]), Data(x=[40, 1], edge_index=[2, 78]), Data(x=[42, 1], edge_index=[2, 82]), Data(x=[44, 1], edge_index=[2, 86]), Data(x=[47, 1], edge_index=[2, 92]), Data(x=[47, 1], edge_index=[2, 92]), Data(x=[41, 1], edge_index=[2, 80]), Data(x=[43, 1], edge_index=[2, 84]), Data(x=[45, 1], edge_index=[2, 88]), Data(x=[49, 1], edge_index=[2, 96]), Data(x=[49, 1], edge_index=[2, 96]), Data(x=[43, 1], edge_index=[2, 84]), Data(x=[45, 1], edge_index=[2, 88]), Data(x=[47, 1], edge_index=[2, 92]), Data(x=[53, 1], edge_index=[2, 104]), Data(x=[53, 1], edge_index=[2, 104]), Data(x=[47, 1], edge_index=[2, 92]), Data(x=[49, 1], edge_index=[2, 96]), Data(x=[51, 1], edge_index=[2, 100]), Data(x=[49, 1], edge_index=[2, 98]), Data(x=[49, 1], edge_index=[2, 98]), Data(x=[43, 1], edge_index=[2, 86]), Data(x=[45, 1], edge_index=[2, 90]), Data(x=[47, 1], edge_index=[2, 94]), Data(x=[50, 1], edge_index=[2, 100]), Data(x=[50, 1], edge_index=[2, 100]), Data(x=[44, 1], edge_index=[2, 88]), Data(x=[46, 1], edge_index=[2, 92]), Data(x=[48, 1], edge_index=[2, 96]), Data(x=[48, 1], edge_index=[2, 94]), Data(x=[48, 1], edge_index=[2, 94]), Data(x=[42, 1], edge_index=[2, 82]), Data(x=[44, 1], edge_index=[2, 86]), Data(x=[46, 1], edge_index=[2, 90]), Data(x=[47, 1], edge_index=[2, 94]), Data(x=[47, 1], edge_index=[2, 94]), Data(x=[41, 1], edge_index=[2, 82]), Data(x=[43, 1], edge_index=[2, 86]), Data(x=[45, 1], edge_index=[2, 90]), Data(x=[48, 1], edge_index=[2, 96]), Data(x=[48, 1], edge_index=[2, 96]), Data(x=[42, 1], edge_index=[2, 84]), Data(x=[44, 1], edge_index=[2, 88]), Data(x=[46, 1], edge_index=[2, 92]), Data(x=[46, 1], edge_index=[2, 92]), Data(x=[46, 1], edge_index=[2, 92]), Data(x=[40, 1], edge_index=[2, 80]), Data(x=[42, 1], edge_index=[2, 84]), Data(x=[44, 1], edge_index=[2, 88]), Data(x=[48, 1], edge_index=[2, 96]), Data(x=[48, 1], edge_index=[2, 96]), Data(x=[42, 1], edge_index=[2, 84]), Data(x=[44, 1], edge_index=[2, 88]), Data(x=[46, 1], edge_index=[2, 92]), Data(x=[47, 1], edge_index=[2, 94]), Data(x=[47, 1], edge_index=[2, 94]), Data(x=[41, 1], edge_index=[2, 82]), Data(x=[43, 1], edge_index=[2, 86]), Data(x=[45, 1], edge_index=[2, 90]), Data(x=[50, 1], edge_index=[2, 98]), Data(x=[50, 1], edge_index=[2, 98]), Data(x=[44, 1], edge_index=[2, 86]), Data(x=[46, 1], edge_index=[2, 90]), Data(x=[48, 1], edge_index=[2, 94]), Data(x=[48, 1], edge_index=[2, 96]), Data(x=[48, 1], edge_index=[2, 96]), Data(x=[42, 1], edge_index=[2, 84]), Data(x=[44, 1], edge_index=[2, 88]), Data(x=[46, 1], edge_index=[2, 92]), Data(x=[49, 1], edge_index=[2, 98]), Data(x=[49, 1], edge_index=[2, 98]), Data(x=[43, 1], edge_index=[2, 86]), Data(x=[45, 1], edge_index=[2, 90]), Data(x=[47, 1], edge_index=[2, 94]), Data(x=[50, 1], edge_index=[2, 98]), Data(x=[50, 1], edge_index=[2, 98]), Data(x=[44, 1], edge_index=[2, 86]), Data(x=[46, 1], edge_index=[2, 90]), Data(x=[48, 1], edge_index=[2, 94])]\n"
          ]
        }
      ]
    },
    {
      "cell_type": "code",
      "source": [
        "def find_max_nodes(graphs):\n",
        "    max_nodes = 0\n",
        "    for graph in graphs:\n",
        "        if graph.num_nodes > max_nodes:\n",
        "            max_nodes = graph.num_nodes\n",
        "    return max_nodes\n",
        "\n",
        "# Assuming 'graphs' is your list of graph data\n",
        "max_nodes = find_max_nodes(graphs)\n",
        "print(f\"The maximum number of nodes in any graph is: {max_nodes}\")"
      ],
      "metadata": {
        "colab": {
          "base_uri": "https://localhost:8080/"
        },
        "id": "rF1gQ6Scz5Da",
        "outputId": "b2ef50fc-cf8d-424f-9822-9310b0e20703"
      },
      "execution_count": 25,
      "outputs": [
        {
          "output_type": "stream",
          "name": "stdout",
          "text": [
            "The maximum number of nodes in any graph is: 60\n"
          ]
        }
      ]
    },
    {
      "cell_type": "code",
      "source": [
        "def find_max_edges(graphs):\n",
        "    max_edges = 0\n",
        "    for graph in graphs:\n",
        "        num_edges = graph.edge_index.size(1)  # Number of columns in edge_index\n",
        "        if num_edges > max_edges:\n",
        "            max_edges = num_edges\n",
        "    return max_edges\n",
        "\n",
        "# Assuming 'graphs' is your list of graph data\n",
        "max_edges = find_max_edges(graphs)\n",
        "print(f\"The maximum number of edges in any graph is: {max_edges}\")"
      ],
      "metadata": {
        "colab": {
          "base_uri": "https://localhost:8080/"
        },
        "id": "6apAdeIg0puK",
        "outputId": "d7674e6d-0b1d-4876-de7f-6bf5df6d88dd"
      },
      "execution_count": 27,
      "outputs": [
        {
          "output_type": "stream",
          "name": "stdout",
          "text": [
            "The maximum number of edges in any graph is: 118\n"
          ]
        }
      ]
    },
    {
      "cell_type": "code",
      "source": [
        "import torch\n",
        "from torch_geometric.data import Data\n",
        "\n",
        "def pad_graph(graph, max_nodes, max_edges):\n",
        "    num_nodes = graph.num_nodes\n",
        "    num_edges = graph.edge_index.size(1)\n",
        "\n",
        "    # Pad node features\n",
        "    node_padding = max_nodes - num_nodes\n",
        "    padded_x = torch.cat([graph.x, torch.zeros(node_padding, graph.x.size(1))], dim=0)\n",
        "\n",
        "    # Pad edge index\n",
        "    edge_padding = max_edges - num_edges\n",
        "    dummy_edges = torch.tensor([[num_nodes, num_nodes]] * edge_padding).t()\n",
        "    padded_edge_index = torch.cat([graph.edge_index, dummy_edges], dim=1)\n",
        "\n",
        "    return Data(x=padded_x, edge_index=padded_edge_index)"
      ],
      "metadata": {
        "id": "MvHbX5MP0CF5"
      },
      "execution_count": 26,
      "outputs": []
    },
    {
      "cell_type": "code",
      "source": [
        "padded_graphs = [pad_graph(graph, max_nodes, max_edges) for graph in graphs]"
      ],
      "metadata": {
        "id": "CWYPTrYi0uJS"
      },
      "execution_count": 28,
      "outputs": []
    },
    {
      "cell_type": "code",
      "source": [
        "import torch\n",
        "from torch.utils.data import Dataset, DataLoader\n",
        "\n",
        "class GraphDataset(Dataset):\n",
        "    def __init__(self, graphs):\n",
        "        self.graphs = graphs\n",
        "\n",
        "    def __len__(self):\n",
        "        return len(self.graphs)\n",
        "\n",
        "    def __getitem__(self, idx):\n",
        "        graph = self.graphs[idx]\n",
        "        return graph.x, graph.edge_index\n",
        "\n",
        "# Convert your list of padded graphs to a dataset\n",
        "graph_dataset = GraphDataset(padded_graphs)\n",
        "\n",
        "# Split the dataset into training and testing\n",
        "train_size = int(0.8 * len(graph_dataset))\n",
        "test_size = len(graph_dataset) - train_size\n",
        "train_dataset, test_dataset = torch.utils.data.random_split(graph_dataset, [train_size, test_size])\n",
        "\n",
        "# Create data loaders\n",
        "train_loader = DataLoader(train_dataset, batch_size=32, shuffle=True)\n",
        "test_loader = DataLoader(test_dataset, batch_size=32, shuffle=False)"
      ],
      "metadata": {
        "id": "GnlveRDL1v9U"
      },
      "execution_count": 30,
      "outputs": []
    },
    {
      "cell_type": "code",
      "source": [
        "print(len(graph_dataset))\n",
        "print(len(test_dataset))\n",
        "print(len(train_dataset))"
      ],
      "metadata": {
        "colab": {
          "base_uri": "https://localhost:8080/"
        },
        "id": "7JGjlToQ1yet",
        "outputId": "f0eb42ad-c098-49f1-e1d8-b67d271b5e18"
      },
      "execution_count": 35,
      "outputs": [
        {
          "output_type": "stream",
          "name": "stdout",
          "text": [
            "1200\n",
            "240\n",
            "960\n"
          ]
        }
      ]
    }
  ]
}