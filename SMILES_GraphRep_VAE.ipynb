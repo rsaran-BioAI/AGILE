{
  "nbformat": 4,
  "nbformat_minor": 0,
  "metadata": {
    "colab": {
      "provenance": [],
      "authorship_tag": "ABX9TyPxAk4S+o/bR5uUpNia08O1",
      "include_colab_link": true
    },
    "kernelspec": {
      "name": "python3",
      "display_name": "Python 3"
    },
    "language_info": {
      "name": "python"
    }
  },
  "cells": [
    {
      "cell_type": "markdown",
      "metadata": {
        "id": "view-in-github",
        "colab_type": "text"
      },
      "source": [
        "<a href=\"https://colab.research.google.com/github/rsaran-BioAI/AGILE/blob/main/SMILES_GraphRep_VAE.ipynb\" target=\"_parent\"><img src=\"https://colab.research.google.com/assets/colab-badge.svg\" alt=\"Open In Colab\"/></a>"
      ]
    },
    {
      "cell_type": "code",
      "execution_count": null,
      "metadata": {
        "id": "oWhC8JskwLZq"
      },
      "outputs": [],
      "source": [
        "# Connecting the drive with Colab\n",
        "\n",
        "from google.colab import drive\n",
        "drive.mount('/content/drive')"
      ]
    },
    {
      "cell_type": "code",
      "source": [
        "from sklearn.preprocessing import OneHotEncoder\n",
        "import numpy as np\n",
        "import pandas as pd"
      ],
      "metadata": {
        "id": "Gea0rRztwWbk"
      },
      "execution_count": null,
      "outputs": []
    },
    {
      "cell_type": "code",
      "source": [
        "# Load the spreadsheet\n",
        "file_path = '/content/drive/MyDrive/AGILE2/SMILES_features.csv'\n",
        "smiles_data = pd.read_csv(file_path)"
      ],
      "metadata": {
        "id": "SL5cyn0GwXH9"
      },
      "execution_count": null,
      "outputs": []
    },
    {
      "cell_type": "code",
      "source": [
        "# Extracting SMILES strings\n",
        "smiles_list = smiles_data['smiles'].tolist()"
      ],
      "metadata": {
        "id": "AoK8gMnbwahN"
      },
      "execution_count": null,
      "outputs": []
    },
    {
      "cell_type": "code",
      "source": [
        "# Display the first few rows to understand the data\n",
        "smiles_data.head()"
      ],
      "metadata": {
        "id": "XuCv2tUrwcds"
      },
      "execution_count": null,
      "outputs": []
    },
    {
      "cell_type": "code",
      "source": [
        "# Extracting SMILES strings\n",
        "smiles_list = smiles_data['smiles'].tolist()"
      ],
      "metadata": {
        "id": "6ISYHLORwjtf"
      },
      "execution_count": null,
      "outputs": []
    },
    {
      "cell_type": "code",
      "source": [
        "# Printing the number of SMILES strings in the list\n",
        "print(len(smiles_list))"
      ],
      "metadata": {
        "id": "tlsri5hKwpsN"
      },
      "execution_count": null,
      "outputs": []
    }
  ]
}