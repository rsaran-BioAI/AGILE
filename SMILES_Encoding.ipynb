{
  "nbformat": 4,
  "nbformat_minor": 0,
  "metadata": {
    "colab": {
      "provenance": [],
      "authorship_tag": "ABX9TyP4BP+JB571eIKdR/BBSHHo",
      "include_colab_link": true
    },
    "kernelspec": {
      "name": "python3",
      "display_name": "Python 3"
    },
    "language_info": {
      "name": "python"
    }
  },
  "cells": [
    {
      "cell_type": "markdown",
      "metadata": {
        "id": "view-in-github",
        "colab_type": "text"
      },
      "source": [
        "<a href=\"https://colab.research.google.com/github/rsaran-BioAI/AGILE/blob/main/SMILES_Encoding.ipynb\" target=\"_parent\"><img src=\"https://colab.research.google.com/assets/colab-badge.svg\" alt=\"Open In Colab\"/></a>"
      ]
    },
    {
      "cell_type": "code",
      "source": [
        "!pip install rdkit-pypi"
      ],
      "metadata": {
        "colab": {
          "base_uri": "https://localhost:8080/"
        },
        "id": "-GljwBQIgxhE",
        "outputId": "8f0aa894-8091-46c3-8dde-6f795961f5e7"
      },
      "execution_count": 1,
      "outputs": [
        {
          "output_type": "stream",
          "name": "stdout",
          "text": [
            "Collecting rdkit-pypi\n",
            "  Downloading rdkit_pypi-2022.9.5-cp310-cp310-manylinux_2_17_x86_64.manylinux2014_x86_64.whl (29.4 MB)\n",
            "\u001b[2K     \u001b[90m━━━━━━━━━━━━━━━━━━━━━━━━━━━━━━━━━━━━━━━━\u001b[0m \u001b[32m29.4/29.4 MB\u001b[0m \u001b[31m47.4 MB/s\u001b[0m eta \u001b[36m0:00:00\u001b[0m\n",
            "\u001b[?25hRequirement already satisfied: numpy in /usr/local/lib/python3.10/dist-packages (from rdkit-pypi) (1.23.5)\n",
            "Requirement already satisfied: Pillow in /usr/local/lib/python3.10/dist-packages (from rdkit-pypi) (9.4.0)\n",
            "Installing collected packages: rdkit-pypi\n",
            "Successfully installed rdkit-pypi-2022.9.5\n"
          ]
        }
      ]
    },
    {
      "cell_type": "markdown",
      "source": [
        "## Reading, Drawing, and Analyzing a Molecule"
      ],
      "metadata": {
        "id": "9OSEY_h_wBou"
      }
    },
    {
      "cell_type": "code",
      "source": [
        "from rdkit import Chem\n",
        "from rdkit.Chem import Draw"
      ],
      "metadata": {
        "id": "zYdT5kUWhKbI"
      },
      "execution_count": 2,
      "outputs": []
    },
    {
      "cell_type": "code",
      "source": [
        "# define the smiles string and covert it into a molecule sturcture\n",
        "caffeine_smiles = 'CN1C=NC2=C1C(=O)N(C(=O)N2C)C'\n",
        "\n",
        "mol = Chem.MolFromSmiles(caffeine_smiles)\n",
        "\n",
        "# draw the modecule and display in colab notebook\n",
        "mol_image = Draw.MolToImage(mol)\n",
        "display(mol_image)"
      ],
      "metadata": {
        "colab": {
          "base_uri": "https://localhost:8080/",
          "height": 317
        },
        "id": "7x-pG8tbhNLz",
        "outputId": "905ea4b4-f60f-4fa9-967f-965c35413ec9"
      },
      "execution_count": null,
      "outputs": [
        {
          "output_type": "display_data",
          "data": {
            "text/plain": [
              "<PIL.PngImagePlugin.PngImageFile image mode=RGB size=300x300>"
            ],
            "image/png": "[encoded data removed]"
          },
          "metadata": {}
        }
      ]
    },
    {
      "cell_type": "code",
      "source": [
        "# Save the image if needed\n",
        "mol_image.save('caffeine.png')"
      ],
      "metadata": {
        "id": "qTAhlTDxh6Tz"
      },
      "execution_count": null,
      "outputs": []
    },
    {
      "cell_type": "code",
      "source": [
        "from google.colab import files\n",
        "files.download('caffeine.png')"
      ],
      "metadata": {
        "colab": {
          "base_uri": "https://localhost:8080/",
          "height": 17
        },
        "id": "lfR5KCH6h-dX",
        "outputId": "0b5b1cf7-46f2-4beb-cd5e-84c3bc3ed33f"
      },
      "execution_count": null,
      "outputs": [
        {
          "output_type": "display_data",
          "data": {
            "text/plain": [
              "<IPython.core.display.Javascript object>"
            ],
            "application/javascript": [
              "\n",
              "    async function download(id, filename, size) {\n",
              "      if (!google.colab.kernel.accessAllowed) {\n",
              "        return;\n",
              "      }\n",
              "      const div = document.createElement('div');\n",
              "      const label = document.createElement('label');\n",
              "      label.textContent = `Downloading \"${filename}\": `;\n",
              "      div.appendChild(label);\n",
              "      const progress = document.createElement('progress');\n",
              "      progress.max = size;\n",
              "      div.appendChild(progress);\n",
              "      document.body.appendChild(div);\n",
              "\n",
              "      const buffers = [];\n",
              "      let downloaded = 0;\n",
              "\n",
              "      const channel = await google.colab.kernel.comms.open(id);\n",
              "      // Send a message to notify the kernel that we're ready.\n",
              "      channel.send({})\n",
              "\n",
              "      for await (const message of channel.messages) {\n",
              "        // Send a message to notify the kernel that we're ready.\n",
              "        channel.send({})\n",
              "        if (message.buffers) {\n",
              "          for (const buffer of message.buffers) {\n",
              "            buffers.push(buffer);\n",
              "            downloaded += buffer.byteLength;\n",
              "            progress.value = downloaded;\n",
              "          }\n",
              "        }\n",
              "      }\n",
              "      const blob = new Blob(buffers, {type: 'application/binary'});\n",
              "      const a = document.createElement('a');\n",
              "      a.href = window.URL.createObjectURL(blob);\n",
              "      a.download = filename;\n",
              "      div.appendChild(a);\n",
              "      a.click();\n",
              "      div.remove();\n",
              "    }\n",
              "  "
            ]
          },
          "metadata": {}
        },
        {
          "output_type": "display_data",
          "data": {
            "text/plain": [
              "<IPython.core.display.Javascript object>"
            ],
            "application/javascript": [
              "download(\"download_e046dece-91fb-4f0e-bbec-d7b45f2d9072\", \"caffeine.png\", 12070)"
            ]
          },
          "metadata": {}
        }
      ]
    },
    {
      "cell_type": "code",
      "source": [
        "# draw the molecule with property\n",
        "for i, atom in enumerate(mol.GetAtoms()):\n",
        "    atom.SetProp(\"molAtomMapNumber\", str(atom.GetIdx()))\n",
        "\n",
        "Draw.MolToImage(mol)"
      ],
      "metadata": {
        "colab": {
          "base_uri": "https://localhost:8080/",
          "height": 317
        },
        "id": "slQHLRYujZ_c",
        "outputId": "565f4196-c97d-4104-e87d-aa043477cfb4"
      },
      "execution_count": null,
      "outputs": [
        {
          "output_type": "execute_result",
          "data": {
            "text/plain": [
              "<PIL.PngImagePlugin.PngImageFile image mode=RGB size=300x300>"
            ],
            "image/png": "[encoded data removed]"
          },
          "metadata": {},
          "execution_count": 18
        }
      ]
    },
    {
      "cell_type": "code",
      "source": [
        "# Save the image if needed\n",
        "mol_image.save('caffeine_with_prop.png')"
      ],
      "metadata": {
        "id": "bm94vNTMjs8z"
      },
      "execution_count": null,
      "outputs": []
    },
    {
      "cell_type": "code",
      "source": [
        "from google.colab import files\n",
        "files.download('caffeine_with_prop.png')"
      ],
      "metadata": {
        "colab": {
          "base_uri": "https://localhost:8080/",
          "height": 17
        },
        "id": "pJGueU2IjxPF",
        "outputId": "5d41f3ce-78a6-4dae-e1a1-e1082e4e06ea"
      },
      "execution_count": null,
      "outputs": [
        {
          "output_type": "display_data",
          "data": {
            "text/plain": [
              "<IPython.core.display.Javascript object>"
            ],
            "application/javascript": [
              "\n",
              "    async function download(id, filename, size) {\n",
              "      if (!google.colab.kernel.accessAllowed) {\n",
              "        return;\n",
              "      }\n",
              "      const div = document.createElement('div');\n",
              "      const label = document.createElement('label');\n",
              "      label.textContent = `Downloading \"${filename}\": `;\n",
              "      div.appendChild(label);\n",
              "      const progress = document.createElement('progress');\n",
              "      progress.max = size;\n",
              "      div.appendChild(progress);\n",
              "      document.body.appendChild(div);\n",
              "\n",
              "      const buffers = [];\n",
              "      let downloaded = 0;\n",
              "\n",
              "      const channel = await google.colab.kernel.comms.open(id);\n",
              "      // Send a message to notify the kernel that we're ready.\n",
              "      channel.send({})\n",
              "\n",
              "      for await (const message of channel.messages) {\n",
              "        // Send a message to notify the kernel that we're ready.\n",
              "        channel.send({})\n",
              "        if (message.buffers) {\n",
              "          for (const buffer of message.buffers) {\n",
              "            buffers.push(buffer);\n",
              "            downloaded += buffer.byteLength;\n",
              "            progress.value = downloaded;\n",
              "          }\n",
              "        }\n",
              "      }\n",
              "      const blob = new Blob(buffers, {type: 'application/binary'});\n",
              "      const a = document.createElement('a');\n",
              "      a.href = window.URL.createObjectURL(blob);\n",
              "      a.download = filename;\n",
              "      div.appendChild(a);\n",
              "      a.click();\n",
              "      div.remove();\n",
              "    }\n",
              "  "
            ]
          },
          "metadata": {}
        },
        {
          "output_type": "display_data",
          "data": {
            "text/plain": [
              "<IPython.core.display.Javascript object>"
            ],
            "application/javascript": [
              "download(\"download_e4cdc954-04e3-4a4c-9bf3-60081052c6de\", \"caffeine_with_prop.png\", 12070)"
            ]
          },
          "metadata": {}
        }
      ]
    },
    {
      "cell_type": "code",
      "execution_count": null,
      "metadata": {
        "colab": {
          "base_uri": "https://localhost:8080/"
        },
        "id": "w3BtnP7ZTHd3",
        "outputId": "25230346-ea55-4456-cbcc-cc01ab623669"
      },
      "outputs": [
        {
          "output_type": "stream",
          "name": "stdout",
          "text": [
            "0 , 6 , False , C\n",
            "1 , 7 , True , N\n",
            "2 , 6 , True , C\n",
            "3 , 7 , True , N\n",
            "4 , 6 , True , C\n",
            "5 , 6 , True , C\n",
            "6 , 6 , True , C\n",
            "7 , 8 , False , O\n",
            "8 , 7 , True , N\n",
            "9 , 6 , True , C\n",
            "10 , 8 , False , O\n",
            "11 , 7 , True , N\n",
            "12 , 6 , False , C\n",
            "13 , 6 , False , C\n",
            "0 , 1 , SINGLE\n",
            "1 , 2 , AROMATIC\n",
            "2 , 3 , AROMATIC\n",
            "3 , 4 , AROMATIC\n",
            "4 , 5 , AROMATIC\n",
            "5 , 6 , AROMATIC\n",
            "6 , 7 , DOUBLE\n",
            "6 , 8 , AROMATIC\n",
            "8 , 9 , AROMATIC\n",
            "9 , 10 , DOUBLE\n",
            "9 , 11 , AROMATIC\n",
            "11 , 12 , SINGLE\n",
            "8 , 13 , SINGLE\n",
            "5 , 1 , AROMATIC\n",
            "11 , 4 , AROMATIC\n"
          ]
        }
      ],
      "source": [
        "# print the atoms of the molecule\n",
        "for atom in mol.GetAtoms():\n",
        "    print(atom.GetIdx(),',',\n",
        "          atom.GetAtomicNum(),',',\n",
        "          atom.GetIsAromatic(),',',\n",
        "          atom.GetSymbol())\n",
        "\n",
        "# print the bonds of the molecule\n",
        "for bond in mol.GetBonds():\n",
        "    print(bond.GetBeginAtomIdx(),',',\n",
        "          bond.GetEndAtomIdx(),',',\n",
        "          bond.GetBondType())"
      ]
    },
    {
      "cell_type": "markdown",
      "source": [
        "## Generating Molecular Fingerprint from a SMILES String"
      ],
      "metadata": {
        "id": "qUyqww9jv5mT"
      }
    },
    {
      "cell_type": "code",
      "source": [
        "from rdkit.Chem import RDKFingerprint\n",
        "from rdkit.Chem import rdMolDescriptors"
      ],
      "metadata": {
        "id": "xczf3pVJpogT"
      },
      "execution_count": null,
      "outputs": []
    },
    {
      "cell_type": "code",
      "source": [
        "# import numpy for data type conversion\n",
        "import numpy as np"
      ],
      "metadata": {
        "id": "_DOMIXg1qYv6"
      },
      "execution_count": null,
      "outputs": []
    },
    {
      "cell_type": "code",
      "source": [
        "# define the smiles string and covert it into a molecule sturcture\n",
        "caffeine_smiles = 'CN1C=NC2=C1C(=O)N(C(=O)N2C)C'\n",
        "\n",
        "mol = Chem.MolFromSmiles(caffeine_smiles)"
      ],
      "metadata": {
        "id": "lJqjpqvGq7aX"
      },
      "execution_count": null,
      "outputs": []
    },
    {
      "cell_type": "code",
      "source": [
        "# retrieving RDK Fingerprint\n",
        "fingerprint_rdk = RDKFingerprint(mol)\n",
        "print(\">>> RDK Fingerprint = \", fingerprint_rdk)\n",
        "\n",
        "fingerprint_rdk_np = np.array(fingerprint_rdk)\n",
        "print(\">>> RDK Fingerprint in numpy = \", fingerprint_rdk_np)\n",
        "print(\">>> RDK Fingerprint in numpy shape = \", fingerprint_rdk_np.shape)\n",
        "\n",
        "print()"
      ],
      "metadata": {
        "colab": {
          "base_uri": "https://localhost:8080/"
        },
        "id": "-ykOH_pGq-46",
        "outputId": "6c155969-9a2f-4b58-eb93-c3f9fc212f94"
      },
      "execution_count": null,
      "outputs": [
        {
          "output_type": "stream",
          "name": "stdout",
          "text": [
            ">>> RDK Fingerprint =  <rdkit.DataStructs.cDataStructs.ExplicitBitVect object at 0x7acbc05385f0>\n",
            ">>> RDK Fingerprint in numpy =  [1 1 0 ... 0 0 1]\n",
            ">>> RDK Fingerprint in numpy shape =  (2048,)\n",
            "\n"
          ]
        }
      ]
    },
    {
      "cell_type": "code",
      "source": [
        "import torch\n",
        "\n",
        "# Assuming `mol` is your molecule object from RDKit\n",
        "fingerprint_rdk = RDKFingerprint(mol)\n",
        "\n",
        "# Convert the RDKit fingerprint to a NumPy array\n",
        "# RDKit fingerprints are bit vectors, and we can convert them to a NumPy array by calling `ToList`\n",
        "# and then convert that list to a NumPy array.\n",
        "fingerprint_rdk_np = np.array(fingerprint_rdk.ToList())\n",
        "\n",
        "print(\">>> RDK Fingerprint in numpy = \", fingerprint_rdk_np)\n",
        "print(\">>> RDK Fingerprint in numpy shape = \", fingerprint_rdk_np.shape)\n",
        "\n",
        "# Convert the NumPy array to a PyTorch tensor\n",
        "fingerprint_rdk_tensor = torch.tensor(fingerprint_rdk_np).int()\n",
        "\n",
        "print(\">>> RDK Fingerprint as a PyTorch Tensor = \", fingerprint_rdk_tensor)\n",
        "print(\">>> RDK Fingerprint PyTorch Tensor shape = \", fingerprint_rdk_tensor.shape)\n"
      ],
      "metadata": {
        "colab": {
          "base_uri": "https://localhost:8080/"
        },
        "id": "N9vFjKGnsKUZ",
        "outputId": "9f8c5c0f-1240-46f8-987c-a2633e082189"
      },
      "execution_count": null,
      "outputs": [
        {
          "output_type": "stream",
          "name": "stdout",
          "text": [
            ">>> RDK Fingerprint in numpy =  [1 1 0 ... 0 0 1]\n",
            ">>> RDK Fingerprint in numpy shape =  (2048,)\n",
            ">>> RDK Fingerprint as a PyTorch Tensor =  tensor([1, 1, 0,  ..., 0, 0, 1], dtype=torch.int32)\n",
            ">>> RDK Fingerprint PyTorch Tensor shape =  torch.Size([2048])\n"
          ]
        }
      ]
    },
    {
      "cell_type": "code",
      "source": [
        "# Assuming fingerprint_rdk_tensor is your tensor\n",
        "is_binary = torch.all((fingerprint_rdk_tensor == 0) | (fingerprint_rdk_tensor == 1))\n",
        "\n",
        "print(f\"All elements are 0 or 1: {is_binary.item()}\")"
      ],
      "metadata": {
        "colab": {
          "base_uri": "https://localhost:8080/"
        },
        "id": "hC_7zz59tBAK",
        "outputId": "f05bfde5-0611-4279-a7e2-fbabf8622baf"
      },
      "execution_count": null,
      "outputs": [
        {
          "output_type": "stream",
          "name": "stdout",
          "text": [
            "All elements are 0 or 1: True\n"
          ]
        }
      ]
    },
    {
      "cell_type": "code",
      "source": [
        "unique_values = torch.unique(fingerprint_rdk_tensor)\n",
        "print(f\"Unique values in the tensor: {unique_values}\")"
      ],
      "metadata": {
        "colab": {
          "base_uri": "https://localhost:8080/"
        },
        "id": "6ds4j3wrtDBH",
        "outputId": "a39bd8c7-40a1-4252-f706-b2ee0ccc8260"
      },
      "execution_count": null,
      "outputs": [
        {
          "output_type": "stream",
          "name": "stdout",
          "text": [
            "Unique values in the tensor: tensor([0, 1], dtype=torch.int32)\n"
          ]
        }
      ]
    },
    {
      "cell_type": "code",
      "source": [
        "# retrieving Morgan Fingerprint\n",
        "fingerprint_morgan = rdMolDescriptors.GetMorganFingerprintAsBitVect(mol, radius=2)\n",
        "print(\">>> Morgan Fingerprint = \", fingerprint_morgan)\n",
        "\n",
        "fingerprint_morgan_np = np.array(fingerprint_morgan.ToList())\n",
        "print(\">>> Morgan Fingerprint in numpy : \", fingerprint_morgan_np)\n",
        "print(\">>> Morgan Fingerprint in numpy shape = \", fingerprint_morgan_np.shape)\n",
        "\n",
        "# Convert the NumPy array to a PyTorch tensor\n",
        "fingerprint_morgan_tensor = torch.tensor(fingerprint_morgan_np).int()\n",
        "\n",
        "print(\">>> Morgan Fingerprint as a PyTorch Tensor = \", fingerprint_morgan_tensor)\n",
        "print(\">>> Morgan Fingerprint PyTorch Tensor shape = \", fingerprint_morgan_tensor.shape)"
      ],
      "metadata": {
        "colab": {
          "base_uri": "https://localhost:8080/"
        },
        "id": "vFFIPtFUrlcC",
        "outputId": "54c1fb75-76dc-4d1d-91da-3e8e13664d86"
      },
      "execution_count": null,
      "outputs": [
        {
          "output_type": "stream",
          "name": "stdout",
          "text": [
            ">>> Morgan Fingerprint =  <rdkit.DataStructs.cDataStructs.ExplicitBitVect object at 0x7acb1e8c0970>\n",
            ">>> Morgan Fingerprint in numpy :  [0 0 0 ... 0 0 0]\n",
            ">>> Morgan Fingerprint in numpy shape =  (2048,)\n",
            ">>> Morgan Fingerprint as a PyTorch Tensor =  tensor([0, 0, 0,  ..., 0, 0, 0], dtype=torch.int32)\n",
            ">>> Morgan Fingerprint PyTorch Tensor shape =  torch.Size([2048])\n"
          ]
        }
      ]
    },
    {
      "cell_type": "code",
      "source": [
        "# Assuming fingerprint_rdk_tensor is your tensor\n",
        "is_binary = torch.all((fingerprint_morgan_tensor == 0) | (fingerprint_morgan_tensor == 1))\n",
        "\n",
        "print(f\"All elements are 0 or 1: {is_binary.item()}\")"
      ],
      "metadata": {
        "colab": {
          "base_uri": "https://localhost:8080/"
        },
        "id": "aNSPLVZtvlEO",
        "outputId": "5207e231-97ce-4db2-fa02-9706c32b6281"
      },
      "execution_count": null,
      "outputs": [
        {
          "output_type": "stream",
          "name": "stdout",
          "text": [
            "All elements are 0 or 1: True\n"
          ]
        }
      ]
    },
    {
      "cell_type": "code",
      "source": [
        "unique_values = torch.unique(fingerprint_morgan_tensor)\n",
        "print(f\"Unique values in the tensor: {unique_values}\")"
      ],
      "metadata": {
        "colab": {
          "base_uri": "https://localhost:8080/"
        },
        "id": "xVhFTs3nvqgy",
        "outputId": "36f06020-4d52-400d-f27e-e44a9690622f"
      },
      "execution_count": null,
      "outputs": [
        {
          "output_type": "stream",
          "name": "stdout",
          "text": [
            "Unique values in the tensor: tensor([0, 1], dtype=torch.int32)\n"
          ]
        }
      ]
    },
    {
      "cell_type": "markdown",
      "source": [
        "## Generating One-Hot Encoding from a SMILES *string*"
      ],
      "metadata": {
        "id": "PXRKtBejwKJi"
      }
    },
    {
      "cell_type": "code",
      "source": [
        "# define SMILES characters\n",
        "SMILES_CHARS = [' ',\n",
        "                '#', '%', '(', ')', '+', '-', '.', '/',\n",
        "                '0', '1', '2', '3', '4', '5', '6', '7', '8', '9',\n",
        "                '=', '@',\n",
        "                'A', 'B', 'C', 'F', 'H', 'I', 'K', 'L', 'M', 'N', 'O', 'P',\n",
        "                'R', 'S', 'T', 'V', 'X', 'Z',\n",
        "                '[', '\\\\', ']',\n",
        "                'a', 'b', 'c', 'e', 'g', 'i', 'l', 'n', 'o', 'p', 'r', 's',\n",
        "                't', 'u']"
      ],
      "metadata": {
        "id": "UydNo_Z2wN8r"
      },
      "execution_count": null,
      "outputs": []
    },
    {
      "cell_type": "code",
      "source": [
        "# define encoder and decoder\n",
        "smi2index = dict( (c,i) for i,c in enumerate( SMILES_CHARS ) )\n",
        "index2smi = dict( (i,c) for i,c in enumerate( SMILES_CHARS ) )\n",
        "\n",
        "def smiles_encoder( smiles, maxlen=120 ):\n",
        "    X = np.zeros( ( maxlen, len( SMILES_CHARS ) ) )\n",
        "    for i, c in enumerate( smiles ):\n",
        "        X[i, smi2index[c] ] = 1\n",
        "    return X\n",
        "    print(X)\n",
        "\n",
        "def smiles_decoder( X ):\n",
        "    smi = ''\n",
        "    X = X.argmax( axis=-1 )\n",
        "    for i in X:\n",
        "        smi += index2smi[ i ]\n",
        "    return smi\n",
        "    print(smi)"
      ],
      "metadata": {
        "id": "4DRNqakIwbRr"
      },
      "execution_count": null,
      "outputs": []
    },
    {
      "cell_type": "code",
      "source": [
        "# get a taste of caffeine\n",
        "caffeine_smiles = 'CN1C=NC2=C1C(=O)N(C(=O)N2C)C'\n",
        "\n",
        "caffeine_encoding = smiles_encoder(caffeine_smiles)\n",
        "\n",
        "print(caffeine_encoding.shape) # (120, 56)\n",
        "print(caffeine_encoding)\n",
        "\n",
        "one_tensor = torch.tensor(caffeine_encoding).float()\n",
        "\n",
        "print(one_tensor)\n",
        "print(one_tensor.shape)"
      ],
      "metadata": {
        "colab": {
          "base_uri": "https://localhost:8080/"
        },
        "id": "hWI-GJdZw-A1",
        "outputId": "7fb8c5ec-e5b7-4f54-974f-96a4a4496e9b"
      },
      "execution_count": null,
      "outputs": [
        {
          "output_type": "stream",
          "name": "stdout",
          "text": [
            "(120, 56)\n",
            "[[0. 0. 0. ... 0. 0. 0.]\n",
            " [0. 0. 0. ... 0. 0. 0.]\n",
            " [0. 0. 0. ... 0. 0. 0.]\n",
            " ...\n",
            " [0. 0. 0. ... 0. 0. 0.]\n",
            " [0. 0. 0. ... 0. 0. 0.]\n",
            " [0. 0. 0. ... 0. 0. 0.]]\n",
            "tensor([[0., 0., 0.,  ..., 0., 0., 0.],\n",
            "        [0., 0., 0.,  ..., 0., 0., 0.],\n",
            "        [0., 0., 0.,  ..., 0., 0., 0.],\n",
            "        ...,\n",
            "        [0., 0., 0.,  ..., 0., 0., 0.],\n",
            "        [0., 0., 0.,  ..., 0., 0., 0.],\n",
            "        [0., 0., 0.,  ..., 0., 0., 0.]])\n",
            "torch.Size([120, 56])\n"
          ]
        }
      ]
    },
    {
      "cell_type": "code",
      "source": [
        "unique_values = torch.unique(one_tensor)\n",
        "print(f\"Unique values in the tensor: {unique_values}\")"
      ],
      "metadata": {
        "colab": {
          "base_uri": "https://localhost:8080/"
        },
        "id": "IstaqShhyujX",
        "outputId": "004d5e1a-ac1a-4f72-c152-f46cb394ed65"
      },
      "execution_count": null,
      "outputs": [
        {
          "output_type": "stream",
          "name": "stdout",
          "text": [
            "Unique values in the tensor: tensor([0., 1.])\n"
          ]
        }
      ]
    },
    {
      "cell_type": "code",
      "source": [
        "one_tensor = torch.tensor(caffeine_encoding).int()\n",
        "\n",
        "print(one_tensor)\n",
        "print(one_tensor.shape)"
      ],
      "metadata": {
        "colab": {
          "base_uri": "https://localhost:8080/"
        },
        "id": "OJH3wSuIy5DO",
        "outputId": "c25e4a6e-7d10-4f69-dd83-5ccb70734c2d"
      },
      "execution_count": null,
      "outputs": [
        {
          "output_type": "stream",
          "name": "stdout",
          "text": [
            "tensor([[0, 0, 0,  ..., 0, 0, 0],\n",
            "        [0, 0, 0,  ..., 0, 0, 0],\n",
            "        [0, 0, 0,  ..., 0, 0, 0],\n",
            "        ...,\n",
            "        [0, 0, 0,  ..., 0, 0, 0],\n",
            "        [0, 0, 0,  ..., 0, 0, 0],\n",
            "        [0, 0, 0,  ..., 0, 0, 0]], dtype=torch.int32)\n",
            "torch.Size([120, 56])\n"
          ]
        }
      ]
    },
    {
      "cell_type": "code",
      "source": [],
      "metadata": {
        "id": "HA-FtT0KilhZ"
      },
      "execution_count": null,
      "outputs": []
    }
  ]
}