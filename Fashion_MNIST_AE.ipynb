{
  "nbformat": 4,
  "nbformat_minor": 0,
  "metadata": {
    "colab": {
      "provenance": [],
      "mount_file_id": "13juOrn0QK5QKo94tlOnWwURKS4-slQfN",
      "authorship_tag": "ABX9TyPA/H6xpzEDGbK99vmYmS8+",
      "include_colab_link": true
    },
    "kernelspec": {
      "name": "python3",
      "display_name": "Python 3"
    },
    "language_info": {
      "name": "python"
    }
  },
  "cells": [
    {
      "cell_type": "markdown",
      "metadata": {
        "id": "view-in-github",
        "colab_type": "text"
      },
      "source": [
        "<a href=\"https://colab.research.google.com/github/rsaran-BioAI/AGILE/blob/main/Fashion_MNIST_AE.ipynb\" target=\"_parent\"><img src=\"https://colab.research.google.com/assets/colab-badge.svg\" alt=\"Open In Colab\"/></a>"
      ]
    },
    {
      "cell_type": "code",
      "source": [
        "from google.colab import drive\n",
        "drive.mount('/content/drive')"
      ],
      "metadata": {
        "colab": {
          "base_uri": "https://localhost:8080/"
        },
        "id": "A5IZ_gbmVe2O",
        "outputId": "605059d4-7a7c-4417-a61e-50d64404821c"
      },
      "execution_count": 1,
      "outputs": [
        {
          "output_type": "stream",
          "name": "stdout",
          "text": [
            "Drive already mounted at /content/drive; to attempt to forcibly remount, call drive.mount(\"/content/drive\", force_remount=True).\n"
          ]
        }
      ]
    },
    {
      "cell_type": "code",
      "source": [
        "# Download and load the training data\n",
        "# trainset = datasets.FashionMNIST('/content/drive/MyDrive/F_MNIST_data', download=True, train=True, transform=ToTensor())"
      ],
      "metadata": {
        "colab": {
          "base_uri": "https://localhost:8080/",
          "height": 194
        },
        "id": "tG5MsU0YVmSX",
        "outputId": "592fb933-6845-4774-9c39-377d05f3e8aa"
      },
      "execution_count": 2,
      "outputs": [
        {
          "output_type": "error",
          "ename": "NameError",
          "evalue": "ignored",
          "traceback": [
            "\u001b[0;31m---------------------------------------------------------------------------\u001b[0m",
            "\u001b[0;31mNameError\u001b[0m                                 Traceback (most recent call last)",
            "\u001b[0;32m<ipython-input-2-704ae12208b0>\u001b[0m in \u001b[0;36m<cell line: 2>\u001b[0;34m()\u001b[0m\n\u001b[1;32m      1\u001b[0m \u001b[0;31m# Download and load the training data\u001b[0m\u001b[0;34m\u001b[0m\u001b[0;34m\u001b[0m\u001b[0m\n\u001b[0;32m----> 2\u001b[0;31m \u001b[0mtrainset\u001b[0m \u001b[0;34m=\u001b[0m \u001b[0mdatasets\u001b[0m\u001b[0;34m.\u001b[0m\u001b[0mFashionMNIST\u001b[0m\u001b[0;34m(\u001b[0m\u001b[0;34m'/content/drive/MyDrive/F_MNIST_data'\u001b[0m\u001b[0;34m,\u001b[0m \u001b[0mdownload\u001b[0m\u001b[0;34m=\u001b[0m\u001b[0;32mTrue\u001b[0m\u001b[0;34m,\u001b[0m \u001b[0mtrain\u001b[0m\u001b[0;34m=\u001b[0m\u001b[0;32mTrue\u001b[0m\u001b[0;34m,\u001b[0m \u001b[0mtransform\u001b[0m\u001b[0;34m=\u001b[0m\u001b[0mToTensor\u001b[0m\u001b[0;34m(\u001b[0m\u001b[0;34m)\u001b[0m\u001b[0;34m)\u001b[0m\u001b[0;34m\u001b[0m\u001b[0;34m\u001b[0m\u001b[0m\n\u001b[0m",
            "\u001b[0;31mNameError\u001b[0m: name 'datasets' is not defined"
          ]
        }
      ]
    },
    {
      "cell_type": "code",
      "source": [
        "# Download and load the test data\n",
        "# testset = datasets.FashionMNIST('/content/drive/MyDrive/F_MNIST_data/', download=True, train=False, transform=ToTensor())"
      ],
      "metadata": {
        "id": "sle079y6VpjH"
      },
      "execution_count": null,
      "outputs": []
    },
    {
      "cell_type": "code",
      "source": [
        "import torch\n",
        "from torch import nn\n",
        "from torch.utils.data import DataLoader\n",
        "from torchvision import datasets\n",
        "from torchvision.transforms import ToTensor"
      ],
      "metadata": {
        "id": "qO8cBioBWi5V"
      },
      "execution_count": 3,
      "outputs": []
    },
    {
      "cell_type": "code",
      "source": [
        "# Prepare the data\n",
        "training_data = datasets.FashionMNIST(\n",
        "    root=\"data\",\n",
        "    train=True,\n",
        "    download=True,\n",
        "    transform=ToTensor()\n",
        ")\n",
        "\n",
        "test_data = datasets.FashionMNIST(\n",
        "    root=\"data\",\n",
        "    train=False,\n",
        "    download=True,\n",
        "    transform=ToTensor()\n",
        ")"
      ],
      "metadata": {
        "colab": {
          "base_uri": "https://localhost:8080/"
        },
        "id": "qLAA-7cBWn06",
        "outputId": "a448faf8-26d2-4975-89f8-17db3bec1a7f"
      },
      "execution_count": 4,
      "outputs": [
        {
          "output_type": "stream",
          "name": "stdout",
          "text": [
            "Downloading http://fashion-mnist.s3-website.eu-central-1.amazonaws.com/train-images-idx3-ubyte.gz\n",
            "Downloading http://fashion-mnist.s3-website.eu-central-1.amazonaws.com/train-images-idx3-ubyte.gz to data/FashionMNIST/raw/train-images-idx3-ubyte.gz\n"
          ]
        },
        {
          "output_type": "stream",
          "name": "stderr",
          "text": [
            "100%|██████████| 26421880/26421880 [00:02<00:00, 12908367.81it/s]\n"
          ]
        },
        {
          "output_type": "stream",
          "name": "stdout",
          "text": [
            "Extracting data/FashionMNIST/raw/train-images-idx3-ubyte.gz to data/FashionMNIST/raw\n",
            "\n",
            "Downloading http://fashion-mnist.s3-website.eu-central-1.amazonaws.com/train-labels-idx1-ubyte.gz\n",
            "Downloading http://fashion-mnist.s3-website.eu-central-1.amazonaws.com/train-labels-idx1-ubyte.gz to data/FashionMNIST/raw/train-labels-idx1-ubyte.gz\n"
          ]
        },
        {
          "output_type": "stream",
          "name": "stderr",
          "text": [
            "100%|██████████| 29515/29515 [00:00<00:00, 209419.68it/s]\n"
          ]
        },
        {
          "output_type": "stream",
          "name": "stdout",
          "text": [
            "Extracting data/FashionMNIST/raw/train-labels-idx1-ubyte.gz to data/FashionMNIST/raw\n",
            "\n",
            "Downloading http://fashion-mnist.s3-website.eu-central-1.amazonaws.com/t10k-images-idx3-ubyte.gz\n",
            "Downloading http://fashion-mnist.s3-website.eu-central-1.amazonaws.com/t10k-images-idx3-ubyte.gz to data/FashionMNIST/raw/t10k-images-idx3-ubyte.gz\n"
          ]
        },
        {
          "output_type": "stream",
          "name": "stderr",
          "text": [
            "100%|██████████| 4422102/4422102 [00:01<00:00, 3888946.92it/s]\n"
          ]
        },
        {
          "output_type": "stream",
          "name": "stdout",
          "text": [
            "Extracting data/FashionMNIST/raw/t10k-images-idx3-ubyte.gz to data/FashionMNIST/raw\n",
            "\n",
            "Downloading http://fashion-mnist.s3-website.eu-central-1.amazonaws.com/t10k-labels-idx1-ubyte.gz\n",
            "Downloading http://fashion-mnist.s3-website.eu-central-1.amazonaws.com/t10k-labels-idx1-ubyte.gz to data/FashionMNIST/raw/t10k-labels-idx1-ubyte.gz\n"
          ]
        },
        {
          "output_type": "stream",
          "name": "stderr",
          "text": [
            "100%|██████████| 5148/5148 [00:00<00:00, 4566894.46it/s]\n"
          ]
        },
        {
          "output_type": "stream",
          "name": "stdout",
          "text": [
            "Extracting data/FashionMNIST/raw/t10k-labels-idx1-ubyte.gz to data/FashionMNIST/raw\n",
            "\n"
          ]
        }
      ]
    },
    {
      "cell_type": "code",
      "source": [
        "train_dataloader = DataLoader(training_data, batch_size=64)\n",
        "test_dataloader = DataLoader(test_data, batch_size=64)"
      ],
      "metadata": {
        "id": "h1Q9DmnSWuNC"
      },
      "execution_count": 5,
      "outputs": []
    },
    {
      "cell_type": "code",
      "source": [
        "# Define the Autoencoder Neural Network\n",
        "class Autoencoder(nn.Module):\n",
        "    def __init__(self):\n",
        "        super().__init__()\n",
        "        self.encoder = nn.Sequential(\n",
        "            nn.Linear(28*28, 128),\n",
        "            nn.ReLU(),\n",
        "            nn.Linear(128, 64),\n",
        "            nn.ReLU(),\n",
        "            nn.Linear(64, 12),\n",
        "            nn.ReLU(),\n",
        "            nn.Linear(12, 3),  # Compressed representation\n",
        "        )\n",
        "        self.decoder = nn.Sequential(\n",
        "            nn.Linear(3, 12),\n",
        "            nn.ReLU(),\n",
        "            nn.Linear(12, 64),\n",
        "            nn.ReLU(),\n",
        "            nn.Linear(64, 128),\n",
        "            nn.ReLU(),\n",
        "            nn.Linear(128, 28*28),\n",
        "            nn.Sigmoid(),  # Using sigmoid to ensure the output is between 0 and 1\n",
        "        )\n",
        "\n",
        "    def forward(self, x):\n",
        "        x = x.view(x.size(0), -1)  # Flatten the image\n",
        "        encoded = self.encoder(x)\n",
        "        decoded = self.decoder(encoded)\n",
        "        return decoded\n",
        "\n",
        "model = Autoencoder()"
      ],
      "metadata": {
        "id": "Q_S-XCpgWzcS"
      },
      "execution_count": 6,
      "outputs": []
    },
    {
      "cell_type": "code",
      "source": [
        "# Loss function\n",
        "loss_fn = nn.MSELoss()\n",
        "\n",
        "# Optimizer\n",
        "learning_rate = 1e-3\n",
        "optimizer = torch.optim.Adam(model.parameters(), lr=learning_rate)"
      ],
      "metadata": {
        "id": "7qHe5RcSW5jr"
      },
      "execution_count": 7,
      "outputs": []
    },
    {
      "cell_type": "code",
      "source": [
        "# Training loop\n",
        "def train_loop(dataloader, model, loss_fn, optimizer):\n",
        "    size = len(dataloader.dataset)\n",
        "    for batch, (X, _) in enumerate(dataloader):  # _ for targets, which we don't use\n",
        "        # Compute prediction and loss\n",
        "        reconstructed = model(X)\n",
        "        loss = loss_fn(reconstructed, X.view(X.size(0), -1))\n",
        "\n",
        "        # Backpropagation\n",
        "        optimizer.zero_grad()\n",
        "        loss.backward()\n",
        "        optimizer.step()\n",
        "\n",
        "        if batch % 100 == 0:\n",
        "            loss, current = loss.item(), batch * len(X)\n",
        "            print(f\"loss: {loss:>7f}  [{current:>5d}/{size:>5d}]\")"
      ],
      "metadata": {
        "id": "qLvOAZQVW9Oa"
      },
      "execution_count": 8,
      "outputs": []
    },
    {
      "cell_type": "code",
      "source": [
        "# Train the model\n",
        "epochs = 10\n",
        "for t in range(epochs):\n",
        "    print(f\"Epoch {t+1}\\n-------------------------------\")\n",
        "    train_loop(train_dataloader, model, loss_fn, optimizer)\n",
        "print(\"Done!\")"
      ],
      "metadata": {
        "colab": {
          "base_uri": "https://localhost:8080/"
        },
        "id": "BR80HgP_XCvD",
        "outputId": "27184f05-f4f0-4624-c9da-9c9bdd0779ef"
      },
      "execution_count": 9,
      "outputs": [
        {
          "output_type": "stream",
          "name": "stdout",
          "text": [
            "Epoch 1\n",
            "-------------------------------\n",
            "loss: 0.172198  [    0/60000]\n",
            "loss: 0.059647  [ 6400/60000]\n",
            "loss: 0.050731  [12800/60000]\n",
            "loss: 0.041395  [19200/60000]\n",
            "loss: 0.045119  [25600/60000]\n",
            "loss: 0.043780  [32000/60000]\n",
            "loss: 0.036790  [38400/60000]\n",
            "loss: 0.037158  [44800/60000]\n",
            "loss: 0.037371  [51200/60000]\n",
            "loss: 0.035877  [57600/60000]\n",
            "Epoch 2\n",
            "-------------------------------\n",
            "loss: 0.037145  [    0/60000]\n",
            "loss: 0.034423  [ 6400/60000]\n",
            "loss: 0.035728  [12800/60000]\n",
            "loss: 0.033478  [19200/60000]\n",
            "loss: 0.036684  [25600/60000]\n",
            "loss: 0.035969  [32000/60000]\n",
            "loss: 0.029795  [38400/60000]\n",
            "loss: 0.032996  [44800/60000]\n",
            "loss: 0.032961  [51200/60000]\n",
            "loss: 0.030917  [57600/60000]\n",
            "Epoch 3\n",
            "-------------------------------\n",
            "loss: 0.033837  [    0/60000]\n",
            "loss: 0.031259  [ 6400/60000]\n",
            "loss: 0.033152  [12800/60000]\n",
            "loss: 0.032800  [19200/60000]\n",
            "loss: 0.033760  [25600/60000]\n",
            "loss: 0.034319  [32000/60000]\n",
            "loss: 0.029007  [38400/60000]\n",
            "loss: 0.031268  [44800/60000]\n",
            "loss: 0.031831  [51200/60000]\n",
            "loss: 0.029875  [57600/60000]\n",
            "Epoch 4\n",
            "-------------------------------\n",
            "loss: 0.033224  [    0/60000]\n",
            "loss: 0.029940  [ 6400/60000]\n",
            "loss: 0.032254  [12800/60000]\n",
            "loss: 0.031354  [19200/60000]\n",
            "loss: 0.032328  [25600/60000]\n",
            "loss: 0.033639  [32000/60000]\n",
            "loss: 0.028417  [38400/60000]\n",
            "loss: 0.029881  [44800/60000]\n",
            "loss: 0.031169  [51200/60000]\n",
            "loss: 0.029083  [57600/60000]\n",
            "Epoch 5\n",
            "-------------------------------\n",
            "loss: 0.032862  [    0/60000]\n",
            "loss: 0.029310  [ 6400/60000]\n",
            "loss: 0.030630  [12800/60000]\n",
            "loss: 0.030501  [19200/60000]\n",
            "loss: 0.031235  [25600/60000]\n",
            "loss: 0.033179  [32000/60000]\n",
            "loss: 0.027741  [38400/60000]\n",
            "loss: 0.029217  [44800/60000]\n",
            "loss: 0.030769  [51200/60000]\n",
            "loss: 0.028210  [57600/60000]\n",
            "Epoch 6\n",
            "-------------------------------\n",
            "loss: 0.032220  [    0/60000]\n",
            "loss: 0.028786  [ 6400/60000]\n",
            "loss: 0.029829  [12800/60000]\n",
            "loss: 0.029589  [19200/60000]\n",
            "loss: 0.030045  [25600/60000]\n",
            "loss: 0.031826  [32000/60000]\n",
            "loss: 0.027785  [38400/60000]\n",
            "loss: 0.028733  [44800/60000]\n",
            "loss: 0.030307  [51200/60000]\n",
            "loss: 0.027529  [57600/60000]\n",
            "Epoch 7\n",
            "-------------------------------\n",
            "loss: 0.031692  [    0/60000]\n",
            "loss: 0.028217  [ 6400/60000]\n",
            "loss: 0.030679  [12800/60000]\n",
            "loss: 0.028382  [19200/60000]\n",
            "loss: 0.029100  [25600/60000]\n",
            "loss: 0.030615  [32000/60000]\n",
            "loss: 0.027229  [38400/60000]\n",
            "loss: 0.028321  [44800/60000]\n",
            "loss: 0.030001  [51200/60000]\n",
            "loss: 0.027796  [57600/60000]\n",
            "Epoch 8\n",
            "-------------------------------\n",
            "loss: 0.031095  [    0/60000]\n",
            "loss: 0.027566  [ 6400/60000]\n",
            "loss: 0.030017  [12800/60000]\n",
            "loss: 0.028060  [19200/60000]\n",
            "loss: 0.028565  [25600/60000]\n",
            "loss: 0.030635  [32000/60000]\n",
            "loss: 0.026385  [38400/60000]\n",
            "loss: 0.027538  [44800/60000]\n",
            "loss: 0.029496  [51200/60000]\n",
            "loss: 0.026973  [57600/60000]\n",
            "Epoch 9\n",
            "-------------------------------\n",
            "loss: 0.031090  [    0/60000]\n",
            "loss: 0.027310  [ 6400/60000]\n",
            "loss: 0.028215  [12800/60000]\n",
            "loss: 0.027350  [19200/60000]\n",
            "loss: 0.028289  [25600/60000]\n",
            "loss: 0.029485  [32000/60000]\n",
            "loss: 0.026267  [38400/60000]\n",
            "loss: 0.027204  [44800/60000]\n",
            "loss: 0.029307  [51200/60000]\n",
            "loss: 0.026807  [57600/60000]\n",
            "Epoch 10\n",
            "-------------------------------\n",
            "loss: 0.031185  [    0/60000]\n",
            "loss: 0.026674  [ 6400/60000]\n",
            "loss: 0.028147  [12800/60000]\n",
            "loss: 0.027017  [19200/60000]\n",
            "loss: 0.028108  [25600/60000]\n",
            "loss: 0.028930  [32000/60000]\n",
            "loss: 0.026148  [38400/60000]\n",
            "loss: 0.026965  [44800/60000]\n",
            "loss: 0.029061  [51200/60000]\n",
            "loss: 0.026659  [57600/60000]\n",
            "Done!\n"
          ]
        }
      ]
    },
    {
      "cell_type": "code",
      "execution_count": 10,
      "metadata": {
        "id": "sESq_PIvUznv"
      },
      "outputs": [],
      "source": [
        "# Test loop\n",
        "def test_loop(dataloader, model, loss_fn):\n",
        "    size = len(dataloader.dataset)\n",
        "    num_batches = len(dataloader)\n",
        "    test_loss = 0\n",
        "\n",
        "    with torch.no_grad():\n",
        "        for X, _ in dataloader:\n",
        "            reconstructed = model(X)\n",
        "            test_loss += loss_fn(reconstructed, X.view(X.size(0), -1)).item()\n",
        "\n",
        "    test_loss /= num_batches\n",
        "    print(f\"Avg loss: {test_loss:>8f} \\n\")"
      ]
    },
    {
      "cell_type": "code",
      "source": [
        "# Evaluate the model\n",
        "test_loop(test_dataloader, model, loss_fn)"
      ],
      "metadata": {
        "colab": {
          "base_uri": "https://localhost:8080/"
        },
        "id": "3za943X6XKyE",
        "outputId": "5ac6d89b-b351-4143-c547-c7a69039715f"
      },
      "execution_count": 11,
      "outputs": [
        {
          "output_type": "stream",
          "name": "stdout",
          "text": [
            "Avg loss: 0.028819 \n",
            "\n"
          ]
        }
      ]
    }
  ]
}