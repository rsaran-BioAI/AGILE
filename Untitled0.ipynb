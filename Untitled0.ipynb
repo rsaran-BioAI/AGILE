{
  "nbformat": 4,
  "nbformat_minor": 0,
  "metadata": {
    "colab": {
      "provenance": [],
      "mount_file_id": "18Opm689pwq1RBwlve0lAf7rrlEakuUC7",
      "authorship_tag": "ABX9TyMywzdyUPPGaCJNO5+maskX",
      "include_colab_link": true
    },
    "kernelspec": {
      "name": "python3",
      "display_name": "Python 3"
    },
    "language_info": {
      "name": "python"
    }
  },
  "cells": [
    {
      "cell_type": "markdown",
      "metadata": {
        "id": "view-in-github",
        "colab_type": "text"
      },
      "source": [
        "<a href=\"https://colab.research.google.com/github/rsaran-BioAI/AGILE/blob/main/Untitled0.ipynb\" target=\"_parent\"><img src=\"https://colab.research.google.com/assets/colab-badge.svg\" alt=\"Open In Colab\"/></a>"
      ]
    },
    {
      "cell_type": "code",
      "source": [
        "from google.colab import drive\n",
        "drive.mount('/content/drive')"
      ],
      "metadata": {
        "colab": {
          "base_uri": "https://localhost:8080/"
        },
        "id": "MoHDL7zoVLAM",
        "outputId": "39dd4bea-09e3-4d43-ece7-08db8840da73"
      },
      "execution_count": 1,
      "outputs": [
        {
          "output_type": "stream",
          "name": "stdout",
          "text": [
            "Mounted at /content/drive\n"
          ]
        }
      ]
    },
    {
      "cell_type": "code",
      "execution_count": 2,
      "metadata": {
        "id": "hYryQ_aVRjRS"
      },
      "outputs": [],
      "source": [
        "import torch\n",
        "from torchvision import datasets, transforms\n",
        "import helper\n",
        "from torch.utils.data import Dataset\n",
        "from torchvision.transforms import ToTensor, Lambda"
      ]
    },
    {
      "cell_type": "code",
      "source": [
        "# Define a transform to normalize the data\n",
        "#transform = transforms.Compose([transforms.ToTensor(),\n",
        "                                #transforms.Lambda(lambda x: x.repeat(3,1,1)),\n",
        "                                #transforms.Normalize((0.5,), (0.5,))])"
      ],
      "metadata": {
        "id": "XB_kkCgUUh65"
      },
      "execution_count": 3,
      "outputs": []
    },
    {
      "cell_type": "code",
      "source": [
        "# Download and load the training data\n",
        "trainset = datasets.FashionMNIST('/content/drive/MyDrive/F_MNIST_data', download=True, train=True, transform=ToTensor())"
      ],
      "metadata": {
        "id": "_PQJmWo3UiBO"
      },
      "execution_count": 4,
      "outputs": []
    },
    {
      "cell_type": "code",
      "source": [
        "print(trainset)"
      ],
      "metadata": {
        "colab": {
          "base_uri": "https://localhost:8080/"
        },
        "id": "CS0VqP8SYdpU",
        "outputId": "3d096ccd-7ea7-4bed-b51e-46e8cd912395"
      },
      "execution_count": 5,
      "outputs": [
        {
          "output_type": "stream",
          "name": "stdout",
          "text": [
            "Dataset FashionMNIST\n",
            "    Number of datapoints: 60000\n",
            "    Root location: /content/drive/MyDrive/F_MNIST_data\n",
            "    Split: Train\n",
            "    StandardTransform\n",
            "Transform: ToTensor()\n"
          ]
        }
      ]
    },
    {
      "cell_type": "code",
      "source": [
        "# Download and load the test data\n",
        "testset = datasets.FashionMNIST('/content/drive/MyDrive/F_MNIST_data/', download=True, train=False, transform=ToTensor())\n",
        "# 'transform=ToTensor()' converts each image into a tensor\n",
        "# We could also write this line as: testset = datasets.FashionMNIST('/content/drive/MyDrive/F_MNIST_data/', download=True, train=False, transform=ToTensor(), target_transform=Lambda(lambda y: torch.zeros(10, dtype=torch.float).scatter_(0, torch.tensor(y), value=1)))\n",
        "# Here, the 'target_transform = Lambda(lambda y: torch.zeros(10, dtype=torch.float).scatter_(0, torch.tensor(y), value=1))' converts the labels into a one-hot encoded tensor.\n",
        "# But upon doing this, the image will not get visualized so we will do that later."
      ],
      "metadata": {
        "id": "FQ1iv_u6WuJW"
      },
      "execution_count": 6,
      "outputs": []
    },
    {
      "cell_type": "code",
      "source": [
        "print(testset)"
      ],
      "metadata": {
        "colab": {
          "base_uri": "https://localhost:8080/"
        },
        "id": "Zzd7SnMMYTR1",
        "outputId": "f5871b17-3a79-486c-bd69-4a059d45956c"
      },
      "execution_count": 7,
      "outputs": [
        {
          "output_type": "stream",
          "name": "stdout",
          "text": [
            "Dataset FashionMNIST\n",
            "    Number of datapoints: 10000\n",
            "    Root location: /content/drive/MyDrive/F_MNIST_data/\n",
            "    Split: Test\n",
            "    StandardTransform\n",
            "Transform: ToTensor()\n"
          ]
        }
      ]
    },
    {
      "cell_type": "code",
      "source": [
        "import matplotlib.pyplot as plt\n",
        "# 'transform=ToTensor()' converts each image into a tensor\n",
        "# We could also write this line as: testset = datasets.FashionMNIST('/content/drive/MyDrive/F_MNIST_data/', download=True, train=False, transform=ToTensor(), target_transform=Lambda(lambda y: torch.zeros(10, dtype=torch.float).scatter_(0, torch.tensor(y), value=1)))\n",
        "# Here, the 'target_transform = Lambda(lambda y: torch.zeros(10, dtype=torch.float).scatter_(0, torch.tensor(y), value=1))' converts the labels into a one-hot encoded tensor.\n",
        "# But upon doing this, the image will not get visualized so we will do that later."
      ],
      "metadata": {
        "id": "YyEqqFpcYEND"
      },
      "execution_count": 8,
      "outputs": []
    },
    {
      "cell_type": "code",
      "source": [
        "labels_map = {\n",
        "    0: \"T-Shirt\",\n",
        "    1: \"Trouser\",\n",
        "    2: \"Pullover\",\n",
        "    3: \"Dress\",\n",
        "    4: \"Coat\",\n",
        "    5: \"Sandal\",\n",
        "    6: \"Shirt\",\n",
        "    7: \"Sneaker\",\n",
        "    8: \"Bag\",\n",
        "    9: \"Ankle Boot\",\n",
        "}\n",
        "figure = plt.figure(figsize=(8, 8))\n",
        "cols, rows = 3, 3\n",
        "for i in range(1, cols * rows + 1):\n",
        "    sample_idx = torch.randint(len(trainset), size=(1,)).item()\n",
        "    img, label = trainset[sample_idx]\n",
        "    figure.add_subplot(rows, cols, i)\n",
        "    plt.title(labels_map[label])\n",
        "    plt.axis(\"off\")\n",
        "    plt.imshow(img.squeeze(), cmap=\"gray\")\n",
        "plt.show()"
      ],
      "metadata": {
        "colab": {
          "base_uri": "https://localhost:8080/",
          "height": 675
        },
        "id": "iOXq6ukiXMAs",
        "outputId": "c7549a58-9ebf-4dc1-9456-4847c900e881"
      },
      "execution_count": 9,
      "outputs": [
        {
          "output_type": "display_data",
          "data": {
            "text/plain": [
              "<Figure size 800x800 with 9 Axes>"
            ],
            "image/png": "[encoded data removed]"
          },
          "metadata": {}
        }
      ]
    },
    {
      "cell_type": "markdown",
      "source": [
        "## Preparing your data for training with DataLoaders"
      ],
      "metadata": {
        "id": "tO-tWk9wehrk"
      }
    },
    {
      "cell_type": "code",
      "source": [
        "# The Dataset retrieves our dataset’s features and labels one sample at a time. While training a model, we typically want to pass samples in “minibatches”...\n",
        "# ...reshuffle the data at every epoch to reduce model overfitting, and use Python’s multiprocessing to speed up data retrieval.\n",
        "\n",
        "# DataLoader is an iterable that abstracts this complexity for us in an easy API.\n",
        "\n",
        "from torch.utils.data import DataLoader\n",
        "\n",
        "train_dataloader = DataLoader(trainset, batch_size=64, shuffle=True)\n",
        "test_dataloader = DataLoader(testset, batch_size=64, shuffle=True)\n",
        "\n",
        "# If we did not import Dataloader seperately we can write:\n",
        "# train_dataloader = torch.utils.data.DataLoader(trainset, batch_size=64, shuffle=True)\n",
        "# test_dataloader = torch.utils.data.DataLoader(testset, batch_size=64, shuffle=True)"
      ],
      "metadata": {
        "id": "oNh-3MXldPYm"
      },
      "execution_count": 10,
      "outputs": []
    },
    {
      "cell_type": "code",
      "source": [
        "# Checking what 'train_dataLoader' looks like\n",
        "train_dataloader"
      ],
      "metadata": {
        "colab": {
          "base_uri": "https://localhost:8080/"
        },
        "id": "JcmAvH-flkk0",
        "outputId": "40b1b14c-567e-4729-ac88-ea3f86074cc8"
      },
      "execution_count": 11,
      "outputs": [
        {
          "output_type": "execute_result",
          "data": {
            "text/plain": [
              "<torch.utils.data.dataloader.DataLoader at 0x7ae79a6239d0>"
            ]
          },
          "metadata": {},
          "execution_count": 11
        }
      ]
    },
    {
      "cell_type": "code",
      "source": [
        "# Checking what 'test_dataloader' looks like\n",
        "test_dataloader"
      ],
      "metadata": {
        "colab": {
          "base_uri": "https://localhost:8080/"
        },
        "id": "6dFilFVvjnP0",
        "outputId": "288e0bae-41bf-4043-d6a1-197e4a9d3352"
      },
      "execution_count": 12,
      "outputs": [
        {
          "output_type": "execute_result",
          "data": {
            "text/plain": [
              "<torch.utils.data.dataloader.DataLoader at 0x7ae79a623730>"
            ]
          },
          "metadata": {},
          "execution_count": 12
        }
      ]
    },
    {
      "cell_type": "markdown",
      "source": [
        "## Iterate through the DataLoader"
      ],
      "metadata": {
        "id": "wC0D9rKUnP_A"
      }
    },
    {
      "cell_type": "code",
      "source": [
        "for X, y in test_dataloader:\n",
        "    print(f\"Shape of X [N, C, H, W]: {X.shape}\")\n",
        "    print(f\"Shape of y: {y.shape} {y.dtype}\")\n",
        "    break"
      ],
      "metadata": {
        "colab": {
          "base_uri": "https://localhost:8080/"
        },
        "id": "H6xqpeVTibYA",
        "outputId": "fe5637fb-45a6-458e-813d-e8a676b91129"
      },
      "execution_count": 13,
      "outputs": [
        {
          "output_type": "stream",
          "name": "stdout",
          "text": [
            "Shape of X [N, C, H, W]: torch.Size([64, 1, 28, 28])\n",
            "Shape of y: torch.Size([64]) torch.int64\n"
          ]
        }
      ]
    },
    {
      "cell_type": "code",
      "source": [
        "# We have loaded that dataset into the DataLoader and can iterate through the dataset as needed.\n",
        "# Each iteration below returns a batch of train_features and train_labels (containing batch_size=64 features and labels respectively).\n",
        "#Because we specified shuffle=True, after we iterate over all batches the data is shuffled (for finer-grained control over the data loading order, take a look at Samplers).\n",
        "\n",
        "train_features, train_labels = next(iter(train_dataloader)) # This means that 'DataLoader' function returns two values: train_features and train_labels\n",
        "print(train_features)\n",
        "print(train_labels)\n",
        "print(f\"Feature batch shape: {train_features.size()}\")\n",
        "print(f\"Labels batch shape: {train_labels.size()}\")\n",
        "img = train_features[0].squeeze()\n",
        "label = train_labels[0]\n",
        "plt.imshow(img, cmap=\"gray\")\n",
        "plt.show()\n",
        "print(f\"Label: {label}\")"
      ],
      "metadata": {
        "colab": {
          "base_uri": "https://localhost:8080/",
          "height": 1000
        },
        "id": "ehGICa5sibd6",
        "outputId": "50713f60-31f0-4dc0-bb11-d3c02f49c0ed"
      },
      "execution_count": 14,
      "outputs": [
        {
          "output_type": "stream",
          "name": "stdout",
          "text": [
            "tensor([[[[0., 0., 0.,  ..., 0., 0., 0.],\n",
            "          [0., 0., 0.,  ..., 0., 0., 0.],\n",
            "          [0., 0., 0.,  ..., 0., 0., 0.],\n",
            "          ...,\n",
            "          [0., 0., 0.,  ..., 0., 0., 0.],\n",
            "          [0., 0., 0.,  ..., 0., 0., 0.],\n",
            "          [0., 0., 0.,  ..., 0., 0., 0.]]],\n",
            "\n",
            "\n",
            "        [[[0., 0., 0.,  ..., 0., 0., 0.],\n",
            "          [0., 0., 0.,  ..., 0., 0., 0.],\n",
            "          [0., 0., 0.,  ..., 0., 0., 0.],\n",
            "          ...,\n",
            "          [0., 0., 0.,  ..., 0., 0., 0.],\n",
            "          [0., 0., 0.,  ..., 0., 0., 0.],\n",
            "          [0., 0., 0.,  ..., 0., 0., 0.]]],\n",
            "\n",
            "\n",
            "        [[[0., 0., 0.,  ..., 0., 0., 0.],\n",
            "          [0., 0., 0.,  ..., 0., 0., 0.],\n",
            "          [0., 0., 0.,  ..., 0., 0., 0.],\n",
            "          ...,\n",
            "          [0., 0., 0.,  ..., 0., 0., 0.],\n",
            "          [0., 0., 0.,  ..., 0., 0., 0.],\n",
            "          [0., 0., 0.,  ..., 0., 0., 0.]]],\n",
            "\n",
            "\n",
            "        ...,\n",
            "\n",
            "\n",
            "        [[[0., 0., 0.,  ..., 0., 0., 0.],\n",
            "          [0., 0., 0.,  ..., 0., 0., 0.],\n",
            "          [0., 0., 0.,  ..., 0., 0., 0.],\n",
            "          ...,\n",
            "          [0., 0., 0.,  ..., 0., 0., 0.],\n",
            "          [0., 0., 0.,  ..., 0., 0., 0.],\n",
            "          [0., 0., 0.,  ..., 0., 0., 0.]]],\n",
            "\n",
            "\n",
            "        [[[0., 0., 0.,  ..., 0., 0., 0.],\n",
            "          [0., 0., 0.,  ..., 0., 0., 0.],\n",
            "          [0., 0., 0.,  ..., 0., 0., 0.],\n",
            "          ...,\n",
            "          [0., 0., 0.,  ..., 0., 0., 0.],\n",
            "          [0., 0., 0.,  ..., 0., 0., 0.],\n",
            "          [0., 0., 0.,  ..., 0., 0., 0.]]],\n",
            "\n",
            "\n",
            "        [[[0., 0., 0.,  ..., 0., 0., 0.],\n",
            "          [0., 0., 0.,  ..., 0., 0., 0.],\n",
            "          [0., 0., 0.,  ..., 0., 0., 0.],\n",
            "          ...,\n",
            "          [0., 0., 0.,  ..., 0., 0., 0.],\n",
            "          [0., 0., 0.,  ..., 0., 0., 0.],\n",
            "          [0., 0., 0.,  ..., 0., 0., 0.]]]])\n",
            "tensor([2, 3, 2, 1, 2, 1, 7, 3, 7, 8, 3, 8, 6, 5, 2, 3, 5, 6, 9, 1, 8, 1, 3, 1,\n",
            "        7, 2, 5, 1, 1, 5, 5, 5, 0, 9, 2, 9, 5, 3, 7, 1, 3, 6, 5, 0, 9, 9, 8, 2,\n",
            "        3, 6, 4, 5, 3, 4, 5, 3, 9, 1, 2, 2, 6, 7, 6, 6])\n",
            "Feature batch shape: torch.Size([64, 1, 28, 28])\n",
            "Labels batch shape: torch.Size([64])\n"
          ]
        },
        {
          "output_type": "display_data",
          "data": {
            "text/plain": [
              "<Figure size 640x480 with 1 Axes>"
            ],
            "image/png": "[encoded data removed]"
          },
          "metadata": {}
        },
        {
          "output_type": "stream",
          "name": "stdout",
          "text": [
            "Label: 2\n"
          ]
        }
      ]
    },
    {
      "cell_type": "code",
      "source": [
        "# Transforming the labels into a one-hot encoded tensor\n",
        "trainset.target_transform=Lambda(lambda y: torch.zeros(10, dtype=torch.float).scatter_(0, torch.tensor(y), value=1))\n",
        "testset.target_transform=Lambda(lambda y: torch.zeros(10, dtype=torch.float).scatter_(0, torch.tensor(y), value=1))"
      ],
      "metadata": {
        "id": "hA21i6sNyuk5"
      },
      "execution_count": 15,
      "outputs": []
    },
    {
      "cell_type": "code",
      "source": [
        "# We have loaded that dataset into the DataLoader and can iterate through the dataset as needed.\n",
        "# Each iteration below returns a batch of train_features and train_labels (containing batch_size=64 features and labels respectively).\n",
        "#Because we specified shuffle=True, after we iterate over all batches the data is shuffled (for finer-grained control over the data loading order, take a look at Samplers).\n",
        "\n",
        "train_features, train_labels = next(iter(train_dataloader)) # This means that 'DataLoader' function returns two values: train_features and train_labels\n",
        "print(train_features)\n",
        "print(train_labels)\n",
        "print(f\"Feature batch shape: {train_features.size()}\")\n",
        "print(f\"Labels batch shape: {train_labels.size()}\")\n",
        "img = train_features[0].squeeze()\n",
        "label = train_labels[0]\n",
        "plt.imshow(img, cmap=\"gray\")\n",
        "plt.show()\n",
        "print(f\"Label: {label}\")"
      ],
      "metadata": {
        "colab": {
          "base_uri": "https://localhost:8080/",
          "height": 1000
        },
        "id": "sVrPlJeMo2Rf",
        "outputId": "78721356-ac31-4ab9-db03-6207fd76460c"
      },
      "execution_count": 16,
      "outputs": [
        {
          "output_type": "stream",
          "name": "stdout",
          "text": [
            "tensor([[[[0.0000, 0.0000, 0.0000,  ..., 0.0000, 0.0000, 0.0000],\n",
            "          [0.0000, 0.0000, 0.0000,  ..., 0.0000, 0.0000, 0.0000],\n",
            "          [0.0000, 0.0000, 0.0000,  ..., 0.0000, 0.0000, 0.0000],\n",
            "          ...,\n",
            "          [0.0000, 0.0000, 0.0000,  ..., 0.0000, 0.0000, 0.0000],\n",
            "          [0.0000, 0.0000, 0.0000,  ..., 0.0000, 0.0000, 0.0000],\n",
            "          [0.0000, 0.0000, 0.0000,  ..., 0.0000, 0.0000, 0.0000]]],\n",
            "\n",
            "\n",
            "        [[[0.0000, 0.0000, 0.0000,  ..., 0.0000, 0.0000, 0.0000],\n",
            "          [0.0000, 0.0000, 0.0000,  ..., 0.0000, 0.0000, 0.0000],\n",
            "          [0.0000, 0.0000, 0.0000,  ..., 0.0078, 0.0000, 0.0000],\n",
            "          ...,\n",
            "          [0.0000, 0.0000, 0.0000,  ..., 0.0000, 0.0000, 0.0000],\n",
            "          [0.0000, 0.0000, 0.0000,  ..., 0.0000, 0.0000, 0.0000],\n",
            "          [0.0000, 0.0000, 0.0000,  ..., 0.0000, 0.0000, 0.0000]]],\n",
            "\n",
            "\n",
            "        [[[0.0000, 0.0000, 0.0000,  ..., 0.0000, 0.0000, 0.0000],\n",
            "          [0.0000, 0.0000, 0.0000,  ..., 0.0000, 0.0000, 0.0000],\n",
            "          [0.0000, 0.0000, 0.0000,  ..., 0.0000, 0.0000, 0.0000],\n",
            "          ...,\n",
            "          [0.0000, 0.0000, 0.0000,  ..., 0.0000, 0.0000, 0.0000],\n",
            "          [0.0000, 0.0000, 0.0000,  ..., 0.0000, 0.0000, 0.0000],\n",
            "          [0.0000, 0.0000, 0.0000,  ..., 0.0000, 0.0000, 0.0000]]],\n",
            "\n",
            "\n",
            "        ...,\n",
            "\n",
            "\n",
            "        [[[0.0000, 0.0000, 0.0000,  ..., 0.0000, 0.0000, 0.0000],\n",
            "          [0.0000, 0.0000, 0.0000,  ..., 0.0000, 0.0000, 0.0000],\n",
            "          [0.0000, 0.0000, 0.0000,  ..., 0.0000, 0.0000, 0.0000],\n",
            "          ...,\n",
            "          [0.0000, 0.0000, 0.0000,  ..., 0.0000, 0.0000, 0.0000],\n",
            "          [0.0000, 0.0000, 0.0000,  ..., 0.0000, 0.0000, 0.0000],\n",
            "          [0.0000, 0.0000, 0.0000,  ..., 0.0000, 0.0000, 0.0000]]],\n",
            "\n",
            "\n",
            "        [[[0.0000, 0.0000, 0.0000,  ..., 0.0000, 0.0000, 0.0000],\n",
            "          [0.0000, 0.0000, 0.0000,  ..., 0.0000, 0.0000, 0.0000],\n",
            "          [0.0000, 0.0000, 0.0000,  ..., 0.0000, 0.0000, 0.0000],\n",
            "          ...,\n",
            "          [0.0000, 0.0000, 0.0000,  ..., 0.0000, 0.0000, 0.0000],\n",
            "          [0.0000, 0.0000, 0.0000,  ..., 0.0000, 0.0000, 0.0000],\n",
            "          [0.0000, 0.0000, 0.0000,  ..., 0.0000, 0.0000, 0.0000]]],\n",
            "\n",
            "\n",
            "        [[[0.0000, 0.0000, 0.0000,  ..., 0.0000, 0.0000, 0.0000],\n",
            "          [0.0000, 0.0000, 0.0000,  ..., 0.0000, 0.0000, 0.0000],\n",
            "          [0.0000, 0.0000, 0.0000,  ..., 0.0000, 0.0000, 0.0000],\n",
            "          ...,\n",
            "          [0.0000, 0.0000, 0.0000,  ..., 0.0000, 0.0000, 0.0000],\n",
            "          [0.0000, 0.0000, 0.0000,  ..., 0.0000, 0.0000, 0.0000],\n",
            "          [0.0000, 0.0000, 0.0000,  ..., 0.0000, 0.0000, 0.0000]]]])\n",
            "tensor([[1., 0., 0., 0., 0., 0., 0., 0., 0., 0.],\n",
            "        [0., 0., 1., 0., 0., 0., 0., 0., 0., 0.],\n",
            "        [0., 0., 0., 0., 0., 0., 0., 0., 1., 0.],\n",
            "        [0., 0., 0., 0., 0., 0., 0., 0., 1., 0.],\n",
            "        [0., 0., 0., 0., 0., 1., 0., 0., 0., 0.],\n",
            "        [0., 0., 0., 0., 0., 0., 0., 1., 0., 0.],\n",
            "        [0., 0., 0., 0., 0., 0., 1., 0., 0., 0.],\n",
            "        [0., 0., 0., 1., 0., 0., 0., 0., 0., 0.],\n",
            "        [0., 0., 0., 0., 0., 0., 0., 1., 0., 0.],\n",
            "        [0., 0., 0., 1., 0., 0., 0., 0., 0., 0.],\n",
            "        [0., 0., 0., 0., 1., 0., 0., 0., 0., 0.],\n",
            "        [0., 0., 0., 0., 0., 0., 0., 0., 1., 0.],\n",
            "        [0., 0., 0., 1., 0., 0., 0., 0., 0., 0.],\n",
            "        [1., 0., 0., 0., 0., 0., 0., 0., 0., 0.],\n",
            "        [0., 0., 0., 0., 0., 0., 0., 1., 0., 0.],\n",
            "        [0., 1., 0., 0., 0., 0., 0., 0., 0., 0.],\n",
            "        [1., 0., 0., 0., 0., 0., 0., 0., 0., 0.],\n",
            "        [0., 0., 0., 0., 1., 0., 0., 0., 0., 0.],\n",
            "        [0., 0., 0., 0., 0., 0., 0., 0., 1., 0.],\n",
            "        [0., 0., 0., 0., 0., 0., 1., 0., 0., 0.],\n",
            "        [0., 0., 1., 0., 0., 0., 0., 0., 0., 0.],\n",
            "        [0., 0., 0., 0., 0., 0., 0., 0., 0., 1.],\n",
            "        [0., 0., 0., 0., 0., 0., 1., 0., 0., 0.],\n",
            "        [0., 0., 0., 0., 0., 0., 1., 0., 0., 0.],\n",
            "        [0., 0., 0., 0., 1., 0., 0., 0., 0., 0.],\n",
            "        [0., 0., 0., 0., 0., 0., 0., 1., 0., 0.],\n",
            "        [0., 1., 0., 0., 0., 0., 0., 0., 0., 0.],\n",
            "        [0., 0., 0., 0., 0., 1., 0., 0., 0., 0.],\n",
            "        [0., 0., 0., 0., 0., 0., 0., 0., 0., 1.],\n",
            "        [0., 0., 0., 0., 0., 0., 1., 0., 0., 0.],\n",
            "        [0., 1., 0., 0., 0., 0., 0., 0., 0., 0.],\n",
            "        [0., 0., 0., 1., 0., 0., 0., 0., 0., 0.],\n",
            "        [1., 0., 0., 0., 0., 0., 0., 0., 0., 0.],\n",
            "        [0., 0., 0., 0., 1., 0., 0., 0., 0., 0.],\n",
            "        [0., 0., 0., 0., 0., 1., 0., 0., 0., 0.],\n",
            "        [0., 0., 0., 0., 0., 0., 0., 0., 1., 0.],\n",
            "        [0., 0., 0., 1., 0., 0., 0., 0., 0., 0.],\n",
            "        [0., 0., 0., 1., 0., 0., 0., 0., 0., 0.],\n",
            "        [0., 0., 0., 1., 0., 0., 0., 0., 0., 0.],\n",
            "        [0., 0., 0., 0., 0., 0., 0., 0., 0., 1.],\n",
            "        [0., 0., 1., 0., 0., 0., 0., 0., 0., 0.],\n",
            "        [0., 0., 0., 0., 0., 0., 1., 0., 0., 0.],\n",
            "        [0., 0., 0., 1., 0., 0., 0., 0., 0., 0.],\n",
            "        [0., 0., 0., 1., 0., 0., 0., 0., 0., 0.],\n",
            "        [0., 0., 0., 0., 0., 0., 0., 0., 1., 0.],\n",
            "        [0., 0., 0., 1., 0., 0., 0., 0., 0., 0.],\n",
            "        [0., 0., 1., 0., 0., 0., 0., 0., 0., 0.],\n",
            "        [0., 0., 0., 0., 1., 0., 0., 0., 0., 0.],\n",
            "        [0., 0., 0., 0., 0., 0., 1., 0., 0., 0.],\n",
            "        [0., 0., 0., 0., 1., 0., 0., 0., 0., 0.],\n",
            "        [0., 0., 0., 0., 0., 0., 0., 0., 1., 0.],\n",
            "        [0., 0., 0., 1., 0., 0., 0., 0., 0., 0.],\n",
            "        [0., 0., 0., 0., 0., 0., 0., 0., 1., 0.],\n",
            "        [0., 0., 0., 0., 0., 0., 0., 0., 0., 1.],\n",
            "        [0., 0., 0., 0., 0., 0., 0., 1., 0., 0.],\n",
            "        [0., 0., 1., 0., 0., 0., 0., 0., 0., 0.],\n",
            "        [0., 0., 0., 0., 0., 1., 0., 0., 0., 0.],\n",
            "        [0., 0., 0., 0., 0., 0., 0., 0., 0., 1.],\n",
            "        [0., 0., 0., 0., 0., 0., 0., 0., 0., 1.],\n",
            "        [0., 1., 0., 0., 0., 0., 0., 0., 0., 0.],\n",
            "        [0., 0., 0., 0., 0., 0., 0., 0., 1., 0.],\n",
            "        [0., 0., 0., 0., 0., 0., 0., 1., 0., 0.],\n",
            "        [0., 0., 0., 0., 0., 0., 0., 1., 0., 0.],\n",
            "        [0., 0., 0., 0., 0., 1., 0., 0., 0., 0.]])\n",
            "Feature batch shape: torch.Size([64, 1, 28, 28])\n",
            "Labels batch shape: torch.Size([64, 10])\n"
          ]
        },
        {
          "output_type": "display_data",
          "data": {
            "text/plain": [
              "<Figure size 640x480 with 1 Axes>"
            ],
            "image/png": "[encoded data removed]"
          },
          "metadata": {}
        },
        {
          "output_type": "stream",
          "name": "stdout",
          "text": [
            "Label: tensor([1., 0., 0., 0., 0., 0., 0., 0., 0., 0.])\n"
          ]
        }
      ]
    },
    {
      "cell_type": "markdown",
      "source": [
        "## Creating a Custom Dataset for your files"
      ],
      "metadata": {
        "id": "A6JSGdmbaHE7"
      }
    },
    {
      "cell_type": "code",
      "source": [
        "import os\n",
        "import pandas as pd\n",
        "from torchvision.io import read_image"
      ],
      "metadata": {
        "id": "yERSZmjhaKQz"
      },
      "execution_count": 17,
      "outputs": []
    },
    {
      "cell_type": "code",
      "source": [
        "class CustomImageDataset(Dataset):\n",
        "    # The __init__ function is run once when instantiating the Dataset object. We initialize the directory containing the images, the annotations file, and both transforms\n",
        "    def __init__(self, annotations_file, img_dir, transform=None, target_transform=None):\n",
        "        self.img_labels = pd.read_csv(annotations_file)\n",
        "        self.img_dir = img_dir\n",
        "        self.transform = transform\n",
        "        self.target_transform = target_transform\n",
        "\n",
        "    # The __len__ function returns the number of samples in our dataset.\n",
        "    def __len__(self):\n",
        "        return len(self.img_labels)\n",
        "\n",
        "    # The __getitem__ function loads and returns a sample from the dataset at the given index idx.\n",
        "    #Based on the index, it identifies the image’s location on disk, converts that to a tensor using read_image...\n",
        "    # ...retrieves the corresponding label from the csv data in self.img_labels, calls the transform functions on them (if applicable)...\n",
        "    # ...and returns the tensor image and corresponding label in a tuple.\n",
        "    def __getitem__(self, idx):\n",
        "        img_path = os.path.join(self.img_dir, self.img_labels.iloc[idx, 0])\n",
        "        image = read_image(img_path)\n",
        "        label = self.img_labels.iloc[idx, 1]\n",
        "        if self.transform:\n",
        "            image = self.transform(image)\n",
        "        if self.target_transform:\n",
        "            label = self.target_transform(label)\n",
        "        return image, label"
      ],
      "metadata": {
        "id": "Wpqjk-iBaNeL"
      },
      "execution_count": 18,
      "outputs": []
    },
    {
      "cell_type": "markdown",
      "source": [
        "## Get Device for Training"
      ],
      "metadata": {
        "id": "F_qggDyR28bo"
      }
    },
    {
      "cell_type": "code",
      "source": [
        "# We want to be able to train our model on a hardware accelerator like the GPU or MPS, if available.\n",
        "# Let’s check to see if torch.cuda or torch.backends.mps are available, otherwise we use the CPU.\n",
        "\n",
        "device = (\n",
        "    \"cuda\"\n",
        "    if torch.cuda.is_available()\n",
        "    else \"mps\"\n",
        "    if torch.backends.mps.is_available()\n",
        "    else \"cpu\"\n",
        ")\n",
        "print(f\"Using {device} device\")"
      ],
      "metadata": {
        "colab": {
          "base_uri": "https://localhost:8080/"
        },
        "id": "CskCPYBn7BuH",
        "outputId": "d04b6091-7fa6-48d0-cfce-6e90886ad71a"
      },
      "execution_count": 19,
      "outputs": [
        {
          "output_type": "stream",
          "name": "stdout",
          "text": [
            "Using cpu device\n"
          ]
        }
      ]
    },
    {
      "cell_type": "markdown",
      "source": [
        "## Building the Network"
      ],
      "metadata": {
        "id": "BXXquCFB7XWg"
      }
    },
    {
      "cell_type": "code",
      "source": [
        "# import os # Imported before\n",
        "# import torch # Imported before\n",
        "from torch import nn\n",
        "# from torch.utils.data import DataLoader # Imported before\n",
        "# from torchvision import datasets, transforms # Imported before"
      ],
      "metadata": {
        "id": "4k-zK0NQ3A8_"
      },
      "execution_count": 20,
      "outputs": []
    },
    {
      "cell_type": "code",
      "source": [
        "# We define our neural network by subclassing nn.Module, and initialize the neural network layers in __init__.\n",
        "# Every nn.Module subclass implements the operations on input data in the forward method.\n",
        "\n",
        "class NeuralNetwork(nn.Module): # Defining a new class NeuralNetwork that inherits from PyTorch's nn.Module. This inheritance is necessary for any custom neural network model in PyTorch.\n",
        "\n",
        "    def __init__(self): # The initialization method sets up the layers of the neural network.\n",
        "        super().__init__() # The super().__init__() call is ensuring that the initialization from the parent nn.Module class is also executed.\n",
        "        self.flatten = nn.Flatten() # This layer will flatten its input. For image data, it converts a 2D image into a 1D tensor.\n",
        "        self.linear_relu_stack = nn.Sequential( # This defines a sequential stack of layers, including three linear (fully connected) layers separated by ReLU activations.\n",
        "                                                # The last linear layer has 10 output units, corresponding to 10 classes for classification.\n",
        "            nn.Linear(28*28, 512),\n",
        "            nn.ReLU(),\n",
        "            nn.Linear(512, 512),\n",
        "            nn.ReLU(),\n",
        "            nn.Linear(512, 10),\n",
        "        )\n",
        "    # ReLU, which stands for Rectified Linear Unit, is a type of activation function that is widely used in deep neural networks and deep learning models.\n",
        "    # The function itself is quite simple and is defined as: f(x)=max(0,x)\n",
        "    # This means that if the input x is positive, it returns x, and if the input x is negative (or zero), it returns 0.\n",
        "    # Graphically, the function looks like a ramp: it's flat at and below zero, and then increases linearly above zero.\n",
        "\n",
        "    def forward(self, x): # This method defines the forward pass of the neural network.\n",
        "                          # When you call the network on some input x, this method will be executed.\n",
        "                          # It first flattens the input, then passes it through the stack of linear and ReLU layers, and finally returns the output 'nn_output'.\n",
        "        x = self.flatten(x)\n",
        "        nn_output = self.linear_relu_stack(x)\n",
        "        return nn_output"
      ],
      "metadata": {
        "id": "5NcgGD7V70KA"
      },
      "execution_count": 21,
      "outputs": []
    },
    {
      "cell_type": "code",
      "source": [
        "# We create an instance of NeuralNetwork, and move it to the device, and print its structure.\n",
        "model = NeuralNetwork().to(device)\n",
        "print(model)"
      ],
      "metadata": {
        "colab": {
          "base_uri": "https://localhost:8080/"
        },
        "id": "1e2MtQ3QF1hb",
        "outputId": "20280904-5adf-4a18-b08c-42044d4b00ff"
      },
      "execution_count": 22,
      "outputs": [
        {
          "output_type": "stream",
          "name": "stdout",
          "text": [
            "NeuralNetwork(\n",
            "  (flatten): Flatten(start_dim=1, end_dim=-1)\n",
            "  (linear_relu_stack): Sequential(\n",
            "    (0): Linear(in_features=784, out_features=512, bias=True)\n",
            "    (1): ReLU()\n",
            "    (2): Linear(in_features=512, out_features=512, bias=True)\n",
            "    (3): ReLU()\n",
            "    (4): Linear(in_features=512, out_features=10, bias=True)\n",
            "  )\n",
            ")\n"
          ]
        }
      ]
    },
    {
      "cell_type": "code",
      "source": [
        "# Calling the model on the input returns a 2-dimensional tensor with dim=0 corresponding to each output of 10 raw predicted values for each class...\n",
        "# ...and dim=1 corresponding to the individual values of each output.\n",
        "X = torch.rand(3, 28, 28, device=device) # creating a random tensor to see what the output of the NeuralNetwork() is.\n",
        "logits = model(X)\n",
        "print(X.size())\n",
        "print(logits.size())\n",
        "print(logits)"
      ],
      "metadata": {
        "colab": {
          "base_uri": "https://localhost:8080/"
        },
        "id": "UzxAIRUvHuti",
        "outputId": "26b90753-2d12-4066-cd1e-c85130ed8b21"
      },
      "execution_count": 37,
      "outputs": [
        {
          "output_type": "stream",
          "name": "stdout",
          "text": [
            "torch.Size([3, 28, 28])\n",
            "torch.Size([3, 10])\n",
            "tensor([[-0.0274, -0.0577, -0.0457, -0.0203, -0.0742, -0.0403,  0.0318,  0.0913,\n",
            "         -0.0754,  0.0780],\n",
            "        [-0.0785, -0.0607, -0.0339, -0.0491, -0.0858, -0.0269,  0.0130,  0.0712,\n",
            "         -0.0883,  0.0323],\n",
            "        [-0.0397, -0.0541, -0.0391, -0.0191, -0.0769, -0.0206,  0.0114,  0.0275,\n",
            "         -0.0647,  0.0648]], grad_fn=<AddmmBackward0>)\n"
          ]
        }
      ]
    },
    {
      "cell_type": "code",
      "source": [
        "# We get the prediction probabilities by passing it through an instance of the nn.Softmax module.\n",
        "pred_probab = nn.Softmax(dim=1)(logits)\n",
        "print(pred_probab)\n",
        "y_pred = pred_probab.argmax(1)\n",
        "print(f\"Predicted class: {y_pred}\")"
      ],
      "metadata": {
        "colab": {
          "base_uri": "https://localhost:8080/"
        },
        "id": "ri8sB9p0IvAd",
        "outputId": "881c49ac-11d6-4e0f-a183-fb9d449c37e7"
      },
      "execution_count": 38,
      "outputs": [
        {
          "output_type": "stream",
          "name": "stdout",
          "text": [
            "tensor([[0.0985, 0.0956, 0.0967, 0.0992, 0.0940, 0.0972, 0.1045, 0.1109, 0.0939,\n",
            "         0.1095],\n",
            "        [0.0952, 0.0969, 0.0995, 0.0980, 0.0945, 0.1002, 0.1043, 0.1106, 0.0943,\n",
            "         0.1064],\n",
            "        [0.0981, 0.0967, 0.0981, 0.1001, 0.0945, 0.1000, 0.1032, 0.1049, 0.0956,\n",
            "         0.1089]], grad_fn=<SoftmaxBackward0>)\n",
            "Predicted class: tensor([7, 7, 9])\n"
          ]
        }
      ]
    },
    {
      "cell_type": "markdown",
      "source": [
        "## Checking what each step of Neural Netwrok does"
      ],
      "metadata": {
        "id": "2dHC_axsZJZB"
      }
    },
    {
      "cell_type": "code",
      "source": [
        "# A sample minibatch of 3 images of size 28x28 and see what happens to it as we pass it through the network.\n",
        "input_image = torch.rand(3,28,28)\n",
        "print(input_image.size())\n",
        "print(input_image)"
      ],
      "metadata": {
        "colab": {
          "base_uri": "https://localhost:8080/"
        },
        "id": "rPuBMK8IZB1w",
        "outputId": "b0ab06bf-a26c-478e-fd28-0961e2d3fcb1"
      },
      "execution_count": 27,
      "outputs": [
        {
          "output_type": "stream",
          "name": "stdout",
          "text": [
            "torch.Size([3, 28, 28])\n",
            "tensor([[[0.4984, 0.4478, 0.9647,  ..., 0.4560, 0.4683, 0.8202],\n",
            "         [0.5032, 0.1755, 0.5982,  ..., 0.3872, 0.2528, 0.3563],\n",
            "         [0.3647, 0.1990, 0.8554,  ..., 0.0402, 0.1490, 0.2645],\n",
            "         ...,\n",
            "         [0.7927, 0.3099, 0.8202,  ..., 0.1814, 0.4473, 0.4904],\n",
            "         [0.0347, 0.1807, 0.6841,  ..., 0.3013, 0.0734, 0.6601],\n",
            "         [0.5287, 0.8744, 0.7734,  ..., 0.1591, 0.8629, 0.8314]],\n",
            "\n",
            "        [[0.1695, 0.8654, 0.3477,  ..., 0.7477, 0.0837, 0.3903],\n",
            "         [0.5120, 0.0170, 0.2138,  ..., 0.6941, 0.4983, 0.1000],\n",
            "         [0.9153, 0.4076, 0.4325,  ..., 0.7362, 0.7149, 0.5806],\n",
            "         ...,\n",
            "         [0.4951, 0.4572, 0.8289,  ..., 0.4253, 0.5000, 0.1067],\n",
            "         [0.9922, 0.6921, 0.5384,  ..., 0.3091, 0.0576, 0.4846],\n",
            "         [0.8756, 0.3076, 0.1905,  ..., 0.4663, 0.6384, 0.7614]],\n",
            "\n",
            "        [[0.2571, 0.8651, 0.1580,  ..., 0.1265, 0.9018, 0.1235],\n",
            "         [0.0259, 0.0898, 0.0520,  ..., 0.7097, 0.6994, 0.0077],\n",
            "         [0.7880, 0.2023, 0.3740,  ..., 0.2625, 0.2517, 0.8707],\n",
            "         ...,\n",
            "         [0.5738, 0.3752, 0.4699,  ..., 0.6474, 0.7647, 0.6887],\n",
            "         [0.0565, 0.6247, 0.4149,  ..., 0.1045, 0.6424, 0.4474],\n",
            "         [0.5730, 0.1248, 0.2470,  ..., 0.5307, 0.7915, 0.5138]]])\n"
          ]
        }
      ]
    },
    {
      "cell_type": "code",
      "source": [
        "# We initialize the nn.Flatten layer to convert each 2D 28x28 image into a contiguous array of 784 pixel values ( the minibatch dimension (at dim=0) is maintained).\n",
        "flatten = nn.Flatten()\n",
        "flat_image = flatten(input_image)\n",
        "print(flat_image.size())\n",
        "print(flat_image)"
      ],
      "metadata": {
        "colab": {
          "base_uri": "https://localhost:8080/"
        },
        "id": "I4d1utPyZlDJ",
        "outputId": "91753aec-4a08-4d6f-954d-e0d1afc7b1cc"
      },
      "execution_count": 28,
      "outputs": [
        {
          "output_type": "stream",
          "name": "stdout",
          "text": [
            "torch.Size([3, 784])\n",
            "tensor([[0.4984, 0.4478, 0.9647,  ..., 0.1591, 0.8629, 0.8314],\n",
            "        [0.1695, 0.8654, 0.3477,  ..., 0.4663, 0.6384, 0.7614],\n",
            "        [0.2571, 0.8651, 0.1580,  ..., 0.5307, 0.7915, 0.5138]])\n"
          ]
        }
      ]
    },
    {
      "cell_type": "code",
      "source": [
        "# The linear layer is a module that applies a linear transformation on the input using its stored weights and biases.\n",
        "layer1 = nn.Linear(in_features=28*28, out_features=20)\n",
        "hidden1 = layer1(flat_image)\n",
        "print(hidden1.size())\n",
        "print(hidden1)"
      ],
      "metadata": {
        "colab": {
          "base_uri": "https://localhost:8080/"
        },
        "id": "hfnBLjRWaUo9",
        "outputId": "854c694a-93e8-4835-aa23-757999bc586d"
      },
      "execution_count": 32,
      "outputs": [
        {
          "output_type": "stream",
          "name": "stdout",
          "text": [
            "torch.Size([3, 20])\n",
            "tensor([[ 3.7282e-01, -7.8896e-03, -1.0814e-01, -4.8750e-02, -2.1390e-02,\n",
            "         -2.4531e-01,  1.2681e-01, -2.5900e-01,  1.1644e+00, -1.7719e-01,\n",
            "         -1.9705e-01, -8.2065e-01, -1.8145e-01,  8.4914e-02,  3.3154e-01,\n",
            "          2.1589e-01,  3.1076e-01, -3.1011e-01, -2.4244e-01, -1.6065e-01],\n",
            "        [ 5.6830e-01,  8.5444e-02, -7.1945e-02, -4.8225e-03,  1.8504e-01,\n",
            "         -2.9327e-02,  3.7244e-01,  2.7892e-01,  1.1956e+00,  3.9408e-02,\n",
            "         -2.4642e-01, -8.4005e-01, -1.8560e-01, -3.5313e-01,  2.7241e-01,\n",
            "          1.6650e-01,  4.4661e-01, -1.8311e-01, -6.1547e-01, -4.2529e-01],\n",
            "        [ 6.9726e-01,  3.3099e-02, -6.5254e-02,  1.4360e-01,  6.0098e-04,\n",
            "         -2.4270e-01,  2.6999e-01,  1.4448e-01,  1.2845e+00, -9.9047e-02,\n",
            "         -3.2179e-01, -6.2500e-01, -2.8656e-01, -1.6392e-01,  2.5183e-01,\n",
            "          2.1403e-01,  2.0715e-01, -4.5413e-01, -3.6485e-01, -2.4736e-01]],\n",
            "       grad_fn=<AddmmBackward0>)\n"
          ]
        }
      ]
    },
    {
      "cell_type": "code",
      "source": [
        "# Non-linear activations are what create the complex mappings between the model’s inputs and outputs.\n",
        "# They are applied after linear transformations to introduce nonlinearity, helping neural networks learn a wide variety of phenomena.\n",
        "# In this model, we use nn.ReLU between our linear layers, but there’s other activations to introduce non-linearity in your model.\n",
        "print(f\"Before ReLU: {hidden1}\\n\\n\")\n",
        "hidden1 = nn.ReLU()(hidden1)\n",
        "print(f\"After ReLU: {hidden1}\")"
      ],
      "metadata": {
        "colab": {
          "base_uri": "https://localhost:8080/"
        },
        "id": "OKnjATEPcMAE",
        "outputId": "0189c7fa-926f-456c-92f5-5dc8a873981a"
      },
      "execution_count": 33,
      "outputs": [
        {
          "output_type": "stream",
          "name": "stdout",
          "text": [
            "Before ReLU: tensor([[ 3.7282e-01, -7.8896e-03, -1.0814e-01, -4.8750e-02, -2.1390e-02,\n",
            "         -2.4531e-01,  1.2681e-01, -2.5900e-01,  1.1644e+00, -1.7719e-01,\n",
            "         -1.9705e-01, -8.2065e-01, -1.8145e-01,  8.4914e-02,  3.3154e-01,\n",
            "          2.1589e-01,  3.1076e-01, -3.1011e-01, -2.4244e-01, -1.6065e-01],\n",
            "        [ 5.6830e-01,  8.5444e-02, -7.1945e-02, -4.8225e-03,  1.8504e-01,\n",
            "         -2.9327e-02,  3.7244e-01,  2.7892e-01,  1.1956e+00,  3.9408e-02,\n",
            "         -2.4642e-01, -8.4005e-01, -1.8560e-01, -3.5313e-01,  2.7241e-01,\n",
            "          1.6650e-01,  4.4661e-01, -1.8311e-01, -6.1547e-01, -4.2529e-01],\n",
            "        [ 6.9726e-01,  3.3099e-02, -6.5254e-02,  1.4360e-01,  6.0098e-04,\n",
            "         -2.4270e-01,  2.6999e-01,  1.4448e-01,  1.2845e+00, -9.9047e-02,\n",
            "         -3.2179e-01, -6.2500e-01, -2.8656e-01, -1.6392e-01,  2.5183e-01,\n",
            "          2.1403e-01,  2.0715e-01, -4.5413e-01, -3.6485e-01, -2.4736e-01]],\n",
            "       grad_fn=<AddmmBackward0>)\n",
            "\n",
            "\n",
            "After ReLU: tensor([[3.7282e-01, 0.0000e+00, 0.0000e+00, 0.0000e+00, 0.0000e+00, 0.0000e+00,\n",
            "         1.2681e-01, 0.0000e+00, 1.1644e+00, 0.0000e+00, 0.0000e+00, 0.0000e+00,\n",
            "         0.0000e+00, 8.4914e-02, 3.3154e-01, 2.1589e-01, 3.1076e-01, 0.0000e+00,\n",
            "         0.0000e+00, 0.0000e+00],\n",
            "        [5.6830e-01, 8.5444e-02, 0.0000e+00, 0.0000e+00, 1.8504e-01, 0.0000e+00,\n",
            "         3.7244e-01, 2.7892e-01, 1.1956e+00, 3.9408e-02, 0.0000e+00, 0.0000e+00,\n",
            "         0.0000e+00, 0.0000e+00, 2.7241e-01, 1.6650e-01, 4.4661e-01, 0.0000e+00,\n",
            "         0.0000e+00, 0.0000e+00],\n",
            "        [6.9726e-01, 3.3099e-02, 0.0000e+00, 1.4360e-01, 6.0098e-04, 0.0000e+00,\n",
            "         2.6999e-01, 1.4448e-01, 1.2845e+00, 0.0000e+00, 0.0000e+00, 0.0000e+00,\n",
            "         0.0000e+00, 0.0000e+00, 2.5183e-01, 2.1403e-01, 2.0715e-01, 0.0000e+00,\n",
            "         0.0000e+00, 0.0000e+00]], grad_fn=<ReluBackward0>)\n"
          ]
        }
      ]
    },
    {
      "cell_type": "code",
      "source": [
        "# nn.Sequential is an ordered container of modules. The data is passed through all the modules in the same order as defined.\n",
        "# You can use sequential containers to put together a quick network like seq_modules.\n",
        "\n",
        "seq_modules = nn.Sequential(\n",
        "    flatten, # Defined in above code as: flatten = nn.Flatten()\n",
        "    layer1, # Defined in above code as: layer1 = nn.Linear(in_features=28*28, out_features=20)\n",
        "    nn.ReLU(),\n",
        "    nn.Linear(20, 10)\n",
        ")\n",
        "input_image = torch.rand(3,28,28)\n",
        "logits = seq_modules(input_image)\n",
        "print(logits)"
      ],
      "metadata": {
        "colab": {
          "base_uri": "https://localhost:8080/"
        },
        "id": "fsT91UuqfWal",
        "outputId": "39194967-e7eb-4760-c072-0e267c30bcbc"
      },
      "execution_count": 42,
      "outputs": [
        {
          "output_type": "stream",
          "name": "stdout",
          "text": [
            "tensor([[-0.3055, -0.0167, -0.4366,  0.3683, -0.1828,  0.2504, -0.0716,  0.0662,\n",
            "         -0.1566,  0.0955],\n",
            "        [-0.2479,  0.0139, -0.2972,  0.3050, -0.1836,  0.1613, -0.0212,  0.0600,\n",
            "         -0.1000,  0.1614],\n",
            "        [-0.2913, -0.0605, -0.3570,  0.4105, -0.1324,  0.2081, -0.0116,  0.1200,\n",
            "         -0.1300,  0.1265]], grad_fn=<AddmmBackward0>)\n"
          ]
        }
      ]
    },
    {
      "cell_type": "code",
      "source": [
        "# The last linear layer of the neural network returns logits - raw values in [-infty, infty] - which are passed to the nn.Softmax module.\n",
        "# The logits are scaled to values [0, 1] representing the model’s predicted probabilities for each class.\n",
        "\n",
        "softmax = nn.Softmax(dim=1) # 'dim' parameter indicates the dimension along which the values must sum to 1.\n",
        "pred_probab = softmax(logits)\n",
        "print(pred_probab)"
      ],
      "metadata": {
        "colab": {
          "base_uri": "https://localhost:8080/"
        },
        "id": "0imdcvObhNh1",
        "outputId": "62f5b02c-a288-471d-e534-e6f19ff18112"
      },
      "execution_count": 45,
      "outputs": [
        {
          "output_type": "stream",
          "name": "stdout",
          "text": [
            "tensor([[0.0745, 0.0995, 0.0654, 0.1462, 0.0843, 0.1300, 0.0942, 0.1081, 0.0865,\n",
            "         0.1113],\n",
            "        [0.0779, 0.1012, 0.0741, 0.1354, 0.0830, 0.1172, 0.0977, 0.1059, 0.0903,\n",
            "         0.1173],\n",
            "        [0.0738, 0.0929, 0.0691, 0.1488, 0.0865, 0.1215, 0.0976, 0.1113, 0.0867,\n",
            "         0.1120]], grad_fn=<SoftmaxBackward0>)\n"
          ]
        }
      ]
    },
    {
      "cell_type": "code",
      "source": [
        "# Many layers inside a neural network are parameterized, i.e. have associated weights and biases that are optimized during training.\n",
        "# Subclassing nn.Module automatically tracks all fields defined inside your model object, and makes all parameters accessible using your model’s parameters() or named_parameters() methods.\n",
        "\n",
        "# In this example, we iterate over each parameter, and print its size and a preview of its values.\n",
        "\n",
        "print(f\"Model structure: {model}\\n\\n\")\n",
        "\n",
        "for name, param in model.named_parameters():\n",
        "    print(f\"Layer: {name} | Size: {param.size()} | Values : {param[:2]} \\n\")"
      ],
      "metadata": {
        "colab": {
          "base_uri": "https://localhost:8080/"
        },
        "id": "X4tex_owh-zH",
        "outputId": "7bda4918-6653-4706-86bd-d9849896acde"
      },
      "execution_count": 46,
      "outputs": [
        {
          "output_type": "stream",
          "name": "stdout",
          "text": [
            "Model structure: NeuralNetwork(\n",
            "  (flatten): Flatten(start_dim=1, end_dim=-1)\n",
            "  (linear_relu_stack): Sequential(\n",
            "    (0): Linear(in_features=784, out_features=512, bias=True)\n",
            "    (1): ReLU()\n",
            "    (2): Linear(in_features=512, out_features=512, bias=True)\n",
            "    (3): ReLU()\n",
            "    (4): Linear(in_features=512, out_features=10, bias=True)\n",
            "  )\n",
            ")\n",
            "\n",
            "\n",
            "Layer: linear_relu_stack.0.weight | Size: torch.Size([512, 784]) | Values : tensor([[-0.0199, -0.0030,  0.0028,  ...,  0.0334, -0.0356,  0.0298],\n",
            "        [-0.0274, -0.0316, -0.0065,  ...,  0.0122,  0.0063,  0.0144]],\n",
            "       grad_fn=<SliceBackward0>) \n",
            "\n",
            "Layer: linear_relu_stack.0.bias | Size: torch.Size([512]) | Values : tensor([0.0033, 0.0258], grad_fn=<SliceBackward0>) \n",
            "\n",
            "Layer: linear_relu_stack.2.weight | Size: torch.Size([512, 512]) | Values : tensor([[ 0.0148,  0.0091, -0.0258,  ..., -0.0019,  0.0191, -0.0099],\n",
            "        [ 0.0051, -0.0172, -0.0388,  ..., -0.0431, -0.0132,  0.0244]],\n",
            "       grad_fn=<SliceBackward0>) \n",
            "\n",
            "Layer: linear_relu_stack.2.bias | Size: torch.Size([512]) | Values : tensor([ 0.0425, -0.0156], grad_fn=<SliceBackward0>) \n",
            "\n",
            "Layer: linear_relu_stack.4.weight | Size: torch.Size([10, 512]) | Values : tensor([[ 0.0096, -0.0052, -0.0097,  ..., -0.0276, -0.0335,  0.0230],\n",
            "        [ 0.0119,  0.0218, -0.0055,  ..., -0.0394,  0.0213, -0.0310]],\n",
            "       grad_fn=<SliceBackward0>) \n",
            "\n",
            "Layer: linear_relu_stack.4.bias | Size: torch.Size([10]) | Values : tensor([0.0411, 0.0217], grad_fn=<SliceBackward0>) \n",
            "\n"
          ]
        }
      ]
    }
  ]
}