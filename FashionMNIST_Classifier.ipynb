{
  "nbformat": 4,
  "nbformat_minor": 0,
  "metadata": {
    "colab": {
      "provenance": [],
      "mount_file_id": "18Opm689pwq1RBwlve0lAf7rrlEakuUC7",
      "authorship_tag": "ABX9TyMp5TUTllCoBDAknTftXK9O",
      "include_colab_link": true
    },
    "kernelspec": {
      "name": "python3",
      "display_name": "Python 3"
    },
    "language_info": {
      "name": "python"
    }
  },
  "cells": [
    {
      "cell_type": "markdown",
      "metadata": {
        "id": "view-in-github",
        "colab_type": "text"
      },
      "source": [
        "<a href=\"https://colab.research.google.com/github/rsaran-BioAI/AGILE/blob/main/FashionMNIST_Classifier.ipynb\" target=\"_parent\"><img src=\"https://colab.research.google.com/assets/colab-badge.svg\" alt=\"Open In Colab\"/></a>"
      ]
    },
    {
      "cell_type": "code",
      "source": [
        "from google.colab import drive\n",
        "drive.mount('/content/drive')"
      ],
      "metadata": {
        "colab": {
          "base_uri": "https://localhost:8080/"
        },
        "id": "MoHDL7zoVLAM",
        "outputId": "e4eb6d72-aad9-4f20-ef9f-626f1d04aee5"
      },
      "execution_count": null,
      "outputs": [
        {
          "output_type": "stream",
          "name": "stdout",
          "text": [
            "Drive already mounted at /content/drive; to attempt to forcibly remount, call drive.mount(\"/content/drive\", force_remount=True).\n"
          ]
        }
      ]
    },
    {
      "cell_type": "code",
      "execution_count": null,
      "metadata": {
        "id": "hYryQ_aVRjRS"
      },
      "outputs": [],
      "source": [
        "import torch\n",
        "from torchvision import datasets, transforms\n",
        "import helper\n",
        "from torch.utils.data import Dataset\n",
        "from torchvision.transforms import ToTensor, Lambda"
      ]
    },
    {
      "cell_type": "code",
      "source": [
        "# Download and load the training data\n",
        "trainset = datasets.FashionMNIST('/content/drive/MyDrive/F_MNIST_data', download=True, train=True, transform=ToTensor())"
      ],
      "metadata": {
        "id": "_PQJmWo3UiBO"
      },
      "execution_count": null,
      "outputs": []
    },
    {
      "cell_type": "code",
      "source": [
        "# To see what the trainset looks like\n",
        "# print(trainset)"
      ],
      "metadata": {
        "colab": {
          "base_uri": "https://localhost:8080/"
        },
        "id": "CS0VqP8SYdpU",
        "outputId": "8bb12c89-a3a0-4582-a91b-df71ea12ecff"
      },
      "execution_count": null,
      "outputs": [
        {
          "output_type": "stream",
          "name": "stdout",
          "text": [
            "Dataset FashionMNIST\n",
            "    Number of datapoints: 60000\n",
            "    Root location: /content/drive/MyDrive/F_MNIST_data\n",
            "    Split: Train\n",
            "    StandardTransform\n",
            "Transform: ToTensor()\n"
          ]
        }
      ]
    },
    {
      "cell_type": "code",
      "source": [
        "# Download and load the test data\n",
        "testset = datasets.FashionMNIST('/content/drive/MyDrive/F_MNIST_data/', download=True, train=False, transform=ToTensor())\n",
        "# 'transform=ToTensor()' converts each image into a tensor\n",
        "# We could also write this line as: testset = datasets.FashionMNIST('/content/drive/MyDrive/F_MNIST_data/', download=True, train=False, transform=ToTensor(), target_transform=Lambda(lambda y: torch.zeros(10, dtype=torch.float).scatter_(0, torch.tensor(y), value=1)))\n",
        "# Here, the 'target_transform = Lambda(lambda y: torch.zeros(10, dtype=torch.float).scatter_(0, torch.tensor(y), value=1))' converts the labels into a one-hot encoded tensor.\n",
        "# But upon doing this, the image will not get visualized so we will do that later."
      ],
      "metadata": {
        "id": "FQ1iv_u6WuJW"
      },
      "execution_count": null,
      "outputs": []
    },
    {
      "cell_type": "code",
      "source": [
        "# To see what the testset looks like\n",
        "print(testset)"
      ],
      "metadata": {
        "colab": {
          "base_uri": "https://localhost:8080/"
        },
        "id": "Zzd7SnMMYTR1",
        "outputId": "43568c25-c17f-44dc-df85-eaa905921fe5"
      },
      "execution_count": null,
      "outputs": [
        {
          "output_type": "stream",
          "name": "stdout",
          "text": [
            "Dataset FashionMNIST\n",
            "    Number of datapoints: 10000\n",
            "    Root location: /content/drive/MyDrive/F_MNIST_data/\n",
            "    Split: Test\n",
            "    StandardTransform\n",
            "Transform: ToTensor()\n"
          ]
        }
      ]
    },
    {
      "cell_type": "code",
      "source": [
        "import matplotlib.pyplot as plt\n",
        "# 'transform=ToTensor()' converts each image into a tensor\n",
        "# We could also write this line as: testset = datasets.FashionMNIST('/content/drive/MyDrive/F_MNIST_data/', download=True, train=False, transform=ToTensor(), target_transform=Lambda(lambda y: torch.zeros(10, dtype=torch.float).scatter_(0, torch.tensor(y), value=1)))\n",
        "# Here, the 'target_transform = Lambda(lambda y: torch.zeros(10, dtype=torch.float).scatter_(0, torch.tensor(y), value=1))' converts the labels into a one-hot encoded tensor.\n",
        "# But upon doing this, the image will not get visualized so we will do that later."
      ],
      "metadata": {
        "id": "YyEqqFpcYEND"
      },
      "execution_count": null,
      "outputs": []
    },
    {
      "cell_type": "code",
      "source": [
        "labels_map = {\n",
        "    0: \"T-Shirt\",\n",
        "    1: \"Trouser\",\n",
        "    2: \"Pullover\",\n",
        "    3: \"Dress\",\n",
        "    4: \"Coat\",\n",
        "    5: \"Sandal\",\n",
        "    6: \"Shirt\",\n",
        "    7: \"Sneaker\",\n",
        "    8: \"Bag\",\n",
        "    9: \"Ankle Boot\",\n",
        "}\n",
        "figure = plt.figure(figsize=(8, 8))\n",
        "cols, rows = 3, 3\n",
        "for i in range(1, cols * rows + 1):\n",
        "    sample_idx = torch.randint(len(trainset), size=(1,)).item()\n",
        "    img, label = trainset[sample_idx]\n",
        "    figure.add_subplot(rows, cols, i)\n",
        "    plt.title(labels_map[label])\n",
        "    plt.axis(\"off\")\n",
        "    plt.imshow(img.squeeze(), cmap=\"gray\")\n",
        "plt.show()"
      ],
      "metadata": {
        "colab": {
          "base_uri": "https://localhost:8080/",
          "height": 675
        },
        "id": "iOXq6ukiXMAs",
        "outputId": "9bff7343-5a41-466e-cc52-a681dc498c25"
      },
      "execution_count": null,
      "outputs": [
        {
          "output_type": "display_data",
          "data": {
            "text/plain": [
              "<Figure size 800x800 with 9 Axes>"
            ],
            "image/png": "[encoded data removed]"
          },
          "metadata": {}
        }
      ]
    },
    {
      "cell_type": "code",
      "source": [
        "# Transforming the labels into a one-hot encoded tensor\n",
        "# trainset.target_transform=Lambda(lambda y: torch.zeros(10, dtype=torch.float).scatter_(0, torch.tensor(y), value=1))\n",
        "# testset.target_transform=Lambda(lambda y: torch.zeros(10, dtype=torch.float).scatter_(0, torch.tensor(y), value=1))"
      ],
      "metadata": {
        "id": "hA21i6sNyuk5"
      },
      "execution_count": null,
      "outputs": []
    },
    {
      "cell_type": "markdown",
      "source": [
        "## Preparing your data for training with DataLoaders"
      ],
      "metadata": {
        "id": "tO-tWk9wehrk"
      }
    },
    {
      "cell_type": "code",
      "source": [
        "# The Dataset retrieves our dataset’s features and labels one sample at a time. While training a model, we typically want to pass samples in “minibatches”...\n",
        "# ...reshuffle the data at every epoch to reduce model overfitting, and use Python’s multiprocessing to speed up data retrieval.\n",
        "\n",
        "# DataLoader is an iterable that abstracts this complexity for us in an easy API.\n",
        "\n",
        "from torch.utils.data import DataLoader\n",
        "\n",
        "train_dataloader = DataLoader(trainset, batch_size=64, shuffle=True)\n",
        "test_dataloader = DataLoader(testset, batch_size=64, shuffle=True)\n",
        "\n",
        "# If we did not import Dataloader seperately we can write:\n",
        "# train_dataloader = torch.utils.data.DataLoader(trainset, batch_size=64, shuffle=True)\n",
        "# test_dataloader = torch.utils.data.DataLoader(testset, batch_size=64, shuffle=True)"
      ],
      "metadata": {
        "id": "oNh-3MXldPYm"
      },
      "execution_count": null,
      "outputs": []
    },
    {
      "cell_type": "code",
      "source": [
        "# Checking what 'train_dataLoader' looks like\n",
        "train_dataloader"
      ],
      "metadata": {
        "colab": {
          "base_uri": "https://localhost:8080/"
        },
        "id": "JcmAvH-flkk0",
        "outputId": "195eb860-6b26-4b79-d7d6-cdc515024b41"
      },
      "execution_count": null,
      "outputs": [
        {
          "output_type": "execute_result",
          "data": {
            "text/plain": [
              "<torch.utils.data.dataloader.DataLoader at 0x7c541e8d1630>"
            ]
          },
          "metadata": {},
          "execution_count": 92
        }
      ]
    },
    {
      "cell_type": "code",
      "source": [
        "# Checking what 'test_dataloader' looks like\n",
        "test_dataloader"
      ],
      "metadata": {
        "colab": {
          "base_uri": "https://localhost:8080/"
        },
        "id": "6dFilFVvjnP0",
        "outputId": "1788203e-9fa5-4e61-f672-c830acc06774"
      },
      "execution_count": null,
      "outputs": [
        {
          "output_type": "execute_result",
          "data": {
            "text/plain": [
              "<torch.utils.data.dataloader.DataLoader at 0x7c541e8d3ca0>"
            ]
          },
          "metadata": {},
          "execution_count": 93
        }
      ]
    },
    {
      "cell_type": "markdown",
      "source": [
        "## Iterate through the DataLoader"
      ],
      "metadata": {
        "id": "wC0D9rKUnP_A"
      }
    },
    {
      "cell_type": "code",
      "source": [
        "for X, y in test_dataloader:\n",
        "    print(f\"Shape of X [N, C, H, W]: {X.shape}\")\n",
        "    print(f\"Shape of y: {y.shape} {y.dtype}\")\n",
        "    break"
      ],
      "metadata": {
        "colab": {
          "base_uri": "https://localhost:8080/"
        },
        "id": "H6xqpeVTibYA",
        "outputId": "73c63d42-2cbf-4cd6-a4eb-754b1d8fb05a"
      },
      "execution_count": null,
      "outputs": [
        {
          "output_type": "stream",
          "name": "stdout",
          "text": [
            "Shape of X [N, C, H, W]: torch.Size([64, 1, 28, 28])\n",
            "Shape of y: torch.Size([64]) torch.int64\n"
          ]
        }
      ]
    },
    {
      "cell_type": "code",
      "source": [
        "# We have loaded that dataset into the DataLoader and can iterate through the dataset as needed.\n",
        "# Each iteration below returns a batch of train_features and train_labels (containing batch_size=64 features and labels respectively).\n",
        "#Because we specified shuffle=True, after we iterate over all batches the data is shuffled (for finer-grained control over the data loading order, take a look at Samplers).\n",
        "\n",
        "train_features, train_labels = next(iter(train_dataloader)) # This means that 'DataLoader' function returns two values: train_features and train_labels\n",
        "print(train_features)\n",
        "print(train_labels)\n",
        "print(f\"Feature batch shape: {train_features.size()}\")\n",
        "print(f\"Labels batch shape: {train_labels.size()}\")\n",
        "img = train_features[0].squeeze()\n",
        "label = train_labels[0]\n",
        "plt.imshow(img, cmap=\"gray\")\n",
        "plt.show()\n",
        "print(f\"Label: {label}\")"
      ],
      "metadata": {
        "colab": {
          "base_uri": "https://localhost:8080/",
          "height": 1000
        },
        "id": "ehGICa5sibd6",
        "outputId": "2b2d4678-2c46-431a-d52f-3029d274ddf6"
      },
      "execution_count": null,
      "outputs": [
        {
          "output_type": "stream",
          "name": "stdout",
          "text": [
            "tensor([[[[0.0000, 0.0000, 0.0000,  ..., 0.0000, 0.0000, 0.0000],\n",
            "          [0.0000, 0.0000, 0.0000,  ..., 0.0000, 0.0000, 0.0000],\n",
            "          [0.0000, 0.0000, 0.0000,  ..., 0.0000, 0.0000, 0.0000],\n",
            "          ...,\n",
            "          [0.0000, 0.0000, 0.0000,  ..., 0.0000, 0.0000, 0.0000],\n",
            "          [0.0000, 0.0000, 0.0000,  ..., 0.0000, 0.0000, 0.0000],\n",
            "          [0.0000, 0.0000, 0.0000,  ..., 0.0000, 0.0000, 0.0000]]],\n",
            "\n",
            "\n",
            "        [[[0.0000, 0.0000, 0.0000,  ..., 0.0000, 0.0000, 0.0000],\n",
            "          [0.0000, 0.0000, 0.0000,  ..., 0.0000, 0.0000, 0.0000],\n",
            "          [0.0000, 0.0000, 0.0000,  ..., 0.0000, 0.0000, 0.0000],\n",
            "          ...,\n",
            "          [0.0000, 0.0000, 0.0000,  ..., 0.0000, 0.0000, 0.0000],\n",
            "          [0.0000, 0.0000, 0.0000,  ..., 0.0000, 0.0000, 0.0000],\n",
            "          [0.0000, 0.0000, 0.0000,  ..., 0.0000, 0.0000, 0.0000]]],\n",
            "\n",
            "\n",
            "        [[[0.0000, 0.0000, 0.0000,  ..., 0.0000, 0.0000, 0.0000],\n",
            "          [0.0000, 0.0000, 0.0000,  ..., 0.0000, 0.0000, 0.0000],\n",
            "          [0.0000, 0.0000, 0.0000,  ..., 0.0000, 0.0000, 0.0000],\n",
            "          ...,\n",
            "          [0.0000, 0.0000, 0.0000,  ..., 0.0000, 0.0000, 0.0000],\n",
            "          [0.0000, 0.0000, 0.0000,  ..., 0.0000, 0.0000, 0.0000],\n",
            "          [0.0000, 0.0000, 0.0000,  ..., 0.0000, 0.0000, 0.0000]]],\n",
            "\n",
            "\n",
            "        ...,\n",
            "\n",
            "\n",
            "        [[[0.0000, 0.0000, 0.0000,  ..., 0.0000, 0.0000, 0.0000],\n",
            "          [0.0000, 0.0000, 0.0000,  ..., 0.0000, 0.0000, 0.0000],\n",
            "          [0.0000, 0.0000, 0.0000,  ..., 0.0000, 0.0000, 0.0000],\n",
            "          ...,\n",
            "          [0.0000, 0.0000, 0.0000,  ..., 0.0000, 0.0000, 0.0000],\n",
            "          [0.0000, 0.0000, 0.0000,  ..., 0.0000, 0.0000, 0.0000],\n",
            "          [0.0000, 0.0000, 0.0000,  ..., 0.0000, 0.0000, 0.0000]]],\n",
            "\n",
            "\n",
            "        [[[0.0000, 0.0000, 0.0000,  ..., 0.0000, 0.0000, 0.0000],\n",
            "          [0.0000, 0.0000, 0.0000,  ..., 0.0000, 0.0000, 0.0000],\n",
            "          [0.0000, 0.0000, 0.0000,  ..., 0.0000, 0.0000, 0.0000],\n",
            "          ...,\n",
            "          [0.0000, 0.0000, 0.0000,  ..., 0.0000, 0.0000, 0.0000],\n",
            "          [0.0000, 0.0000, 0.0000,  ..., 0.0000, 0.0000, 0.0000],\n",
            "          [0.0000, 0.0000, 0.0000,  ..., 0.0000, 0.0000, 0.0000]]],\n",
            "\n",
            "\n",
            "        [[[0.0000, 0.0000, 0.0000,  ..., 0.0000, 0.0000, 0.0000],\n",
            "          [0.0000, 0.0000, 0.0000,  ..., 0.0078, 0.0000, 0.0000],\n",
            "          [0.0000, 0.0000, 0.0000,  ..., 0.0000, 0.0039, 0.0000],\n",
            "          ...,\n",
            "          [0.0157, 0.0000, 0.0039,  ..., 0.0314, 0.0000, 0.0000],\n",
            "          [0.0000, 0.0000, 0.0078,  ..., 0.0000, 0.0275, 0.0000],\n",
            "          [0.0000, 0.0000, 0.0000,  ..., 0.0000, 0.0000, 0.0000]]]])\n",
            "tensor([2, 7, 3, 9, 6, 8, 3, 7, 2, 3, 1, 2, 5, 3, 7, 8, 4, 7, 0, 3, 1, 6, 9, 9,\n",
            "        9, 0, 7, 5, 1, 8, 4, 3, 3, 2, 6, 3, 5, 4, 8, 4, 6, 2, 6, 8, 3, 0, 3, 3,\n",
            "        9, 1, 9, 4, 6, 9, 5, 0, 6, 5, 1, 1, 9, 4, 4, 8])\n",
            "Feature batch shape: torch.Size([64, 1, 28, 28])\n",
            "Labels batch shape: torch.Size([64])\n"
          ]
        },
        {
          "output_type": "display_data",
          "data": {
            "text/plain": [
              "<Figure size 640x480 with 1 Axes>"
            ],
            "image/png": "[encoded data removed]"
          },
          "metadata": {}
        },
        {
          "output_type": "stream",
          "name": "stdout",
          "text": [
            "Label: 2\n"
          ]
        }
      ]
    },
    {
      "cell_type": "code",
      "source": [
        "test_features, test_labels = next(iter(test_dataloader)) # This means that 'DataLoader' function returns two values: 'train_features' and 'train_labels'\n",
        "print(test_features)\n",
        "print(test_labels)\n",
        "print(f\"Feature batch shape: {test_features.size()}\")\n",
        "print(f\"Labels batch shape: {test_labels.size()}\")\n",
        "img = test_features[0].squeeze()\n",
        "label = test_labels[0]\n",
        "plt.imshow(img, cmap=\"gray\")\n",
        "plt.show()\n",
        "print(f\"Label: {label}\")"
      ],
      "metadata": {
        "colab": {
          "base_uri": "https://localhost:8080/",
          "height": 1000
        },
        "id": "2L_vWU9hJMkR",
        "outputId": "93f58d6e-c897-4869-b545-9b59bf441ebf"
      },
      "execution_count": null,
      "outputs": [
        {
          "output_type": "stream",
          "name": "stdout",
          "text": [
            "tensor([[[[0., 0., 0.,  ..., 0., 0., 0.],\n",
            "          [0., 0., 0.,  ..., 0., 0., 0.],\n",
            "          [0., 0., 0.,  ..., 0., 0., 0.],\n",
            "          ...,\n",
            "          [0., 0., 0.,  ..., 0., 0., 0.],\n",
            "          [0., 0., 0.,  ..., 0., 0., 0.],\n",
            "          [0., 0., 0.,  ..., 0., 0., 0.]]],\n",
            "\n",
            "\n",
            "        [[[0., 0., 0.,  ..., 0., 0., 0.],\n",
            "          [0., 0., 0.,  ..., 0., 0., 0.],\n",
            "          [0., 0., 0.,  ..., 0., 0., 0.],\n",
            "          ...,\n",
            "          [0., 0., 0.,  ..., 0., 0., 0.],\n",
            "          [0., 0., 0.,  ..., 0., 0., 0.],\n",
            "          [0., 0., 0.,  ..., 0., 0., 0.]]],\n",
            "\n",
            "\n",
            "        [[[0., 0., 0.,  ..., 0., 0., 0.],\n",
            "          [0., 0., 0.,  ..., 0., 0., 0.],\n",
            "          [0., 0., 0.,  ..., 0., 0., 0.],\n",
            "          ...,\n",
            "          [0., 0., 0.,  ..., 0., 0., 0.],\n",
            "          [0., 0., 0.,  ..., 0., 0., 0.],\n",
            "          [0., 0., 0.,  ..., 0., 0., 0.]]],\n",
            "\n",
            "\n",
            "        ...,\n",
            "\n",
            "\n",
            "        [[[0., 0., 0.,  ..., 0., 0., 0.],\n",
            "          [0., 0., 0.,  ..., 0., 0., 0.],\n",
            "          [0., 0., 0.,  ..., 0., 0., 0.],\n",
            "          ...,\n",
            "          [0., 0., 0.,  ..., 0., 0., 0.],\n",
            "          [0., 0., 0.,  ..., 0., 0., 0.],\n",
            "          [0., 0., 0.,  ..., 0., 0., 0.]]],\n",
            "\n",
            "\n",
            "        [[[0., 0., 0.,  ..., 0., 0., 0.],\n",
            "          [0., 0., 0.,  ..., 0., 0., 0.],\n",
            "          [0., 0., 0.,  ..., 0., 0., 0.],\n",
            "          ...,\n",
            "          [0., 0., 0.,  ..., 0., 0., 0.],\n",
            "          [0., 0., 0.,  ..., 0., 0., 0.],\n",
            "          [0., 0., 0.,  ..., 0., 0., 0.]]],\n",
            "\n",
            "\n",
            "        [[[0., 0., 0.,  ..., 0., 0., 0.],\n",
            "          [0., 0., 0.,  ..., 0., 0., 0.],\n",
            "          [0., 0., 0.,  ..., 0., 0., 0.],\n",
            "          ...,\n",
            "          [0., 0., 0.,  ..., 0., 0., 0.],\n",
            "          [0., 0., 0.,  ..., 0., 0., 0.],\n",
            "          [0., 0., 0.,  ..., 0., 0., 0.]]]])\n",
            "tensor([9, 0, 2, 3, 1, 9, 1, 2, 4, 6, 6, 3, 5, 6, 9, 9, 5, 2, 6, 5, 9, 6, 2, 7,\n",
            "        7, 8, 2, 4, 1, 2, 5, 2, 6, 2, 7, 2, 2, 9, 5, 4, 4, 6, 3, 7, 0, 9, 4, 7,\n",
            "        8, 2, 0, 8, 8, 5, 0, 6, 2, 5, 4, 2, 6, 4, 8, 6])\n",
            "Feature batch shape: torch.Size([64, 1, 28, 28])\n",
            "Labels batch shape: torch.Size([64])\n"
          ]
        },
        {
          "output_type": "display_data",
          "data": {
            "text/plain": [
              "<Figure size 640x480 with 1 Axes>"
            ],
            "image/png": "[encoded data removed]"
          },
          "metadata": {}
        },
        {
          "output_type": "stream",
          "name": "stdout",
          "text": [
            "Label: 9\n"
          ]
        }
      ]
    },
    {
      "cell_type": "markdown",
      "source": [
        "## Creating a Custom Dataset for your files"
      ],
      "metadata": {
        "id": "A6JSGdmbaHE7"
      }
    },
    {
      "cell_type": "code",
      "source": [
        "import os\n",
        "import pandas as pd\n",
        "from torchvision.io import read_image"
      ],
      "metadata": {
        "id": "yERSZmjhaKQz"
      },
      "execution_count": null,
      "outputs": []
    },
    {
      "cell_type": "code",
      "source": [
        "# We did not need to do this as we dont need our data in csv\n",
        "\n",
        "#class CustomImageDataset(Dataset):\n",
        "    # The __init__ function is run once when instantiating the Dataset object. We initialize the directory containing the images, the annotations file, and both transforms\n",
        "#    def __init__(self, annotations_file, img_dir, transform=None, target_transform=None):\n",
        "#        self.img_labels = pd.read_csv(annotations_file)\n",
        "#        self.img_dir = img_dir\n",
        "#        self.transform = transform\n",
        "#        self.target_transform = target_transform\n",
        "\n",
        "    # The __len__ function returns the number of samples in our dataset.\n",
        "#    def __len__(self):\n",
        "#        return len(self.img_labels)\n",
        "\n",
        "    # The __getitem__ function loads and returns a sample from the dataset at the given index idx.\n",
        "    #Based on the index, it identifies the image’s location on disk, converts that to a tensor using read_image...\n",
        "    # ...retrieves the corresponding label from the csv data in self.img_labels, calls the transform functions on them (if applicable)...\n",
        "    # ...and returns the tensor image and corresponding label in a tuple.\n",
        "#    def __getitem__(self, idx):\n",
        "#        img_path = os.path.join(self.img_dir, self.img_labels.iloc[idx, 0])\n",
        "#        image = read_image(img_path)\n",
        "#        label = self.img_labels.iloc[idx, 1]\n",
        "#        if self.transform:\n",
        "#            image = self.transform(image)\n",
        "#        if self.target_transform:\n",
        "#            label = self.target_transform(label)\n",
        "#        return image, label"
      ],
      "metadata": {
        "id": "Wpqjk-iBaNeL"
      },
      "execution_count": null,
      "outputs": []
    },
    {
      "cell_type": "markdown",
      "source": [
        "## Get Device for training"
      ],
      "metadata": {
        "id": "vVdORf-aK9FZ"
      }
    },
    {
      "cell_type": "code",
      "source": [
        "# We want to be able to train our model on a hardware accelerator like the GPU or MPS, if available.\n",
        "# Let’s check to see if torch.cuda or torch.backends.mps are available, otherwise we use the CPU.\n",
        "\n",
        "device = (\n",
        "    \"cuda\"\n",
        "    if torch.cuda.is_available()\n",
        "    else \"mps\"\n",
        "    if torch.backends.mps.is_available()\n",
        "    else \"cpu\"\n",
        ")\n",
        "print(f\"Using {device} device\")"
      ],
      "metadata": {
        "colab": {
          "base_uri": "https://localhost:8080/"
        },
        "id": "vDdMpUBRLLUo",
        "outputId": "e06b39ef-5939-443f-e024-6653f5915bb3"
      },
      "execution_count": null,
      "outputs": [
        {
          "output_type": "stream",
          "name": "stdout",
          "text": [
            "Using cpu device\n"
          ]
        }
      ]
    },
    {
      "cell_type": "markdown",
      "source": [
        "## Building the Neural Network"
      ],
      "metadata": {
        "id": "F_qggDyR28bo"
      }
    },
    {
      "cell_type": "code",
      "source": [
        "# import os # Imported before\n",
        "# import torch # Imported before\n",
        "from torch import nn\n",
        "# from torch.utils.data import DataLoader # Imported before\n",
        "# from torchvision import datasets, transforms # Imported before"
      ],
      "metadata": {
        "id": "4k-zK0NQ3A8_"
      },
      "execution_count": null,
      "outputs": []
    },
    {
      "cell_type": "code",
      "source": [
        "# We define our neural network by subclassing nn.Module, and initialize the neural network layers in __init__.\n",
        "# Every nn.Module subclass implements the operations on input data in the forward method.\n",
        "\n",
        "class NeuralNetwork(nn.Module): # Defining a new class NeuralNetwork that inherits from PyTorch's nn.Module. This inheritance is necessary for any custom neural network model in PyTorch.\n",
        "\n",
        "    def __init__(self): # The initialization method sets up the layers of the neural network.\n",
        "        super().__init__() # The super().__init__() call is ensuring that the initialization from the parent nn.Module class is also executed.\n",
        "        self.flatten = nn.Flatten() # This layer will flatten its input. For image data, it converts a 2D image into a 1D tensor.\n",
        "        self.linear_relu_stack = nn.Sequential( # This defines a sequential stack of layers, including three linear (fully connected) layers separated by ReLU activations.\n",
        "                                                # The last linear layer has 10 output units, corresponding to 10 classes for classification.\n",
        "            nn.Linear(28*28, 512),\n",
        "            nn.ReLU(),\n",
        "            nn.Linear(512, 512),\n",
        "            nn.ReLU(),\n",
        "            nn.Linear(512, 10),\n",
        "        )\n",
        "    # ReLU, which stands for Rectified Linear Unit, is a type of activation function that is widely used in deep neural networks and deep learning models.\n",
        "    # The function itself is quite simple and is defined as: f(x)=max(0,x)\n",
        "    # This means that if the input x is positive, it returns x, and if the input x is negative (or zero), it returns 0.\n",
        "    # Graphically, the function looks like a ramp: it's flat at and below zero, and then increases linearly above zero.\n",
        "\n",
        "    def forward(self, x): # This method defines the forward pass of the neural network.\n",
        "                          # When you call the network on some input x, this method will be executed.\n",
        "                          # It first flattens the input, then passes it through the stack of linear and ReLU layers, and finally returns the output 'nn_output'.\n",
        "        x = self.flatten(x)\n",
        "        nn_output = self.linear_relu_stack(x)\n",
        "        return nn_output"
      ],
      "metadata": {
        "id": "CPzegOhnLPsZ"
      },
      "execution_count": null,
      "outputs": []
    },
    {
      "cell_type": "code",
      "source": [
        "# We create an instance of NeuralNetwork, and move it to the device, and print its structure.\n",
        "model = NeuralNetwork()\n",
        "print(model)"
      ],
      "metadata": {
        "colab": {
          "base_uri": "https://localhost:8080/"
        },
        "id": "X2gUU1WqLTmI",
        "outputId": "66afd76d-c5bb-4989-bce6-4b340e9df57d"
      },
      "execution_count": null,
      "outputs": [
        {
          "output_type": "stream",
          "name": "stdout",
          "text": [
            "NeuralNetwork(\n",
            "  (flatten): Flatten(start_dim=1, end_dim=-1)\n",
            "  (linear_relu_stack): Sequential(\n",
            "    (0): Linear(in_features=784, out_features=512, bias=True)\n",
            "    (1): ReLU()\n",
            "    (2): Linear(in_features=512, out_features=512, bias=True)\n",
            "    (3): ReLU()\n",
            "    (4): Linear(in_features=512, out_features=10, bias=True)\n",
            "  )\n",
            ")\n"
          ]
        }
      ]
    },
    {
      "cell_type": "markdown",
      "source": [
        "## Hyperparameters"
      ],
      "metadata": {
        "id": "UWOIc1dktVoA"
      }
    },
    {
      "cell_type": "code",
      "source": [
        "# We define the following hyperparameters for training:\n",
        "# Number of Epochs - the number times to iterate over the dataset\n",
        "# Batch Size - the number of data samples propagated through the network before the parameters are updated\n",
        "# Learning Rate - how much to update models parameters at each batch/epoch.\n",
        "# Smaller values yield slow learning speed, while large values may result in unpredictable behavior during training.\n",
        "\n",
        "learning_rate = 1e-3\n",
        "batch_size = 64\n",
        "epochs = 5"
      ],
      "metadata": {
        "id": "kvyHmcfqtXqm"
      },
      "execution_count": null,
      "outputs": []
    },
    {
      "cell_type": "code",
      "source": [
        "loss_fn = nn.CrossEntropyLoss()"
      ],
      "metadata": {
        "id": "1KoRygPGN55R"
      },
      "execution_count": null,
      "outputs": []
    },
    {
      "cell_type": "markdown",
      "source": [
        "## Full Implementation"
      ],
      "metadata": {
        "id": "lJDncexqtkb-"
      }
    },
    {
      "cell_type": "code",
      "source": [
        "# We define train_loop that loops over our optimization code\n",
        "\n",
        "def train_loop(dataloader, model, loss_fn, optimizer):\n",
        "    size = len(dataloader.dataset)\n",
        "    # Set the model to training mode - important for batch normalization and dropout layers\n",
        "    # Unnecessary in this situation but added for best practices\n",
        "    model.train()\n",
        "    for batch, (X, y) in enumerate(dataloader):\n",
        "        # Compute prediction and loss\n",
        "        pred = model(X)\n",
        "        loss = loss_fn(pred, y)\n",
        "\n",
        "        # Backpropagation\n",
        "        loss.backward()\n",
        "        optimizer.step()\n",
        "        optimizer.zero_grad()\n",
        "\n",
        "        if batch % 100 == 0:\n",
        "            loss, current = loss.item(), (batch + 1) * len(X)\n",
        "            print(f\"loss: {loss:>7f}  [{current:>5d}/{size:>5d}]\")"
      ],
      "metadata": {
        "id": "Si5TFUIpSj8j"
      },
      "execution_count": null,
      "outputs": []
    },
    {
      "cell_type": "code",
      "source": [
        "# We initialize the loss function and optimizer, and pass it to train_loop and test_loop.\n",
        "# Feel free to increase the number of epochs to track the model’s improving performance.\n",
        "\n",
        "loss_fn = nn.CrossEntropyLoss()\n",
        "optimizer = torch.optim.SGD(model.parameters(), lr=learning_rate)\n",
        "\n",
        "epochs = 10\n",
        "for t in range(epochs):\n",
        "    print(f\"Epoch {t+1}\\n-------------------------------\")\n",
        "    train_loop(train_dataloader, model, loss_fn, optimizer)\n",
        "print(\"Done!\")"
      ],
      "metadata": {
        "colab": {
          "base_uri": "https://localhost:8080/"
        },
        "id": "5lkTaArs_UVK",
        "outputId": "4fbf20b2-a5aa-4368-a63d-51f19983210f"
      },
      "execution_count": null,
      "outputs": [
        {
          "output_type": "stream",
          "name": "stdout",
          "text": [
            "Epoch 1\n",
            "-------------------------------\n",
            "loss: 2.292711  [   64/60000]\n",
            "loss: 2.277242  [ 6464/60000]\n",
            "loss: 2.265260  [12864/60000]\n",
            "loss: 2.250077  [19264/60000]\n",
            "loss: 2.228553  [25664/60000]\n",
            "loss: 2.200385  [32064/60000]\n",
            "loss: 2.191826  [38464/60000]\n",
            "loss: 2.178619  [44864/60000]\n",
            "loss: 2.159547  [51264/60000]\n",
            "loss: 2.158776  [57664/60000]\n",
            "Epoch 2\n",
            "-------------------------------\n",
            "loss: 2.105284  [   64/60000]\n",
            "loss: 2.060471  [ 6464/60000]\n",
            "loss: 2.081395  [12864/60000]\n",
            "loss: 2.031278  [19264/60000]\n",
            "loss: 1.983804  [25664/60000]\n",
            "loss: 1.958344  [32064/60000]\n",
            "loss: 1.954006  [38464/60000]\n",
            "loss: 1.930899  [44864/60000]\n",
            "loss: 1.884831  [51264/60000]\n",
            "loss: 1.793695  [57664/60000]\n",
            "Epoch 3\n",
            "-------------------------------\n",
            "loss: 1.748908  [   64/60000]\n",
            "loss: 1.798825  [ 6464/60000]\n",
            "loss: 1.694072  [12864/60000]\n",
            "loss: 1.732191  [19264/60000]\n",
            "loss: 1.724791  [25664/60000]\n",
            "loss: 1.530892  [32064/60000]\n",
            "loss: 1.543036  [38464/60000]\n",
            "loss: 1.567201  [44864/60000]\n",
            "loss: 1.566395  [51264/60000]\n",
            "loss: 1.418497  [57664/60000]\n",
            "Epoch 4\n",
            "-------------------------------\n",
            "loss: 1.478381  [   64/60000]\n",
            "loss: 1.369861  [ 6464/60000]\n",
            "loss: 1.507025  [12864/60000]\n",
            "loss: 1.227599  [19264/60000]\n",
            "loss: 1.449133  [25664/60000]\n",
            "loss: 1.402445  [32064/60000]\n",
            "loss: 1.306425  [38464/60000]\n",
            "loss: 1.333654  [44864/60000]\n",
            "loss: 1.269138  [51264/60000]\n",
            "loss: 1.235612  [57664/60000]\n",
            "Epoch 5\n",
            "-------------------------------\n",
            "loss: 1.254573  [   64/60000]\n",
            "loss: 1.314257  [ 6464/60000]\n",
            "loss: 1.231436  [12864/60000]\n",
            "loss: 1.203493  [19264/60000]\n",
            "loss: 1.230836  [25664/60000]\n",
            "loss: 1.145011  [32064/60000]\n",
            "loss: 1.143196  [38464/60000]\n",
            "loss: 1.148082  [44864/60000]\n",
            "loss: 1.058107  [51264/60000]\n",
            "loss: 1.218333  [57664/60000]\n",
            "Epoch 6\n",
            "-------------------------------\n",
            "loss: 1.131621  [   64/60000]\n",
            "loss: 1.038129  [ 6464/60000]\n",
            "loss: 1.042527  [12864/60000]\n",
            "loss: 0.887294  [19264/60000]\n",
            "loss: 1.014312  [25664/60000]\n",
            "loss: 1.200743  [32064/60000]\n",
            "loss: 0.974205  [38464/60000]\n",
            "loss: 1.005846  [44864/60000]\n",
            "loss: 1.136497  [51264/60000]\n",
            "loss: 0.949996  [57664/60000]\n",
            "Epoch 7\n",
            "-------------------------------\n",
            "loss: 0.926297  [   64/60000]\n",
            "loss: 1.005638  [ 6464/60000]\n",
            "loss: 0.989779  [12864/60000]\n",
            "loss: 0.872639  [19264/60000]\n",
            "loss: 1.002626  [25664/60000]\n",
            "loss: 0.936006  [32064/60000]\n",
            "loss: 0.787233  [38464/60000]\n",
            "loss: 1.175954  [44864/60000]\n",
            "loss: 0.894779  [51264/60000]\n",
            "loss: 0.902180  [57664/60000]\n",
            "Epoch 8\n",
            "-------------------------------\n",
            "loss: 0.873639  [   64/60000]\n",
            "loss: 0.794110  [ 6464/60000]\n",
            "loss: 0.821308  [12864/60000]\n",
            "loss: 0.827089  [19264/60000]\n",
            "loss: 0.864217  [25664/60000]\n",
            "loss: 0.978324  [32064/60000]\n",
            "loss: 0.861977  [38464/60000]\n",
            "loss: 0.879276  [44864/60000]\n",
            "loss: 0.780146  [51264/60000]\n",
            "loss: 0.911973  [57664/60000]\n",
            "Epoch 9\n",
            "-------------------------------\n",
            "loss: 0.699550  [   64/60000]\n",
            "loss: 0.769595  [ 6464/60000]\n",
            "loss: 0.741697  [12864/60000]\n",
            "loss: 0.885230  [19264/60000]\n",
            "loss: 0.729699  [25664/60000]\n",
            "loss: 0.713679  [32064/60000]\n",
            "loss: 0.886367  [38464/60000]\n",
            "loss: 0.894766  [44864/60000]\n",
            "loss: 0.768678  [51264/60000]\n",
            "loss: 0.728869  [57664/60000]\n",
            "Epoch 10\n",
            "-------------------------------\n",
            "loss: 0.772065  [   64/60000]\n",
            "loss: 0.717095  [ 6464/60000]\n",
            "loss: 0.705416  [12864/60000]\n",
            "loss: 0.872431  [19264/60000]\n",
            "loss: 0.695226  [25664/60000]\n",
            "loss: 0.655466  [32064/60000]\n",
            "loss: 0.739522  [38464/60000]\n",
            "loss: 0.784618  [44864/60000]\n",
            "loss: 0.658588  [51264/60000]\n",
            "loss: 0.628610  [57664/60000]\n",
            "Done!\n"
          ]
        }
      ]
    },
    {
      "cell_type": "code",
      "source": [
        "# We define test_loop that evaluates the model’s performance against our test data\n",
        "\n",
        "def test_loop(dataloader, model, loss_fn):\n",
        "    # Set the model to evaluation mode - important for batch normalization and dropout layers\n",
        "    # Unnecessary in this situation but added for best practices\n",
        "    model.eval()\n",
        "    size = len(dataloader.dataset)\n",
        "    num_batches = len(dataloader)\n",
        "    test_loss, correct = 0, 0\n",
        "\n",
        "    # Evaluating the model with torch.no_grad() ensures that no gradients are computed during test mode\n",
        "    # also serves to reduce unnecessary gradient computations and memory usage for tensors with requires_grad=True\n",
        "    with torch.no_grad():\n",
        "        for X, y in dataloader:\n",
        "            pred = model(X)\n",
        "            test_loss += loss_fn(pred, y).item()\n",
        "            correct += (pred.argmax(1) == y).type(torch.float).sum().item()\n",
        "\n",
        "    test_loss /= num_batches\n",
        "    correct /= size\n",
        "    print(f\"Test Error: \\n Accuracy: {(100*correct):>0.1f}%, Avg loss: {test_loss:>8f} \\n\")\n",
        "\n"
      ],
      "metadata": {
        "id": "twQe3udj-bYM"
      },
      "execution_count": null,
      "outputs": []
    },
    {
      "cell_type": "code",
      "source": [
        "test_loop(test_dataloader, model, loss_fn)"
      ],
      "metadata": {
        "colab": {
          "base_uri": "https://localhost:8080/"
        },
        "id": "c-Iug-zEITEv",
        "outputId": "477ed024-2683-4d97-924f-321ed323f5d6"
      },
      "execution_count": null,
      "outputs": [
        {
          "output_type": "stream",
          "name": "stdout",
          "text": [
            "Test Error: \n",
            " Accuracy: 71.1%, Avg loss: 0.780467 \n",
            "\n"
          ]
        }
      ]
    },
    {
      "cell_type": "markdown",
      "source": [
        "## Saving and Loading Model Weights"
      ],
      "metadata": {
        "id": "nN_ZsqWXPvEG"
      }
    },
    {
      "cell_type": "code",
      "source": [
        "import torchvision.models as models"
      ],
      "metadata": {
        "id": "BJ-mLh4zPuVG"
      },
      "execution_count": null,
      "outputs": []
    },
    {
      "cell_type": "code",
      "source": [
        "# PyTorch models store the learned parameters in an internal state dictionary, called state_dict. These can be persisted via the torch.save method\n",
        "\n",
        "model = models.vgg16(weights='IMAGENET1K_V1')\n",
        "torch.save(model.state_dict(), 'model_weights.pth')"
      ],
      "metadata": {
        "colab": {
          "base_uri": "https://localhost:8080/"
        },
        "id": "n_DXrtdaQGin",
        "outputId": "ea55a638-1f48-42fe-864f-bde11fcc8e81"
      },
      "execution_count": null,
      "outputs": [
        {
          "output_type": "stream",
          "name": "stderr",
          "text": [
            "Downloading: \"https://download.pytorch.org/models/vgg16-397923af.pth\" to /root/.cache/torch/hub/checkpoints/vgg16-397923af.pth\n",
            "100%|██████████| 528M/528M [00:06<00:00, 83.1MB/s]\n"
          ]
        }
      ]
    },
    {
      "cell_type": "code",
      "source": [
        "# To load model weights, you need to create an instance of the same model first, and then load the parameters using load_state_dict() method.\n",
        "\n",
        "model = models.vgg16() # we do not specify ``weights``, i.e. create untrained model\n",
        "model.load_state_dict(torch.load('model_weights.pth'))\n",
        "model.eval()"
      ],
      "metadata": {
        "colab": {
          "base_uri": "https://localhost:8080/"
        },
        "id": "3543FohBQY64",
        "outputId": "3c27f7ee-2d82-49c2-91c4-4c933477c200"
      },
      "execution_count": null,
      "outputs": [
        {
          "output_type": "execute_result",
          "data": {
            "text/plain": [
              "VGG(\n",
              "  (features): Sequential(\n",
              "    (0): Conv2d(3, 64, kernel_size=(3, 3), stride=(1, 1), padding=(1, 1))\n",
              "    (1): ReLU(inplace=True)\n",
              "    (2): Conv2d(64, 64, kernel_size=(3, 3), stride=(1, 1), padding=(1, 1))\n",
              "    (3): ReLU(inplace=True)\n",
              "    (4): MaxPool2d(kernel_size=2, stride=2, padding=0, dilation=1, ceil_mode=False)\n",
              "    (5): Conv2d(64, 128, kernel_size=(3, 3), stride=(1, 1), padding=(1, 1))\n",
              "    (6): ReLU(inplace=True)\n",
              "    (7): Conv2d(128, 128, kernel_size=(3, 3), stride=(1, 1), padding=(1, 1))\n",
              "    (8): ReLU(inplace=True)\n",
              "    (9): MaxPool2d(kernel_size=2, stride=2, padding=0, dilation=1, ceil_mode=False)\n",
              "    (10): Conv2d(128, 256, kernel_size=(3, 3), stride=(1, 1), padding=(1, 1))\n",
              "    (11): ReLU(inplace=True)\n",
              "    (12): Conv2d(256, 256, kernel_size=(3, 3), stride=(1, 1), padding=(1, 1))\n",
              "    (13): ReLU(inplace=True)\n",
              "    (14): Conv2d(256, 256, kernel_size=(3, 3), stride=(1, 1), padding=(1, 1))\n",
              "    (15): ReLU(inplace=True)\n",
              "    (16): MaxPool2d(kernel_size=2, stride=2, padding=0, dilation=1, ceil_mode=False)\n",
              "    (17): Conv2d(256, 512, kernel_size=(3, 3), stride=(1, 1), padding=(1, 1))\n",
              "    (18): ReLU(inplace=True)\n",
              "    (19): Conv2d(512, 512, kernel_size=(3, 3), stride=(1, 1), padding=(1, 1))\n",
              "    (20): ReLU(inplace=True)\n",
              "    (21): Conv2d(512, 512, kernel_size=(3, 3), stride=(1, 1), padding=(1, 1))\n",
              "    (22): ReLU(inplace=True)\n",
              "    (23): MaxPool2d(kernel_size=2, stride=2, padding=0, dilation=1, ceil_mode=False)\n",
              "    (24): Conv2d(512, 512, kernel_size=(3, 3), stride=(1, 1), padding=(1, 1))\n",
              "    (25): ReLU(inplace=True)\n",
              "    (26): Conv2d(512, 512, kernel_size=(3, 3), stride=(1, 1), padding=(1, 1))\n",
              "    (27): ReLU(inplace=True)\n",
              "    (28): Conv2d(512, 512, kernel_size=(3, 3), stride=(1, 1), padding=(1, 1))\n",
              "    (29): ReLU(inplace=True)\n",
              "    (30): MaxPool2d(kernel_size=2, stride=2, padding=0, dilation=1, ceil_mode=False)\n",
              "  )\n",
              "  (avgpool): AdaptiveAvgPool2d(output_size=(7, 7))\n",
              "  (classifier): Sequential(\n",
              "    (0): Linear(in_features=25088, out_features=4096, bias=True)\n",
              "    (1): ReLU(inplace=True)\n",
              "    (2): Dropout(p=0.5, inplace=False)\n",
              "    (3): Linear(in_features=4096, out_features=4096, bias=True)\n",
              "    (4): ReLU(inplace=True)\n",
              "    (5): Dropout(p=0.5, inplace=False)\n",
              "    (6): Linear(in_features=4096, out_features=1000, bias=True)\n",
              "  )\n",
              ")"
            ]
          },
          "metadata": {},
          "execution_count": 110
        }
      ]
    },
    {
      "cell_type": "markdown",
      "source": [
        "## Saving and Loading Models with Shapes"
      ],
      "metadata": {
        "id": "LCfdw_HSRqU0"
      }
    },
    {
      "cell_type": "code",
      "source": [
        "# When loading model weights, we needed to instantiate the model class first, because the class defines the structure of a network.\n",
        "# We might want to save the structure of this class together with the model, in which case we can pass model (and not model.state_dict()) to the saving function:\n",
        "\n",
        "torch.save(model, 'model.pth')\n",
        "\n",
        "# We can then load the model like this:\n",
        "\n",
        "model = torch.load('model.pth')"
      ],
      "metadata": {
        "id": "chzvQENbRwAN"
      },
      "execution_count": null,
      "outputs": []
    }
  ]
}