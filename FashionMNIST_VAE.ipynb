{
  "nbformat": 4,
  "nbformat_minor": 0,
  "metadata": {
    "colab": {
      "provenance": [],
      "mount_file_id": "18Opm689pwq1RBwlve0lAf7rrlEakuUC7",
      "authorship_tag": "ABX9TyMCG7OpLNUiYm+SwBdR94su",
      "include_colab_link": true
    },
    "kernelspec": {
      "name": "python3",
      "display_name": "Python 3"
    },
    "language_info": {
      "name": "python"
    }
  },
  "cells": [
    {
      "cell_type": "markdown",
      "metadata": {
        "id": "view-in-github",
        "colab_type": "text"
      },
      "source": [
        "<a href=\"https://colab.research.google.com/github/rsaran-BioAI/AGILE/blob/main/FashionMNIST_VAE.ipynb\" target=\"_parent\"><img src=\"https://colab.research.google.com/assets/colab-badge.svg\" alt=\"Open In Colab\"/></a>"
      ]
    },
    {
      "cell_type": "markdown",
      "source": [
        "The key differences between the VAE and a standard autoencoder are:\n",
        "\n",
        "The encode function outputs two vectors (for mu and logvar). These represent the parameters of the Gaussian distribution from which we'll sample to obtain the latent vector.\n",
        "The reparameterize function takes mu and logvar and performs the \"reparameterization trick\" to allow for gradient descent to work.\n",
        "The loss_function is different. It combines reconstruction loss (BCE) with the KL divergence (KLD) between the learned latent distribution and the prior distribution, enforcing the latent space to assume a normal distribution which helps in generating new samples.\n",
        "The rest of the training and testing loop remains the same, but now includes the loss due to the KL divergence."
      ],
      "metadata": {
        "id": "ey0vUZxCaWWt"
      }
    },
    {
      "cell_type": "code",
      "source": [
        "import torch\n",
        "from torch import nn\n",
        "from torch.utils.data import DataLoader\n",
        "from torchvision import datasets\n",
        "from torchvision.transforms import ToTensor\n",
        "import torch.nn.functional as F"
      ],
      "metadata": {
        "id": "iq6ii2oIafGO"
      },
      "execution_count": 3,
      "outputs": []
    },
    {
      "cell_type": "markdown",
      "source": [
        "## Data Preparation"
      ],
      "metadata": {
        "id": "yn2-ApEGC-4N"
      }
    },
    {
      "cell_type": "code",
      "source": [
        "# Prepare the data\n",
        "training_data = datasets.FashionMNIST( # The datasets.FashionMNIST class is used to download and load the train dataset.\n",
        "    root=\"data\",\n",
        "    train=True,\n",
        "    download=True,\n",
        "    transform=ToTensor() # We transform the images to tensors using ToTensor()\n",
        ")\n",
        "\n",
        "test_data = datasets.FashionMNIST( # The datasets.FashionMNIST class is used to download and load the test dataset.\n",
        "    root=\"data\",\n",
        "    train=False,\n",
        "    download=True,\n",
        "    transform=ToTensor() # We transform the images to tensors using ToTensor()\n",
        ")"
      ],
      "metadata": {
        "id": "q56kMa0Jayjn"
      },
      "execution_count": 10,
      "outputs": []
    },
    {
      "cell_type": "code",
      "source": [
        "print(training_data)"
      ],
      "metadata": {
        "colab": {
          "base_uri": "https://localhost:8080/"
        },
        "id": "yjYaw7DaHSzU",
        "outputId": "c920ad85-9dbb-4e63-e3b9-6eb389b27077"
      },
      "execution_count": 11,
      "outputs": [
        {
          "output_type": "stream",
          "name": "stdout",
          "text": [
            "Dataset FashionMNIST\n",
            "    Number of datapoints: 60000\n",
            "    Root location: data\n",
            "    Split: Train\n",
            "    StandardTransform\n",
            "Transform: ToTensor()\n"
          ]
        }
      ]
    },
    {
      "cell_type": "code",
      "source": [
        "print(test_data)"
      ],
      "metadata": {
        "colab": {
          "base_uri": "https://localhost:8080/"
        },
        "id": "e9hrQI2SHtpm",
        "outputId": "e09fae29-ebe6-4d5a-e389-333937e3341b"
      },
      "execution_count": 12,
      "outputs": [
        {
          "output_type": "stream",
          "name": "stdout",
          "text": [
            "Dataset FashionMNIST\n",
            "    Number of datapoints: 10000\n",
            "    Root location: data\n",
            "    Split: Test\n",
            "    StandardTransform\n",
            "Transform: ToTensor()\n"
          ]
        }
      ]
    },
    {
      "cell_type": "code",
      "source": [
        "import matplotlib.pyplot as plt\n",
        "labels_map = {\n",
        "    0: \"T-Shirt\",\n",
        "    1: \"Trouser\",\n",
        "    2: \"Pullover\",\n",
        "    3: \"Dress\",\n",
        "    4: \"Coat\",\n",
        "    5: \"Sandal\",\n",
        "    6: \"Shirt\",\n",
        "    7: \"Sneaker\",\n",
        "    8: \"Bag\",\n",
        "    9: \"Ankle Boot\",\n",
        "}\n",
        "figure = plt.figure(figsize=(5, 5))\n",
        "cols, rows = 3, 3\n",
        "for i in range(1, cols * rows + 1):\n",
        "    sample_idx = torch.randint(len(training_data), size=(1,)).item()\n",
        "    img, label = training_data[sample_idx]\n",
        "    figure.add_subplot(rows, cols, i)\n",
        "    plt.title(labels_map[label])\n",
        "    plt.axis(\"off\")\n",
        "    plt.imshow(img.squeeze(), cmap=\"gray\")\n",
        "plt.show()"
      ],
      "metadata": {
        "colab": {
          "base_uri": "https://localhost:8080/",
          "height": 444
        },
        "id": "pGfUx0KaIVso",
        "outputId": "b3b5d2d7-9913-4320-e837-e5a70ed47e5c"
      },
      "execution_count": 17,
      "outputs": [
        {
          "output_type": "display_data",
          "data": {
            "text/plain": [
              "<Figure size 500x500 with 9 Axes>"
            ],
            "image/png": "[encoded data removed]"
          },
          "metadata": {}
        }
      ]
    },
    {
      "cell_type": "code",
      "source": [
        "# Preparing data with Data Loaders\n",
        "\n",
        "train_dataloader = DataLoader(training_data, batch_size=64) # The DataLoader class is used to wrap the training dataset, allowing for easy batching and shuffling.\n",
        "test_dataloader = DataLoader(test_data, batch_size=64) # The DataLoader class is used to wrap the test dataset, allowing for easy batching and shuffling."
      ],
      "metadata": {
        "id": "_PMvMaWKIQgB"
      },
      "execution_count": 18,
      "outputs": []
    },
    {
      "cell_type": "code",
      "source": [
        "# Iterating through the data loader\n",
        "\n",
        "for X, y in test_dataloader:\n",
        "    print(f\"Shape of X [N, C, H, W]: {X.shape}\")\n",
        "    print(f\"Shape of y: {y.shape} {y.dtype}\")\n",
        "    break"
      ],
      "metadata": {
        "colab": {
          "base_uri": "https://localhost:8080/"
        },
        "id": "FQziJGytI4p8",
        "outputId": "e4ae77c0-1c3d-47fc-ae7e-155eaf34d69b"
      },
      "execution_count": 19,
      "outputs": [
        {
          "output_type": "stream",
          "name": "stdout",
          "text": [
            "Shape of X [N, C, H, W]: torch.Size([64, 1, 28, 28])\n",
            "Shape of y: torch.Size([64]) torch.int64\n"
          ]
        }
      ]
    },
    {
      "cell_type": "code",
      "source": [
        "# Each iteration below returns a batch of train_features and train_labels (containing batch_size=64 features and labels respectively).\n",
        "#Because we specified shuffle=True, after we iterate over all batches the data is shuffled (for finer-grained control over the data loading order, take a look at Samplers).\n",
        "\n",
        "train_features, train_labels = next(iter(train_dataloader)) # This means that 'DataLoader' function returns two values: train_features and train_labels\n",
        "print(train_features)\n",
        "print(train_labels)\n",
        "print(f\"Feature batch shape: {train_features.size()}\")\n",
        "print(f\"Labels batch shape: {train_labels.size()}\")\n",
        "img = train_features[0].squeeze()\n",
        "label = train_labels[0]\n",
        "plt.imshow(img, cmap=\"gray\")\n",
        "plt.show()\n",
        "print(f\"Label: {label}\")"
      ],
      "metadata": {
        "colab": {
          "base_uri": "https://localhost:8080/",
          "height": 1000
        },
        "id": "shQrweUlJewV",
        "outputId": "0809528c-0a5f-45a4-b658-d31752cfcda4"
      },
      "execution_count": 20,
      "outputs": [
        {
          "output_type": "stream",
          "name": "stdout",
          "text": [
            "tensor([[[[0., 0., 0.,  ..., 0., 0., 0.],\n",
            "          [0., 0., 0.,  ..., 0., 0., 0.],\n",
            "          [0., 0., 0.,  ..., 0., 0., 0.],\n",
            "          ...,\n",
            "          [0., 0., 0.,  ..., 0., 0., 0.],\n",
            "          [0., 0., 0.,  ..., 0., 0., 0.],\n",
            "          [0., 0., 0.,  ..., 0., 0., 0.]]],\n",
            "\n",
            "\n",
            "        [[[0., 0., 0.,  ..., 0., 0., 0.],\n",
            "          [0., 0., 0.,  ..., 0., 0., 0.],\n",
            "          [0., 0., 0.,  ..., 0., 0., 0.],\n",
            "          ...,\n",
            "          [0., 0., 0.,  ..., 0., 0., 0.],\n",
            "          [0., 0., 0.,  ..., 0., 0., 0.],\n",
            "          [0., 0., 0.,  ..., 0., 0., 0.]]],\n",
            "\n",
            "\n",
            "        [[[0., 0., 0.,  ..., 0., 0., 0.],\n",
            "          [0., 0., 0.,  ..., 0., 0., 0.],\n",
            "          [0., 0., 0.,  ..., 0., 0., 0.],\n",
            "          ...,\n",
            "          [0., 0., 0.,  ..., 0., 0., 0.],\n",
            "          [0., 0., 0.,  ..., 0., 0., 0.],\n",
            "          [0., 0., 0.,  ..., 0., 0., 0.]]],\n",
            "\n",
            "\n",
            "        ...,\n",
            "\n",
            "\n",
            "        [[[0., 0., 0.,  ..., 0., 0., 0.],\n",
            "          [0., 0., 0.,  ..., 0., 0., 0.],\n",
            "          [0., 0., 0.,  ..., 0., 0., 0.],\n",
            "          ...,\n",
            "          [0., 0., 0.,  ..., 0., 0., 0.],\n",
            "          [0., 0., 0.,  ..., 0., 0., 0.],\n",
            "          [0., 0., 0.,  ..., 0., 0., 0.]]],\n",
            "\n",
            "\n",
            "        [[[0., 0., 0.,  ..., 0., 0., 0.],\n",
            "          [0., 0., 0.,  ..., 0., 0., 0.],\n",
            "          [0., 0., 0.,  ..., 0., 0., 0.],\n",
            "          ...,\n",
            "          [0., 0., 0.,  ..., 0., 0., 0.],\n",
            "          [0., 0., 0.,  ..., 0., 0., 0.],\n",
            "          [0., 0., 0.,  ..., 0., 0., 0.]]],\n",
            "\n",
            "\n",
            "        [[[0., 0., 0.,  ..., 0., 0., 0.],\n",
            "          [0., 0., 0.,  ..., 0., 0., 0.],\n",
            "          [0., 0., 0.,  ..., 0., 0., 0.],\n",
            "          ...,\n",
            "          [0., 0., 0.,  ..., 0., 0., 0.],\n",
            "          [0., 0., 0.,  ..., 0., 0., 0.],\n",
            "          [0., 0., 0.,  ..., 0., 0., 0.]]]])\n",
            "tensor([9, 0, 0, 3, 0, 2, 7, 2, 5, 5, 0, 9, 5, 5, 7, 9, 1, 0, 6, 4, 3, 1, 4, 8,\n",
            "        4, 3, 0, 2, 4, 4, 5, 3, 6, 6, 0, 8, 5, 2, 1, 6, 6, 7, 9, 5, 9, 2, 7, 3,\n",
            "        0, 3, 3, 3, 7, 2, 2, 6, 6, 8, 3, 3, 5, 0, 5, 5])\n",
            "Feature batch shape: torch.Size([64, 1, 28, 28])\n",
            "Labels batch shape: torch.Size([64])\n"
          ]
        },
        {
          "output_type": "display_data",
          "data": {
            "text/plain": [
              "<Figure size 640x480 with 1 Axes>"
            ],
            "image/png": "[encoded data removed]"
          },
          "metadata": {}
        },
        {
          "output_type": "stream",
          "name": "stdout",
          "text": [
            "Label: 9\n"
          ]
        }
      ]
    },
    {
      "cell_type": "code",
      "source": [
        "test_features, test_labels = next(iter(test_dataloader)) # This means that 'DataLoader' function returns two values: 'train_features' and 'train_labels'\n",
        "print(test_features)\n",
        "print(test_labels)\n",
        "print(f\"Feature batch shape: {test_features.size()}\")\n",
        "print(f\"Labels batch shape: {test_labels.size()}\")\n",
        "img = test_features[0].squeeze()\n",
        "label = test_labels[0]\n",
        "plt.imshow(img, cmap=\"gray\")\n",
        "plt.show()\n",
        "print(f\"Label: {label}\")"
      ],
      "metadata": {
        "colab": {
          "base_uri": "https://localhost:8080/",
          "height": 1000
        },
        "id": "DtACqXIaJpWe",
        "outputId": "e7177869-6a35-4943-a72a-26731bbf14a8"
      },
      "execution_count": 21,
      "outputs": [
        {
          "output_type": "stream",
          "name": "stdout",
          "text": [
            "tensor([[[[0., 0., 0.,  ..., 0., 0., 0.],\n",
            "          [0., 0., 0.,  ..., 0., 0., 0.],\n",
            "          [0., 0., 0.,  ..., 0., 0., 0.],\n",
            "          ...,\n",
            "          [0., 0., 0.,  ..., 0., 0., 0.],\n",
            "          [0., 0., 0.,  ..., 0., 0., 0.],\n",
            "          [0., 0., 0.,  ..., 0., 0., 0.]]],\n",
            "\n",
            "\n",
            "        [[[0., 0., 0.,  ..., 0., 0., 0.],\n",
            "          [0., 0., 0.,  ..., 0., 0., 0.],\n",
            "          [0., 0., 0.,  ..., 0., 0., 0.],\n",
            "          ...,\n",
            "          [0., 0., 0.,  ..., 0., 0., 0.],\n",
            "          [0., 0., 0.,  ..., 0., 0., 0.],\n",
            "          [0., 0., 0.,  ..., 0., 0., 0.]]],\n",
            "\n",
            "\n",
            "        [[[0., 0., 0.,  ..., 0., 0., 0.],\n",
            "          [0., 0., 0.,  ..., 0., 0., 0.],\n",
            "          [0., 0., 0.,  ..., 0., 0., 0.],\n",
            "          ...,\n",
            "          [0., 0., 0.,  ..., 0., 0., 0.],\n",
            "          [0., 0., 0.,  ..., 0., 0., 0.],\n",
            "          [0., 0., 0.,  ..., 0., 0., 0.]]],\n",
            "\n",
            "\n",
            "        ...,\n",
            "\n",
            "\n",
            "        [[[0., 0., 0.,  ..., 0., 0., 0.],\n",
            "          [0., 0., 0.,  ..., 0., 0., 0.],\n",
            "          [0., 0., 0.,  ..., 0., 0., 0.],\n",
            "          ...,\n",
            "          [0., 0., 0.,  ..., 0., 0., 0.],\n",
            "          [0., 0., 0.,  ..., 0., 0., 0.],\n",
            "          [0., 0., 0.,  ..., 0., 0., 0.]]],\n",
            "\n",
            "\n",
            "        [[[0., 0., 0.,  ..., 0., 0., 0.],\n",
            "          [0., 0., 0.,  ..., 0., 0., 0.],\n",
            "          [0., 0., 0.,  ..., 0., 0., 0.],\n",
            "          ...,\n",
            "          [0., 0., 0.,  ..., 0., 0., 0.],\n",
            "          [0., 0., 0.,  ..., 0., 0., 0.],\n",
            "          [0., 0., 0.,  ..., 0., 0., 0.]]],\n",
            "\n",
            "\n",
            "        [[[0., 0., 0.,  ..., 0., 0., 0.],\n",
            "          [0., 0., 0.,  ..., 0., 0., 0.],\n",
            "          [0., 0., 0.,  ..., 0., 0., 0.],\n",
            "          ...,\n",
            "          [0., 0., 0.,  ..., 0., 0., 0.],\n",
            "          [0., 0., 0.,  ..., 0., 0., 0.],\n",
            "          [0., 0., 0.,  ..., 0., 0., 0.]]]])\n",
            "tensor([9, 2, 1, 1, 6, 1, 4, 6, 5, 7, 4, 5, 7, 3, 4, 1, 2, 4, 8, 0, 2, 5, 7, 9,\n",
            "        1, 4, 6, 0, 9, 3, 8, 8, 3, 3, 8, 0, 7, 5, 7, 9, 6, 1, 3, 7, 6, 7, 2, 1,\n",
            "        2, 2, 4, 4, 5, 8, 2, 2, 8, 4, 8, 0, 7, 7, 8, 5])\n",
            "Feature batch shape: torch.Size([64, 1, 28, 28])\n",
            "Labels batch shape: torch.Size([64])\n"
          ]
        },
        {
          "output_type": "display_data",
          "data": {
            "text/plain": [
              "<Figure size 640x480 with 1 Axes>"
            ],
            "image/png": "[encoded data removed]"
          },
          "metadata": {}
        },
        {
          "output_type": "stream",
          "name": "stdout",
          "text": [
            "Label: 9\n"
          ]
        }
      ]
    },
    {
      "cell_type": "markdown",
      "source": [
        "## Building the Neural Network"
      ],
      "metadata": {
        "id": "9WfVY5ZnKGaf"
      }
    },
    {
      "cell_type": "code",
      "source": [
        "# Variational Autoencoder Definition\n",
        "class VAE(nn.Module): # 'VAE' inherits from 'nn.Module', which is the base class for all neural network modules in PyTorch.\n",
        "    def __init__(self):\n",
        "        super(VAE, self).__init__()\n",
        "\n",
        "        # Encoder\n",
        "        self.fc1 = nn.Linear(28*28, 400) # The encoder part of the VAE consists of two fully connected (Linear) layers that map the input image (flattened to 28*28 pixels) to a hidden layer of size 400.\n",
        "                                         # the flattening of the input image is done implicitly within the forward method of the VAE class instead of using a separate flatten method or layer.\n",
        "        # From this hidden layer, two separate fully connected layers (fc21 and fc22) output the mean and logarithm of variance for the latent space, respectively.\n",
        "        self.fc21 = nn.Linear(400, 20)  # Mean vector\n",
        "        self.fc22 = nn.Linear(400, 20)  # Variance vector (log_var)\n",
        "\n",
        "        # decoder\n",
        "        self.fc3 = nn.Linear(20, 400) # The decoder part consists of two fully connected layers that aim to reconstruct the image from the latent space representation.\n",
        "        self.fc4 = nn.Linear(400, 28*28)\n",
        "\n",
        "    def encode(self, x): # The encode function applies a ReLU activation to the output of the first layer, then it outputs the parameters for the latent distribution.\n",
        "        h1 = F.relu(self.fc1(x))\n",
        "        return self.fc21(h1), self.fc22(h1)\n",
        "\n",
        "    def reparameterize(self, mu, logvar): # reparameterize is a trick to allow backpropagation through random sampling. It adds a random element eps scaled by the standard deviation (std) to the mean mu.\n",
        "        std = torch.exp(0.5*logvar)\n",
        "        eps = torch.randn_like(std)\n",
        "        return mu + eps*std\n",
        "\n",
        "    def decode(self, z): # The decode function attempts to reconstruct the input data from the latent variable z.\n",
        "        h3 = F.relu(self.fc3(z))\n",
        "        return torch.sigmoid(self.fc4(h3))\n",
        "\n",
        "    def forward(self, x): # The forward method ties everything together.\n",
        "                          # It takes an input tensor x, computes the mu and logvar, then samples a z from the latent distribution, and finally returns the reconstructed input, as well as the mu and logvar for loss calculation.\n",
        "        mu, logvar = self.encode(x.view(-1, 28*28))\n",
        "        z = self.reparameterize(mu, logvar)\n",
        "        return self.decode(z), mu, logvar"
      ],
      "metadata": {
        "id": "w6sZV2cba49Q"
      },
      "execution_count": 22,
      "outputs": []
    },
    {
      "cell_type": "markdown",
      "source": [
        "## Instantiate the model"
      ],
      "metadata": {
        "id": "qwk-1wNIOh_O"
      }
    },
    {
      "cell_type": "code",
      "source": [
        "# Instantiate the model\n",
        "model = VAE() # This line creates an instance of the VAE class, which we have defined previously."
      ],
      "metadata": {
        "id": "C_NtDJckO3lR"
      },
      "execution_count": 23,
      "outputs": []
    },
    {
      "cell_type": "code",
      "source": [
        "# Loss function\n",
        "def loss_function(recon_x, x, mu, logvar):\n",
        "    BCE = F.binary_cross_entropy(recon_x, x.view(-1, 28*28), reduction='sum')\n",
        "    # KL divergence regularization term.\n",
        "    KLD = -0.5 * torch.sum(1 + logvar - mu.pow(2) - logvar.exp())\n",
        "    return BCE + KLD"
      ],
      "metadata": {
        "id": "VkolONBJbD2X"
      },
      "execution_count": 24,
      "outputs": []
    },
    {
      "cell_type": "markdown",
      "source": [
        "BCE - Binary Cross Entropy loss:\n",
        "- recon_x is the reconstructed output from the VAE after passing the input x through the encoder and then the decoder.\n",
        "- x.view(-1, 28*28) flattens the input images to match the shape of recon_x. This is necessary because recon_x is the output of the decoder which is a vector that represents the flattened image.\n",
        "The binary cross entropy loss measures the pixel-wise difference between the original and reconstructed images, treating each pixel as an independent Bernoulli distribution (which is a reasonable assumption for grayscale images after applying a sigmoid activation).\n",
        "- The reduction='sum' argument means that the BCE loss will be summed over all elements of the batch, rather than averaged.\n",
        "\n",
        "KLD - Kullback-Leibler Divergence loss:\n",
        "- This is a measure of how one probability distribution diverges from a second, expected probability distribution. For VAEs, it's used to regularize the encoder by comparing the distribution of latent variables it produces (described by mu and logvar) to a standard normal distribution.\n",
        "- logvar represents the logarithm of the variance of the latent distribution, and mu represents the mean of the latent distribution.\n",
        "- The formula -0.5 * torch.sum(1 + logvar - mu.pow(2) - logvar.exp()) computes the KL divergence loss for a normal distribution, which can be derived from the analytical solution for the KL divergence between two Gaussian distributions.\n",
        "\n",
        "The loss function returns the sum of the BCE and KLD terms. The BCE term encourages the reconstruction to match the original data, while the KLD term encourages the latent variables to follow a standard normal distribution, thereby ensuring a well-formed latent space"
      ],
      "metadata": {
        "id": "ldtQfiQzPFeA"
      }
    },
    {
      "cell_type": "code",
      "source": [
        "# Optimizer\n",
        "optimizer = torch.optim.Adam(model.parameters(), lr=1e-3)"
      ],
      "metadata": {
        "id": "xTd_g43RO8AD"
      },
      "execution_count": 25,
      "outputs": []
    },
    {
      "cell_type": "markdown",
      "source": [
        "This line creates an optimizer that will be used to update the weights of the model.\n",
        "- torch.optim.Adam: This specifies that we're using the Adam optimization algorithm. Adam is an adaptive learning rate optimization algorithm that's widely used in training deep neural networks because it combines the advantages of two other extensions of stochastic gradient descent: Adaptive Gradient Algorithm (AdaGrad) and Root Mean Square Propagation (RMSProp).\n",
        "- model.parameters(): This is a generator that returns an iterator over all variables (weights and biases) in the model that require a gradient. These are the parameters that will be updated by the optimizer.\n",
        "- lr=1e-3: The learning rate (lr) is set to 0.001. The learning rate is a hyperparameter that controls how much to change the model in response to the estimated error each time the model weights are updated. Choosing the right learning rate is crucial as it can make the model converge too slowly or cause it to oscillate around or diverge from the minimum loss.\n",
        "\n",
        "So, this line initializes the Adam optimizer with a learning rate of 0.001 to train the VAE. During training, this optimizer will be used to apply the gradients computed via backpropagation to adjust the model's weights with the aim of minimizing the loss function."
      ],
      "metadata": {
        "id": "xCT1hq29Prpa"
      }
    },
    {
      "cell_type": "code",
      "source": [
        "# Training Loop\n",
        "def train_loop(dataloader, model, loss_fn, optimizer): # This line defines a function named train_loop that takes four parameters:\n",
        "                                                       # dataloader: Provides batches of data from the training set.\n",
        "                                                       # model: The VAE model to be trained.\n",
        "                                                       # loss_fn: The loss function to use, which in the case of a VAE, usually combines reconstruction loss with KL divergence.\n",
        "                                                       # optimizer: The optimization algorithm to adjust model parameters.\n",
        "    model.train() # Before starting the loop, we set the model to training mode.\n",
        "                  # This is important because some models may use mechanisms like dropout or batch normalization that have distinct behaviors during training versus evaluation (testing).\n",
        "    train_loss = 0 # Initialize loss accumulator - This initializes a variable to accumulate the loss over all batches. This will be used to calculate the average loss at the end of the epoch.\n",
        "    for batch_idx, (data, _) in enumerate(dataloader): # Training loop over batches - This starts a loop over the dataloader, providing a batch index (batch_idx) and data\n",
        "                                                       # Each data item is a batch of images, and the _ is a placeholder for the labels, which are not needed for training an autoencoder.\n",
        "        optimizer.zero_grad() # Zero the parameter gradients - This resets all gradients in the model parameters before calculating the new gradients for the current batch.\n",
        "                              # If this step is skipped, gradients would accumulate across batches, which is not the desired behavior for most training scenarios.\n",
        "        recon_batch, mu, logvar = model(data) # Forward pass - This line runs a forward pass of the data through the model. The model returns the reconstructed batch, the mean mu, and the log variance logvar of the latent variables.\n",
        "        loss = loss_fn(recon_batch, data, mu, logvar) # Loss computation - The loss_fn is called with the model's output and the original data to compute the loss for the batch.\n",
        "                                                      # The function combines the reconstruction loss and the KL divergence loss.\n",
        "        loss.backward() # Backward pass - This computes the gradient of the loss with respect to the model parameters by backpropagation.\n",
        "        train_loss += loss.item() # Accumulate loss - Here, we add up the scalar loss of the current batch to the total train_loss for later calculation of the average loss.\n",
        "        optimizer.step() # Parameter update - This line updates the model parameters based on the gradients computed during .backward().\n",
        "\n",
        "        if batch_idx % 100 == 0: # Logging - This conditional statement checks if the batch index is a multiple of 100.\n",
        "                                 # If it is, it logs the current loss averaged over the data in the batch. This provides feedback on the training progress.\n",
        "            print(f\"Train Epoch: {batch_idx} Loss: {loss.item() / len(data):.6f}\")\n",
        "\n",
        "    print(f\"====> Epoch: Train loss: {train_loss / len(dataloader.dataset):.6f}\") # After all batches are processed, this line prints the average loss over the entire dataset.\n",
        "                                                                                  # The total train_loss is divided by the number of samples in the dataset (len(dataloader.dataset)) to get the average loss per sample."
      ],
      "metadata": {
        "id": "NQyHYvi3bHhP"
      },
      "execution_count": 27,
      "outputs": []
    },
    {
      "cell_type": "code",
      "source": [
        "# Testing Loop\n",
        "def test_loop(dataloader, model, loss_fn): # This line defines a function called test_loop that will be used to evaluate the model's performance on the test dataset. The function takes three parameters:\n",
        "                                           # dataloader: An iterator that provides batches of data from the test dataset.\n",
        "                                           # model: The VAE model that has been trained and will now be evaluated.\n",
        "                                           # loss_fn: The loss function that the model will be evaluated against.\n",
        "    model.eval() # This sets the model to evaluation mode. It's necessary because some models may use layers such as dropout or batch normalization which behave differently during training than during testing.\n",
        "    test_loss = 0 # Initialize Loss Accumulator - This initializes a variable to accumulate the total loss across all test data batches.\n",
        "    with torch.no_grad(): # Disable gradient calculations - This context manager tells PyTorch that no gradients should be calculated for the operations performed inside the block.\n",
        "                          # This is important during testing because it reduces memory consumption and increases computation speed since gradients are not needed.\n",
        "        for data, _ in dataloader: # Test Loop Over Batches - This loops over each batch in the dataloader.\n",
        "                                   # Here data contains the input images and _ is a placeholder for labels which are not used during the testing of an autoencoder.\n",
        "            recon_batch, mu, logvar = model(data) # Model Forward Pass - Within the loop, we pass the data through the model to get the reconstructed batch...\n",
        "                                                  # ...as well as the mu and logvar that represent the mean and logarithm of the variance of the latent distribution, respectively.\n",
        "            test_loss += loss_fn(recon_batch, data, mu, logvar).item() # Here, we compute the loss for the current batch using the loss_fn, which is typically the same loss function used during training...\n",
        "                                                                       # ...combining reconstruction error and KL divergence.\n",
        "                                                                       # We add the loss for the current batch to the total test_loss. The .item() method is used to get the scalar value of the loss tensor.\n",
        "\n",
        "    test_loss /= len(dataloader.dataset)\n",
        "    print(f\"====> Test set loss: {test_loss:.6f}\")"
      ],
      "metadata": {
        "id": "QbziJ60zaGTM"
      },
      "execution_count": 28,
      "outputs": []
    },
    {
      "cell_type": "code",
      "source": [
        "# Train the VAE\n",
        "epochs = 10\n",
        "for epoch in range(1, epochs + 1):\n",
        "    train_loop(train_dataloader, model, loss_function, optimizer)"
      ],
      "metadata": {
        "id": "E0KUASo0S3j0"
      },
      "execution_count": null,
      "outputs": []
    },
    {
      "cell_type": "code",
      "source": [
        "test_loop(test_dataloader, model, loss_function)"
      ],
      "metadata": {
        "colab": {
          "base_uri": "https://localhost:8080/"
        },
        "id": "vreual7ObUgJ",
        "outputId": "7e7d82fa-4ea3-40cb-db51-01450a65427a"
      },
      "execution_count": 10,
      "outputs": [
        {
          "output_type": "stream",
          "name": "stdout",
          "text": [
            "====> Test set loss: 243.320911\n"
          ]
        }
      ]
    }
  ]
}